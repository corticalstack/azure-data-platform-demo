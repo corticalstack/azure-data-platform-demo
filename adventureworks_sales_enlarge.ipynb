{
 "cells": [
  {
   "cell_type": "code",
   "execution_count": null,
   "metadata": {},
   "outputs": [],
   "source": [
    "from IPython.display import display, HTML\n",
    "import numpy as np\n",
    "import pandas as pd\n",
    "import sqlalchemy as sa\n",
    "import matplotlib.pyplot as plt\n",
    "import datetime\n",
    "import random\n",
    "import os"
   ]
  },
  {
   "cell_type": "code",
   "execution_count": null,
   "metadata": {},
   "outputs": [],
   "source": [
    "server = 'cs-eur-research-dp-olap-synw.sql.azuresynapse.net'\n",
    "database = 'sqlpool01'\n",
    "username = 'sqladminuser'\n",
    "password = 'BeanieBoblets1234'   \n",
    "driver= '{ODBC Driver 18 for SQL Server}'\n",
    "port = os.getenv('PORT',default=1433)"
   ]
  },
  {
   "cell_type": "code",
   "execution_count": null,
   "metadata": {},
   "outputs": [],
   "source": [
    "connection_url = sa.engine.URL.create(\n",
    "    \"mssql+pyodbc\",\n",
    "    username=username,\n",
    "    password=password,\n",
    "    host=server,\n",
    "    database=database,\n",
    "    query={\n",
    "        \"driver\": \"ODBC Driver 18 for SQL Server\",\n",
    "        \"autocommit\": \"True\",\n",
    "    },\n",
    ")\n",
    "engine = sa.create_engine(connection_url, fast_executemany=True)"
   ]
  },
  {
   "cell_type": "code",
   "execution_count": null,
   "metadata": {},
   "outputs": [],
   "source": [
    "df_soh = pd.read_sql_table('sales_order_header', engine, schema=\"AdventureWorks\")\n",
    "print(df_soh.columns)\n",
    "display(df_soh)"
   ]
  },
  {
   "cell_type": "code",
   "execution_count": null,
   "metadata": {},
   "outputs": [],
   "source": [
    "df_sod = pd.read_sql_table('sales_order_detail', engine, schema=\"AdventureWorks\")\n",
    "print(df_sod.columns)\n",
    "display(df_sod)"
   ]
  },
  {
   "cell_type": "code",
   "execution_count": null,
   "metadata": {},
   "outputs": [],
   "source": [
    "#cnxn = pyodbc.connect('DRIVER='+driver+';SERVER=tcp:'+server+';PORT=1433;DATABASE='+database+';UID='+username+';PWD='+ password)\n",
    "#cursor = cnxn.cursor()"
   ]
  },
  {
   "cell_type": "code",
   "execution_count": null,
   "metadata": {},
   "outputs": [],
   "source": [
    "#sql = \"SELECT * from AdventureWorks.sales_order_header\"\n",
    "#df_soh = pd.read_sql(sql, cnxn)\n",
    "#print(df_soh.columns)\n",
    "#display(df_soh)"
   ]
  },
  {
   "cell_type": "code",
   "execution_count": null,
   "metadata": {},
   "outputs": [],
   "source": [
    "#sql = \"SELECT * from AdventureWorks.sales_order_detail\"\n",
    "#df_sod = pd.read_sql(sql, cnxn)\n",
    "#print(df_sod.columns)\n",
    "#display(df_sod)"
   ]
  },
  {
   "cell_type": "code",
   "execution_count": null,
   "metadata": {},
   "outputs": [],
   "source": [
    "# Get distinct customers\n",
    "df_customers = df_soh[['AccountNumber', 'CustomerID', 'ShipToAddressID', 'BillToAddressID', 'ShipMethod', 'CreditCardApprovalCode']].copy()\n",
    "df_customers.drop_duplicates(inplace=True)\n",
    "display(df_customers)\n"
   ]
  },
  {
   "cell_type": "code",
   "execution_count": null,
   "metadata": {},
   "outputs": [],
   "source": [
    "# Get distinct products\n",
    "df_products = df_sod[['ProductID', 'UnitPrice',\t'UnitPriceDiscount']].copy()\n",
    "df_products.drop_duplicates(inplace=True)\n",
    "display(df_products)"
   ]
  },
  {
   "cell_type": "code",
   "execution_count": null,
   "metadata": {},
   "outputs": [],
   "source": [
    "# Create stochastic increasing sales model \n",
    "start_date = datetime.date(2020, 1, 1)\n",
    "end_date = datetime.date(2022, 4, 2)\n",
    "date_delta = end_date - start_date\n",
    "date_delta.days\n",
    "\n",
    "mu = 0.002\n",
    "sigma = 0.01\n",
    "start_qty_orders_per_day = 5\n",
    "\n",
    "np.random.seed(0)\n",
    "returns = np.random.normal(loc=mu, scale=sigma, size=date_delta.days)\n",
    "qty_orders_per_day = start_qty_orders_per_day*(1+returns).cumprod()\n",
    "\n",
    "print(qty_orders_per_day)\n",
    "plt.plot(qty_orders_per_day)"
   ]
  },
  {
   "cell_type": "code",
   "execution_count": null,
   "metadata": {},
   "outputs": [],
   "source": [
    "qty_orders_per_day= [int(qty) for qty in qty_orders_per_day]\n",
    "print(qty_orders_per_day)"
   ]
  },
  {
   "cell_type": "code",
   "execution_count": null,
   "metadata": {},
   "outputs": [],
   "source": [
    "sales_order_id = 0\n",
    "sales_order_detail_id = 0\n",
    "revision_number = 2\n"
   ]
  },
  {
   "cell_type": "code",
   "execution_count": null,
   "metadata": {},
   "outputs": [],
   "source": [
    "# Create new enlarged dataframes as copies oof originals but only column/datatype definitions\n",
    "df_soh_enlarged = df_soh.iloc[:0].copy()\n",
    "df_sod_enlarged = df_sod.iloc[:0].copy()\n",
    "print(df_soh_enlarged.columns)\n",
    "print(df_sod_enlarged.columns)\n"
   ]
  },
  {
   "cell_type": "code",
   "execution_count": null,
   "metadata": {},
   "outputs": [],
   "source": [
    "for _, i in enumerate(range(date_delta.days)):\n",
    "    order_date = start_date + datetime.timedelta(days=i)\n",
    "    ship_date = start_date + datetime.timedelta(days= i + 1)\n",
    "    due_date = start_date + datetime.timedelta(days= i + 7)\n",
    "    order_date_as_timestamp = pd.Timestamp(order_date)\n",
    "    ship_date_as_timestamp = pd.Timestamp(ship_date)\n",
    "    due_date_as_timestamp = pd.Timestamp(due_date)\n",
    "    \n",
    "    for _, ord in enumerate(range(qty_orders_per_day[i])):\n",
    "        sales_order_id += 1\n",
    "        sales_order_number = 'SO' + str(sales_order_id)\n",
    "        sales_order_sub_total = 0\n",
    "\n",
    "        number_order_detail_lines = random.randint(1, 3)\n",
    "        df_random_customer = df_customers.sample(n=1,replace=True)  # Select 1 random customer and allow this customer to be reselected\n",
    "\n",
    "        for _, det in enumerate(range(number_order_detail_lines)):\n",
    "            sales_order_detail_id += 1\n",
    "            df_random_product = df_products.sample(n=1,replace=True)  # Select 1 random product and allow it to be reselected\n",
    "            product_id = df_random_product['ProductID'].iloc[0]\n",
    "            unit_price = df_random_product['UnitPrice'].iloc[0]\n",
    "            unit_price_discount = df_random_product['UnitPriceDiscount'].iloc[0]\n",
    "            order_qty = random.randint(1, 5)\n",
    "            line_total = (unit_price - (unit_price * unit_price_discount)) * order_qty\n",
    "            \n",
    "            sales_order_sub_total += line_total\n",
    "            \n",
    "            new_detail = {'SalesOrderID': sales_order_id, \n",
    "                          'SalesOrderDetailID': sales_order_detail_id, \n",
    "                          'OrderQty': order_qty, \n",
    "                          'ProductID':product_id,\n",
    "                          'UnitPrice': unit_price,\n",
    "                          'UnitPriceDiscount': unit_price_discount, \n",
    "                          'LineTotal': line_total, \n",
    "                          'rowguid': '',\n",
    "                          'ModifiedDate':order_date_as_timestamp}\n",
    "            \n",
    "            df_sod_enlarged = df_sod_enlarged.append(new_detail, ignore_index=True)\n",
    "        \n",
    "        tax_amount = sales_order_sub_total * 0.079\n",
    "        freight_amount = sales_order_sub_total * 0.02\n",
    "        \n",
    "        new_header = {'SalesOrderID': sales_order_id, \n",
    "                      'RevisionNumber': 2, \n",
    "                      'OrderDate': order_date_as_timestamp, \n",
    "                      'DueDate': due_date_as_timestamp, \n",
    "                      'ShipDate': ship_date_as_timestamp,\n",
    "                      'Status': 5, \n",
    "                      'OnlineOrderFlag': 1, \n",
    "                      'SalesOrderNumber': sales_order_number, \n",
    "                      'PurchaseOrderNumber': \"\",\n",
    "                      'AccountNumber': df_random_customer['AccountNumber'].iloc[0], \n",
    "                      'CustomerID': df_random_customer['CustomerID'].iloc[0], \n",
    "                      'ShipToAddressID': df_random_customer['ShipToAddressID'].iloc[0],\n",
    "                      'BillToAddressID': df_random_customer['BillToAddressID'].iloc[0],\n",
    "                      'ShipMethod': \"CARGO TRANSPORT\", \n",
    "                      'CreditCardApprovalCode': '5', \n",
    "                      'SubTotal': sales_order_sub_total, \n",
    "                      'TaxAmt': tax_amount,\n",
    "                      'Freight': freight_amount,\n",
    "                      'TotalDue': sales_order_sub_total + tax_amount + freight_amount, \n",
    "                      'Comment': \"\", \n",
    "                      'rowguid': \"\", \n",
    "                      'ModifiedDate': order_date_as_timestamp, \n",
    "                      'OrderYear': \"\",\n",
    "                      'OrderMonth': \"\"}\n",
    "        \n",
    "        df_soh_enlarged = df_soh_enlarged.append(new_header, ignore_index=True)"
   ]
  },
  {
   "cell_type": "code",
   "execution_count": null,
   "metadata": {},
   "outputs": [],
   "source": [
    "display(df_soh_enlarged[:5])"
   ]
  },
  {
   "cell_type": "code",
   "execution_count": null,
   "metadata": {},
   "outputs": [],
   "source": [
    "print(len(df_soh_enlarged))"
   ]
  },
  {
   "cell_type": "code",
   "execution_count": null,
   "metadata": {},
   "outputs": [],
   "source": [
    "display(df_sod_enlarged[:5])"
   ]
  },
  {
   "cell_type": "code",
   "execution_count": null,
   "metadata": {},
   "outputs": [],
   "source": [
    "print(len(df_sod_enlarged))"
   ]
  },
  {
   "cell_type": "code",
   "execution_count": null,
   "metadata": {},
   "outputs": [],
   "source": [
    "df_soh_enlarged.to_sql(\"sales_order_header_enlarged\", engine, schema=\"AdventureWorks\", if_exists='replace', index=False, dtype={\n",
    "    'SalesOrderNumber': sa.types.NVARCHAR(255),\n",
    "    'PurchaseOrderNumber': sa.types.NVARCHAR(255),\n",
    "    'AccountNumber': sa.types.NVARCHAR(255),\n",
    "    'ShipMethod': sa.types.NVARCHAR(255),\n",
    "    'CreditCardApprovalCode': sa.types.NVARCHAR(255),\n",
    "\t'Comment': sa.types.NVARCHAR(255),\n",
    "\t'rowguid': sa.types.NVARCHAR(255),\n",
    "\t'ModifiedDate': sa.types.NVARCHAR(255), \n",
    "\t'OrderYear': sa.types.NVARCHAR(255), \n",
    "\t'OrderMonth': sa.types.NVARCHAR(255)\n",
    "})"
   ]
  },
  {
   "cell_type": "code",
   "execution_count": null,
   "metadata": {},
   "outputs": [],
   "source": [
    "df_sod_enlarged.to_sql(\"sales_order_detail_enlarged\", engine, schema=\"AdventureWorks\", if_exists='replace', index=False, dtype={\n",
    "\t'rowguid': sa.types.NVARCHAR(255),\n",
    "})"
   ]
  },
  {
   "cell_type": "code",
   "execution_count": null,
   "metadata": {},
   "outputs": [],
   "source": [
    "for index, row in df_soh_enlarged.iterrows():\n",
    "     cursor.execute(\"INSERT INTO [AdventureWorks].[sales_order_header_enlarged] ('SalesOrderID', 'RevisionNumber', 'OrderDate', 'DueDate', 'ShipDate', 'Status', 'OnlineOrderFlag', 'SalesOrderNumber', 'PurchaseOrderNumber','AccountNumber', 'CustomerID', 'ShipToAddressID', 'BillToAddressID', 'ShipMethod', 'CreditCardApprovalCode', 'SubTotal', 'TaxAmt', 'Freight', 'TotalDue', 'Comment', 'rowguid', 'ModifiedDate', 'OrderYear', 'OrderMonth') values(?,?,?, ?, ?, ?, ?, ?, ?, ?, ?, ?, ?, ?, ?, ?, ?, ?, ?, ?, ?, ?, ?, ?)\", \n",
    "          row.SalesOrderID, row.RevisionNumber, row.OrderDate, row.DueDate, row.ShipDate, row.Status, row.OnlineOrderFlag, row.SalesOrderNumber, row.PurchaseOrderNumber,row.AccountNumber, row.CustomerID, row.ShipToAddressID, row.BillToAddressID, \n",
    "          row.ShipMethod, row.CreditCardApprovalCode, row.SubTotal, row.TaxAmt, row.Freight, row.TotalDue, row.Comment, row.rowguid, row.ModifiedDate, row.OrderYear, row.OrderMonth)"
   ]
  }
 ],
 "metadata": {
  "interpreter": {
   "hash": "a488b4fc9493fa11fcf4e7f235cf3bd3ae3239b733f7d281fc2cab1b98e477f5"
  },
  "kernelspec": {
   "display_name": "Python 3.8.10 ('venv': venv)",
   "language": "python",
   "name": "python3"
  },
  "language_info": {
   "codemirror_mode": {
    "name": "ipython",
    "version": 3
   },
   "file_extension": ".py",
   "mimetype": "text/x-python",
   "name": "python",
   "nbconvert_exporter": "python",
   "pygments_lexer": "ipython3",
   "version": "3.8.10"
  },
  "orig_nbformat": 4
 },
 "nbformat": 4,
 "nbformat_minor": 2
}
