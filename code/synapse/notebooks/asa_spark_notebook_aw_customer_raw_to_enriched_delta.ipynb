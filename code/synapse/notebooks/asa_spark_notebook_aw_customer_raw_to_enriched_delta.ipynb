{
  "nbformat": 4,
  "nbformat_minor": 2,
  "metadata": {
    "kernelspec": {
      "name": "synapse_pyspark",
      "display_name": "Synapse PySpark"
    },
    "language_info": {
      "name": "python"
    },
    "description": null,
    "save_output": true,
    "synapse_widget": {
      "version": "0.1",
      "state": {
        "729befe8-fec7-440d-b6cf-1bbaa3104b53": {
          "type": "Synapse.DataFrame",
          "sync_state": {
            "table": {
              "rows": [
                {
                  "0": "abfss://raw@csresearchdpolaplakest.dfs.core.windows.net/erpcore/AdventureWorks/Customer/Year=2022/Month=04/Day=07/Time=09:48:11/Customer.csv",
                  "1": "Customer.csv",
                  "2": "217984"
                }
              ],
              "schema": [
                {
                  "key": "0",
                  "name": "path",
                  "type": "string"
                },
                {
                  "key": "1",
                  "name": "name",
                  "type": "string"
                },
                {
                  "key": "2",
                  "name": "size",
                  "type": "bigint"
                }
              ],
              "truncated": false
            },
            "isSummary": false,
            "language": "scala"
          },
          "persist_state": {
            "view": {
              "type": "details",
              "tableOptions": {},
              "chartOptions": {
                "chartType": "bar",
                "aggregationType": "sum",
                "categoryFieldKeys": [
                  "0"
                ],
                "seriesFieldKeys": [
                  "2"
                ],
                "isStacked": false
              }
            }
          }
        },
        "47c1da0b-ee60-4233-9ebc-cb3845245d23": {
          "type": "Synapse.DataFrame",
          "sync_state": {
            "table": {
              "rows": [
                {
                  "0": "1",
                  "1": "false",
                  "2": "Mr.",
                  "3": "Orlando",
                  "4": "N.",
                  "5": "Gee",
                  "7": "A Bike Store",
                  "8": "adventure-works\\pamela0",
                  "9": "orlando0@adventure-works.com",
                  "10": "245-555-0173",
                  "11": "L/Rlwxzp4w7RWmEgXX+/A7cXaePEPcp+KwQhl2fJL7w=",
                  "12": "1KjXYs4=",
                  "13": "3f5ae95e-b87d-4aed-95b4-c3797afcb74f",
                  "14": "2005-08-01 00:00:00.0000000"
                },
                {
                  "0": "2",
                  "1": "false",
                  "2": "Mr.",
                  "3": "Keith",
                  "5": "Harris",
                  "7": "Progressive Sports",
                  "8": "adventure-works\\david8",
                  "9": "keith0@adventure-works.com",
                  "10": "170-555-0127",
                  "11": "YPdtRdvqeAhj6wyxEsFdshBDNXxkCXn+CRgbvJItknw=",
                  "12": "fs1ZGhY=",
                  "13": "e552f657-a9af-4a7d-a645-c429d6e02491",
                  "14": "2006-08-01 00:00:00.0000000"
                },
                {
                  "0": "3",
                  "1": "false",
                  "2": "Ms.",
                  "3": "Donna",
                  "4": "F.",
                  "5": "Carreras",
                  "7": "Advanced Bike Components",
                  "8": "adventure-works\\jillian0",
                  "9": "donna0@adventure-works.com",
                  "10": "279-555-0130",
                  "11": "LNoK27abGQo48gGue3EBV/UrlYSToV0/s87dCRV7uJk=",
                  "12": "YTNH5Rw=",
                  "13": "130774b1-db21-4ef3-98c8-c104bcd6ed6d",
                  "14": "2005-09-01 00:00:00.0000000"
                },
                {
                  "0": "4",
                  "1": "false",
                  "2": "Ms.",
                  "3": "Janet",
                  "4": "M.",
                  "5": "Gates",
                  "7": "Modular Cycle Systems",
                  "8": "adventure-works\\jillian0",
                  "9": "janet1@adventure-works.com",
                  "10": "710-555-0173",
                  "11": "ElzTpSNbUW1Ut+L5cWlfR7MF6nBZia8WpmGaQPjLOJA=",
                  "12": "nm7D5e4=",
                  "13": "ff862851-1daa-4044-be7c-3e85583c054d",
                  "14": "2006-07-01 00:00:00.0000000"
                },
                {
                  "0": "5",
                  "1": "false",
                  "2": "Mr.",
                  "3": "Lucy",
                  "5": "Harrington",
                  "7": "Metropolitan Sports Supply",
                  "8": "adventure-works\\shu0",
                  "9": "lucy0@adventure-works.com",
                  "10": "828-555-0186",
                  "11": "KJqV15wsX3PG8TS5GSddp6LFFVdd3CoRftZM/tP0+R4=",
                  "12": "cNFKU4w=",
                  "13": "83905bdc-6f5e-4f71-b162-c98da069f38a",
                  "14": "2006-09-01 00:00:00.0000000"
                },
                {
                  "0": "6",
                  "1": "false",
                  "2": "Ms.",
                  "3": "Rosmarie",
                  "4": "J.",
                  "5": "Carroll",
                  "7": "Aerobic Exercise Company",
                  "8": "adventure-works\\linda3",
                  "9": "rosmarie0@adventure-works.com",
                  "10": "244-555-0112",
                  "11": "OKT0scizCdIzymHHOtyJKQiC/fCILSooSZ8dQ2Y34VM=",
                  "12": "ihWf50M=",
                  "13": "1a92df88-bfa2-467d-bd54-fcb9e647fdd7",
                  "14": "2007-09-01 00:00:00.0000000"
                },
                {
                  "0": "7",
                  "1": "false",
                  "2": "Mr.",
                  "3": "Dominic",
                  "4": "P.",
                  "5": "Gash",
                  "7": "Associated Bikes",
                  "8": "adventure-works\\shu0",
                  "9": "dominic0@adventure-works.com",
                  "10": "192-555-0173",
                  "11": "ZccoP/jZGQm+Xpzc7RKwDhS11YFNybwcPVRYTSNcnSg=",
                  "12": "sPoUBSQ=",
                  "13": "03e9273e-b193-448e-9823-fe0c44aeed78",
                  "14": "2006-07-01 00:00:00.0000000"
                },
                {
                  "0": "10",
                  "1": "false",
                  "2": "Ms.",
                  "3": "Kathleen",
                  "4": "M.",
                  "5": "Garza",
                  "7": "Rural Cycle Emporium",
                  "8": "adventure-works\\josé1",
                  "9": "kathleen0@adventure-works.com",
                  "10": "150-555-0127",
                  "11": "Qa3aMCxNbVLGrc0b99KsbQqiVgwYDfHcsK9GZSUxcTM=",
                  "12": "Ls05W3g=",
                  "13": "cdb6698d-2ff1-4fba-8f22-60ad1d11dabd",
                  "14": "2006-09-01 00:00:00.0000000"
                },
                {
                  "0": "11",
                  "1": "false",
                  "2": "Ms.",
                  "3": "Katherine",
                  "5": "Harding",
                  "7": "Sharp Bikes",
                  "8": "adventure-works\\josé1",
                  "9": "katherine0@adventure-works.com",
                  "10": "926-555-0159",
                  "11": "uRlorVzDGNJIX9I+ehTlRK+liT4UKRgWhApJgUMC2d4=",
                  "12": "jpHKbqE=",
                  "13": "750f3495-59c4-48a0-80e1-e37ec60e77d9",
                  "14": "2005-08-01 00:00:00.0000000"
                },
                {
                  "0": "12",
                  "1": "false",
                  "2": "Mr.",
                  "3": "Johnny",
                  "4": "A.",
                  "5": "Caprio",
                  "6": "Jr.",
                  "7": "Bikes and Motorbikes",
                  "8": "adventure-works\\garrett1",
                  "9": "johnny0@adventure-works.com",
                  "10": "112-555-0191",
                  "11": "jtF9jBoFYeJTaET7x+eJDkd7BzMz15Wo9odbGPBaIak=",
                  "12": "wVLnvHo=",
                  "13": "947bcaf1-1f32-44f3-b9c3-0011f95fbe54",
                  "14": "2006-08-01 00:00:00.0000000"
                }
              ],
              "schema": [
                {
                  "key": "0",
                  "name": "CustomerID",
                  "type": "int"
                },
                {
                  "key": "1",
                  "name": "NameStyle",
                  "type": "boolean"
                },
                {
                  "key": "2",
                  "name": "Title",
                  "type": "string"
                },
                {
                  "key": "3",
                  "name": "FirstName",
                  "type": "string"
                },
                {
                  "key": "4",
                  "name": "MiddleName",
                  "type": "string"
                },
                {
                  "key": "5",
                  "name": "LastName",
                  "type": "string"
                },
                {
                  "key": "6",
                  "name": "Suffix",
                  "type": "string"
                },
                {
                  "key": "7",
                  "name": "CompanyName",
                  "type": "string"
                },
                {
                  "key": "8",
                  "name": "SalesPerson",
                  "type": "string"
                },
                {
                  "key": "9",
                  "name": "EmailAddress",
                  "type": "string"
                },
                {
                  "key": "10",
                  "name": "Phone",
                  "type": "string"
                },
                {
                  "key": "11",
                  "name": "PasswordHash",
                  "type": "string"
                },
                {
                  "key": "12",
                  "name": "PasswordSalt",
                  "type": "string"
                },
                {
                  "key": "13",
                  "name": "rowguid",
                  "type": "string"
                },
                {
                  "key": "14",
                  "name": "ModifiedDate",
                  "type": "string"
                }
              ],
              "truncated": false
            },
            "isSummary": false,
            "language": "scala"
          },
          "persist_state": {
            "view": {
              "type": "details",
              "tableOptions": {},
              "chartOptions": {
                "chartType": "bar",
                "aggregationType": "sum",
                "categoryFieldKeys": [
                  "1"
                ],
                "seriesFieldKeys": [
                  "0"
                ],
                "isStacked": false
              }
            }
          }
        },
        "0cc79cc2-7f68-4499-a4b0-cb214d427c8b": {
          "type": "Synapse.DataFrame",
          "sync_state": {
            "table": {
              "rows": [
                {
                  "0": "1",
                  "1": "false",
                  "2": "Mr.",
                  "3": "Orlando",
                  "4": "N.",
                  "5": "Gee",
                  "6": "",
                  "7": "A Bike Store",
                  "8": "adventure-works\\pamela0",
                  "9": "orlando0@adventure-works.com",
                  "10": "245-555-0173",
                  "11": "L/Rlwxzp4w7RWmEgXX+/A7cXaePEPcp+KwQhl2fJL7w=",
                  "12": "1KjXYs4=",
                  "13": "3f5ae95e-b87d-4aed-95b4-c3797afcb74f",
                  "14": "2005-08-01 00:00:00.0000000"
                },
                {
                  "0": "2",
                  "1": "false",
                  "2": "Mr.",
                  "3": "Keith",
                  "4": "",
                  "5": "Harris",
                  "6": "",
                  "7": "Progressive Sports",
                  "8": "adventure-works\\david8",
                  "9": "keith0@adventure-works.com",
                  "10": "170-555-0127",
                  "11": "YPdtRdvqeAhj6wyxEsFdshBDNXxkCXn+CRgbvJItknw=",
                  "12": "fs1ZGhY=",
                  "13": "e552f657-a9af-4a7d-a645-c429d6e02491",
                  "14": "2006-08-01 00:00:00.0000000"
                },
                {
                  "0": "3",
                  "1": "false",
                  "2": "Ms.",
                  "3": "Donna",
                  "4": "F.",
                  "5": "Carreras",
                  "6": "",
                  "7": "Advanced Bike Components",
                  "8": "adventure-works\\jillian0",
                  "9": "donna0@adventure-works.com",
                  "10": "279-555-0130",
                  "11": "LNoK27abGQo48gGue3EBV/UrlYSToV0/s87dCRV7uJk=",
                  "12": "YTNH5Rw=",
                  "13": "130774b1-db21-4ef3-98c8-c104bcd6ed6d",
                  "14": "2005-09-01 00:00:00.0000000"
                },
                {
                  "0": "4",
                  "1": "false",
                  "2": "Ms.",
                  "3": "Janet",
                  "4": "M.",
                  "5": "Gates",
                  "6": "",
                  "7": "Modular Cycle Systems",
                  "8": "adventure-works\\jillian0",
                  "9": "janet1@adventure-works.com",
                  "10": "710-555-0173",
                  "11": "ElzTpSNbUW1Ut+L5cWlfR7MF6nBZia8WpmGaQPjLOJA=",
                  "12": "nm7D5e4=",
                  "13": "ff862851-1daa-4044-be7c-3e85583c054d",
                  "14": "2006-07-01 00:00:00.0000000"
                },
                {
                  "0": "5",
                  "1": "false",
                  "2": "Mr.",
                  "3": "Lucy",
                  "4": "",
                  "5": "Harrington",
                  "6": "",
                  "7": "Metropolitan Sports Supply",
                  "8": "adventure-works\\shu0",
                  "9": "lucy0@adventure-works.com",
                  "10": "828-555-0186",
                  "11": "KJqV15wsX3PG8TS5GSddp6LFFVdd3CoRftZM/tP0+R4=",
                  "12": "cNFKU4w=",
                  "13": "83905bdc-6f5e-4f71-b162-c98da069f38a",
                  "14": "2006-09-01 00:00:00.0000000"
                },
                {
                  "0": "6",
                  "1": "false",
                  "2": "Ms.",
                  "3": "Rosmarie",
                  "4": "J.",
                  "5": "Carroll",
                  "6": "",
                  "7": "Aerobic Exercise Company",
                  "8": "adventure-works\\linda3",
                  "9": "rosmarie0@adventure-works.com",
                  "10": "244-555-0112",
                  "11": "OKT0scizCdIzymHHOtyJKQiC/fCILSooSZ8dQ2Y34VM=",
                  "12": "ihWf50M=",
                  "13": "1a92df88-bfa2-467d-bd54-fcb9e647fdd7",
                  "14": "2007-09-01 00:00:00.0000000"
                },
                {
                  "0": "7",
                  "1": "false",
                  "2": "Mr.",
                  "3": "Dominic",
                  "4": "P.",
                  "5": "Gash",
                  "6": "",
                  "7": "Associated Bikes",
                  "8": "adventure-works\\shu0",
                  "9": "dominic0@adventure-works.com",
                  "10": "192-555-0173",
                  "11": "ZccoP/jZGQm+Xpzc7RKwDhS11YFNybwcPVRYTSNcnSg=",
                  "12": "sPoUBSQ=",
                  "13": "03e9273e-b193-448e-9823-fe0c44aeed78",
                  "14": "2006-07-01 00:00:00.0000000"
                },
                {
                  "0": "10",
                  "1": "false",
                  "2": "Ms.",
                  "3": "Kathleen",
                  "4": "M.",
                  "5": "Garza",
                  "6": "",
                  "7": "Rural Cycle Emporium",
                  "8": "adventure-works\\josé1",
                  "9": "kathleen0@adventure-works.com",
                  "10": "150-555-0127",
                  "11": "Qa3aMCxNbVLGrc0b99KsbQqiVgwYDfHcsK9GZSUxcTM=",
                  "12": "Ls05W3g=",
                  "13": "cdb6698d-2ff1-4fba-8f22-60ad1d11dabd",
                  "14": "2006-09-01 00:00:00.0000000"
                },
                {
                  "0": "11",
                  "1": "false",
                  "2": "Ms.",
                  "3": "Katherine",
                  "4": "",
                  "5": "Harding",
                  "6": "",
                  "7": "Sharp Bikes",
                  "8": "adventure-works\\josé1",
                  "9": "katherine0@adventure-works.com",
                  "10": "926-555-0159",
                  "11": "uRlorVzDGNJIX9I+ehTlRK+liT4UKRgWhApJgUMC2d4=",
                  "12": "jpHKbqE=",
                  "13": "750f3495-59c4-48a0-80e1-e37ec60e77d9",
                  "14": "2005-08-01 00:00:00.0000000"
                },
                {
                  "0": "12",
                  "1": "false",
                  "2": "Mr.",
                  "3": "Johnny",
                  "4": "A.",
                  "5": "Caprio",
                  "6": "Jr.",
                  "7": "Bikes and Motorbikes",
                  "8": "adventure-works\\garrett1",
                  "9": "johnny0@adventure-works.com",
                  "10": "112-555-0191",
                  "11": "jtF9jBoFYeJTaET7x+eJDkd7BzMz15Wo9odbGPBaIak=",
                  "12": "wVLnvHo=",
                  "13": "947bcaf1-1f32-44f3-b9c3-0011f95fbe54",
                  "14": "2006-08-01 00:00:00.0000000"
                }
              ],
              "schema": [
                {
                  "key": "0",
                  "name": "CustomerID",
                  "type": "int"
                },
                {
                  "key": "1",
                  "name": "NameStyle",
                  "type": "boolean"
                },
                {
                  "key": "2",
                  "name": "Title",
                  "type": "string"
                },
                {
                  "key": "3",
                  "name": "FirstName",
                  "type": "string"
                },
                {
                  "key": "4",
                  "name": "MiddleName",
                  "type": "string"
                },
                {
                  "key": "5",
                  "name": "LastName",
                  "type": "string"
                },
                {
                  "key": "6",
                  "name": "Suffix",
                  "type": "string"
                },
                {
                  "key": "7",
                  "name": "CompanyName",
                  "type": "string"
                },
                {
                  "key": "8",
                  "name": "SalesPerson",
                  "type": "string"
                },
                {
                  "key": "9",
                  "name": "EmailAddress",
                  "type": "string"
                },
                {
                  "key": "10",
                  "name": "Phone",
                  "type": "string"
                },
                {
                  "key": "11",
                  "name": "PasswordHash",
                  "type": "string"
                },
                {
                  "key": "12",
                  "name": "PasswordSalt",
                  "type": "string"
                },
                {
                  "key": "13",
                  "name": "rowguid",
                  "type": "string"
                },
                {
                  "key": "14",
                  "name": "ModifiedDate",
                  "type": "string"
                }
              ],
              "truncated": false
            },
            "isSummary": false,
            "language": "scala"
          },
          "persist_state": {
            "view": {
              "type": "details",
              "tableOptions": {},
              "chartOptions": {
                "chartType": "bar",
                "aggregationType": "sum",
                "categoryFieldKeys": [
                  "1"
                ],
                "seriesFieldKeys": [
                  "0"
                ],
                "isStacked": false
              }
            }
          }
        },
        "4d33a2f1-8d1b-43a0-b0d7-740136fca20d": {
          "type": "Synapse.DataFrame",
          "sync_state": {
            "table": {
              "rows": [
                {
                  "0": "{\"commitInfo\":{\"timestamp\":1649333420590,\"operation\":\"CREATE OR REPLACE TABLE\",\"operationParameters\":{\"isManaged\":\"false\",\"description\":null,\"partitionBy\":\"[]\",\"properties\":\"{}\"},\"isBlindAppend\":true,\"operationMetrics\":{}}}"
                },
                {
                  "0": "{\"protocol\":{\"minReaderVersion\":1,\"minWriterVersion\":2}}"
                },
                {
                  "0": "{\"metaData\":{\"id\":\"19f1c60c-5a6f-4114-9d6d-d823727f39c6\",\"format\":{\"provider\":\"parquet\",\"options\":{}},\"schemaString\":\"{\\\"type\\\":\\\"struct\\\",\\\"fields\\\":[{\\\"name\\\":\\\"CustomerID\\\",\\\"type\\\":\\\"integer\\\",\\\"nullable\\\":false,\\\"metadata\\\":{}},{\\\"name\\\":\\\"NameStyle\\\",\\\"type\\\":\\\"boolean\\\",\\\"nullable\\\":true,\\\"metadata\\\":{}},{\\\"name\\\":\\\"Title\\\",\\\"type\\\":\\\"string\\\",\\\"nullable\\\":true,\\\"metadata\\\":{}},{\\\"name\\\":\\\"FirstName\\\",\\\"type\\\":\\\"string\\\",\\\"nullable\\\":true,\\\"metadata\\\":{}},{\\\"name\\\":\\\"MiddleName\\\",\\\"type\\\":\\\"string\\\",\\\"nullable\\\":true,\\\"metadata\\\":{}},{\\\"name\\\":\\\"LastName\\\",\\\"type\\\":\\\"string\\\",\\\"nullable\\\":true,\\\"metadata\\\":{}},{\\\"name\\\":\\\"Suffix\\\",\\\"type\\\":\\\"string\\\",\\\"nullable\\\":true,\\\"metadata\\\":{}},{\\\"name\\\":\\\"CompanyName\\\",\\\"type\\\":\\\"string\\\",\\\"nullable\\\":true,\\\"metadata\\\":{}},{\\\"name\\\":\\\"SalesPerson\\\",\\\"type\\\":\\\"string\\\",\\\"nullable\\\":true,\\\"metadata\\\":{}},{\\\"name\\\":\\\"EmailAddress\\\",\\\"type\\\":\\\"string\\\",\\\"nullable\\\":true,\\\"metadata\\\":{}},{\\\"name\\\":\\\"Phone\\\",\\\"type\\\":\\\"string\\\",\\\"nullable\\\":true,\\\"metadata\\\":{}},{\\\"name\\\":\\\"PasswordHash\\\",\\\"type\\\":\\\"string\\\",\\\"nullable\\\":true,\\\"metadata\\\":{}},{\\\"name\\\":\\\"PasswordSalt\\\",\\\"type\\\":\\\"string\\\",\\\"nullable\\\":true,\\\"metadata\\\":{}},{\\\"name\\\":\\\"rowguid\\\",\\\"type\\\":\\\"string\\\",\\\"nullable\\\":true,\\\"metadata\\\":{}},{\\\"name\\\":\\\"ModifiedDate\\\",\\\"type\\\":\\\"string\\\",\\\"nullable\\\":true,\\\"metadata\\\":{}}]}\",\"partitionColumns\":[],\"configuration\":{},\"createdTime\":1649333420456}}"
                }
              ],
              "schema": [
                {
                  "key": "0",
                  "name": "value",
                  "type": "string"
                }
              ],
              "truncated": false
            },
            "isSummary": false,
            "language": "scala"
          },
          "persist_state": {
            "view": {
              "type": "details",
              "tableOptions": {},
              "chartOptions": {
                "chartType": "bar",
                "aggregationType": "count",
                "categoryFieldKeys": [
                  "0"
                ],
                "seriesFieldKeys": [
                  "0"
                ],
                "isStacked": false
              }
            }
          }
        }
      }
    }
  },
  "cells": [
    {
      "cell_type": "code",
      "execution_count": 51,
      "outputs": [
        {
          "output_type": "display_data",
          "data": {
            "application/vnd.livy.statement-meta+json": {
              "spark_pool": "sparkpool03",
              "session_id": 14,
              "statement_id": 26,
              "state": "finished",
              "livy_statement_state": "available",
              "queued_time": "2022-04-07T12:02:01.4061389Z",
              "session_start_time": null,
              "execution_start_time": "2022-04-07T12:02:01.7959433Z",
              "execution_finish_time": "2022-04-07T12:02:02.3431632Z"
            },
            "text/plain": "StatementMeta(sparkpool03, 14, 26, Finished, Available)"
          },
          "metadata": {}
        }
      ],
      "metadata": {
        "microsoft": {
          "language": "python"
        },
        "collapsed": false
      },
      "source": [
        "%%pyspark\r\n",
        "import pandas as pd\r\n",
        "from datetime import datetime"
      ]
    },
    {
      "cell_type": "code",
      "execution_count": 52,
      "outputs": [
        {
          "output_type": "display_data",
          "data": {
            "application/vnd.livy.statement-meta+json": {
              "spark_pool": "sparkpool03",
              "session_id": 14,
              "statement_id": 27,
              "state": "finished",
              "livy_statement_state": "available",
              "queued_time": "2022-04-07T12:02:02.9197717Z",
              "session_start_time": null,
              "execution_start_time": "2022-04-07T12:02:03.3006852Z",
              "execution_finish_time": "2022-04-07T12:02:03.6970595Z"
            },
            "text/plain": "StatementMeta(sparkpool03, 14, 27, Finished, Available)"
          },
          "metadata": {}
        }
      ],
      "metadata": {
        "jupyter": {
          "source_hidden": false,
          "outputs_hidden": false
        },
        "nteract": {
          "transient": {
            "deleting": false
          }
        }
      },
      "source": [
        "def deep_ls(path: str, max_depth=1):\r\n",
        "    \"\"\"\r\n",
        "    List all files and folders in specified path and\r\n",
        "    subfolders within maximum recursion depth.\r\n",
        "    \"\"\"\r\n",
        "\r\n",
        "    # List all files in path\r\n",
        "    li = mssparkutils.fs.ls(path)\r\n",
        "\r\n",
        "    # Return all files\r\n",
        "    for x in li:\r\n",
        "        if x.size != 0:\r\n",
        "            yield x\r\n",
        "\r\n",
        "    # If the max_depth has not been reached, start\r\n",
        "    # listing files and folders in subdirectories\r\n",
        "    if max_depth > 1:\r\n",
        "        for x in li:\r\n",
        "            if x.size != 0:\r\n",
        "                continue\r\n",
        "            for y in deep_ls(x.path, max_depth - 1):\r\n",
        "                yield y\r\n",
        "\r\n",
        "    # If max_depth has been reached,\r\n",
        "    # return the folders\r\n",
        "    else:\r\n",
        "        for x in li:\r\n",
        "            if x.size == 0:\r\n",
        "                yield x\r\n",
        "\r\n",
        "def convertfiles2df(files):\r\n",
        "    \"\"\"\r\n",
        "    Converts FileInfo object into Pandas DataFrame to enable display\r\n",
        "    \"\"\"\r\n",
        "    # Disable Arrow-based transfers since the Pandas DataFrame is tiny\r\n",
        "    spark.conf.set(\"spark.sql.execution.arrow.enabled\", \"false\")\r\n",
        "\r\n",
        "    schema = ['path','name','size']\r\n",
        "    df = pd.DataFrame([[getattr(i,j) for j in schema] for i in files], columns = schema).sort_values('path')\r\n",
        "    return(df)"
      ]
    },
    {
      "cell_type": "code",
      "execution_count": 53,
      "outputs": [
        {
          "output_type": "display_data",
          "data": {
            "application/vnd.livy.statement-meta+json": {
              "spark_pool": "sparkpool03",
              "session_id": 14,
              "statement_id": 28,
              "state": "finished",
              "livy_statement_state": "available",
              "queued_time": "2022-04-07T12:02:04.423313Z",
              "session_start_time": null,
              "execution_start_time": "2022-04-07T12:02:04.8020994Z",
              "execution_finish_time": "2022-04-07T12:02:05.7904333Z"
            },
            "text/plain": "StatementMeta(sparkpool03, 14, 28, Finished, Available)"
          },
          "metadata": {}
        }
      ],
      "metadata": {
        "jupyter": {
          "source_hidden": false,
          "outputs_hidden": false
        },
        "nteract": {
          "transient": {
            "deleting": false
          }
        }
      },
      "source": [
        "root = 'abfss://raw@csresearchdpolaplakest.dfs.core.windows.net/erpcore/AdventureWorks/Customer'\r\n",
        "files = list(deep_ls(root, max_depth=20))"
      ]
    },
    {
      "cell_type": "code",
      "execution_count": 54,
      "outputs": [
        {
          "output_type": "display_data",
          "data": {
            "application/vnd.livy.statement-meta+json": {
              "spark_pool": "sparkpool03",
              "session_id": 14,
              "statement_id": 29,
              "state": "finished",
              "livy_statement_state": "available",
              "queued_time": "2022-04-07T12:02:07.0806889Z",
              "session_start_time": null,
              "execution_start_time": "2022-04-07T12:02:07.5056131Z",
              "execution_finish_time": "2022-04-07T12:02:07.9882418Z"
            },
            "text/plain": "StatementMeta(sparkpool03, 14, 29, Finished, Available)"
          },
          "metadata": {}
        }
      ],
      "metadata": {
        "jupyter": {
          "source_hidden": false,
          "outputs_hidden": false
        },
        "nteract": {
          "transient": {
            "deleting": false
          }
        },
        "collapsed": false
      },
      "source": [
        "df_list_of_files = convertfiles2df(files)"
      ]
    },
    {
      "cell_type": "code",
      "execution_count": 55,
      "outputs": [
        {
          "output_type": "display_data",
          "data": {
            "application/vnd.livy.statement-meta+json": {
              "spark_pool": "sparkpool03",
              "session_id": 14,
              "statement_id": 30,
              "state": "finished",
              "livy_statement_state": "available",
              "queued_time": "2022-04-07T12:02:10.0350082Z",
              "session_start_time": null,
              "execution_start_time": "2022-04-07T12:02:10.5275804Z",
              "execution_finish_time": "2022-04-07T12:02:10.9349132Z"
            },
            "text/plain": "StatementMeta(sparkpool03, 14, 30, Finished, Available)"
          },
          "metadata": {}
        },
        {
          "output_type": "display_data",
          "data": {
            "text/plain": "Index(['path', 'name', 'size'], dtype='object')"
          },
          "metadata": {}
        }
      ],
      "metadata": {
        "jupyter": {
          "source_hidden": false,
          "outputs_hidden": false
        },
        "nteract": {
          "transient": {
            "deleting": false
          }
        }
      },
      "source": [
        "df_list_of_files.columns"
      ]
    },
    {
      "cell_type": "code",
      "execution_count": 56,
      "outputs": [
        {
          "output_type": "display_data",
          "data": {
            "application/vnd.livy.statement-meta+json": {
              "spark_pool": "sparkpool03",
              "session_id": 14,
              "statement_id": 31,
              "state": "finished",
              "livy_statement_state": "available",
              "queued_time": "2022-04-07T12:02:13.2370193Z",
              "session_start_time": null,
              "execution_start_time": "2022-04-07T12:02:14.2214577Z",
              "execution_finish_time": "2022-04-07T12:02:15.1992287Z"
            },
            "text/plain": "StatementMeta(sparkpool03, 14, 31, Finished, Available)"
          },
          "metadata": {}
        },
        {
          "output_type": "display_data",
          "data": {
            "application/vnd.synapse.widget-view+json": {
              "widget_id": "729befe8-fec7-440d-b6cf-1bbaa3104b53",
              "widget_type": "Synapse.DataFrame"
            },
            "text/plain": "SynapseWidget(Synapse.DataFrame, 729befe8-fec7-440d-b6cf-1bbaa3104b53)"
          },
          "metadata": {}
        }
      ],
      "metadata": {
        "jupyter": {
          "source_hidden": false,
          "outputs_hidden": false
        },
        "nteract": {
          "transient": {
            "deleting": false
          }
        },
        "collapsed": false
      },
      "source": [
        "df_list_of_files = df_list_of_files.sort_values(['path'], ascending=[False])\r\n",
        "display(df_list_of_files)"
      ]
    },
    {
      "cell_type": "code",
      "execution_count": 57,
      "outputs": [
        {
          "output_type": "display_data",
          "data": {
            "application/vnd.livy.statement-meta+json": {
              "spark_pool": "sparkpool03",
              "session_id": 14,
              "statement_id": 32,
              "state": "finished",
              "livy_statement_state": "available",
              "queued_time": "2022-04-07T12:02:20.2033861Z",
              "session_start_time": null,
              "execution_start_time": "2022-04-07T12:02:20.5864988Z",
              "execution_finish_time": "2022-04-07T12:02:21.0129943Z"
            },
            "text/plain": "StatementMeta(sparkpool03, 14, 32, Finished, Available)"
          },
          "metadata": {}
        }
      ],
      "metadata": {
        "jupyter": {
          "source_hidden": false,
          "outputs_hidden": false
        },
        "nteract": {
          "transient": {
            "deleting": false
          }
        }
      },
      "source": [
        "source_path=df_list_of_files.iloc[0]['path']"
      ]
    },
    {
      "cell_type": "code",
      "execution_count": 58,
      "outputs": [
        {
          "output_type": "display_data",
          "data": {
            "application/vnd.livy.statement-meta+json": {
              "spark_pool": "sparkpool03",
              "session_id": 14,
              "statement_id": 33,
              "state": "finished",
              "livy_statement_state": "available",
              "queued_time": "2022-04-07T12:02:22.3701393Z",
              "session_start_time": null,
              "execution_start_time": "2022-04-07T12:02:22.7311199Z",
              "execution_finish_time": "2022-04-07T12:02:23.1896218Z"
            },
            "text/plain": "StatementMeta(sparkpool03, 14, 33, Finished, Available)"
          },
          "metadata": {}
        },
        {
          "output_type": "display_data",
          "data": {
            "text/plain": "'abfss://raw@csresearchdpolaplakest.dfs.core.windows.net/erpcore/AdventureWorks/Customer/Year=2022/Month=04/Day=07/Time=09:48:11/Customer.csv'"
          },
          "metadata": {}
        }
      ],
      "metadata": {
        "jupyter": {
          "source_hidden": false,
          "outputs_hidden": false
        },
        "nteract": {
          "transient": {
            "deleting": false
          }
        }
      },
      "source": [
        "source_path"
      ]
    },
    {
      "cell_type": "code",
      "execution_count": 59,
      "outputs": [
        {
          "output_type": "display_data",
          "data": {
            "application/vnd.livy.statement-meta+json": {
              "spark_pool": "sparkpool03",
              "session_id": 14,
              "statement_id": 34,
              "state": "finished",
              "livy_statement_state": "available",
              "queued_time": "2022-04-07T12:02:40.0920151Z",
              "session_start_time": null,
              "execution_start_time": "2022-04-07T12:02:40.7129815Z",
              "execution_finish_time": "2022-04-07T12:02:41.835963Z"
            },
            "text/plain": "StatementMeta(sparkpool03, 14, 34, Finished, Available)"
          },
          "metadata": {}
        }
      ],
      "metadata": {
        "jupyter": {
          "source_hidden": false,
          "outputs_hidden": false
        },
        "nteract": {
          "transient": {
            "deleting": false
          }
        }
      },
      "source": [
        "df = (spark \r\n",
        "        .read\r\n",
        "        .format(\"csv\")\r\n",
        "        .option(\"inferSchema\", \"true\")\r\n",
        "        .option(\"header\",\"true\")\r\n",
        "        .load(source_path)\r\n",
        ")"
      ]
    },
    {
      "cell_type": "code",
      "execution_count": 60,
      "outputs": [
        {
          "output_type": "display_data",
          "data": {
            "application/vnd.livy.statement-meta+json": {
              "spark_pool": "sparkpool03",
              "session_id": 14,
              "statement_id": 35,
              "state": "finished",
              "livy_statement_state": "available",
              "queued_time": "2022-04-07T12:02:49.6157227Z",
              "session_start_time": null,
              "execution_start_time": "2022-04-07T12:02:50.4639485Z",
              "execution_finish_time": "2022-04-07T12:02:50.8771589Z"
            },
            "text/plain": "StatementMeta(sparkpool03, 14, 35, Finished, Available)"
          },
          "metadata": {}
        },
        {
          "output_type": "stream",
          "name": "stdout",
          "text": [
            "+----------+---------+-----+-----------+----------+----------+------+--------------------+--------------------+--------------------+-------------------+--------------------+------------+--------------------+--------------------+\n|CustomerID|NameStyle|Title|  FirstName|MiddleName|  LastName|Suffix|         CompanyName|         SalesPerson|        EmailAddress|              Phone|        PasswordHash|PasswordSalt|             rowguid|        ModifiedDate|\n+----------+---------+-----+-----------+----------+----------+------+--------------------+--------------------+--------------------+-------------------+--------------------+------------+--------------------+--------------------+\n|         1|    false|  Mr.|    Orlando|        N.|       Gee|  null|        A Bike Store|adventure-works\\p...|orlando0@adventur...|       245-555-0173|L/Rlwxzp4w7RWmEgX...|    1KjXYs4=|3f5ae95e-b87d-4ae...|2005-08-01 00:00:...|\n|         2|    false|  Mr.|      Keith|      null|    Harris|  null|  Progressive Sports|adventure-works\\d...|keith0@adventure-...|       170-555-0127|YPdtRdvqeAhj6wyxE...|    fs1ZGhY=|e552f657-a9af-4a7...|2006-08-01 00:00:...|\n|         3|    false|  Ms.|      Donna|        F.|  Carreras|  null|Advanced Bike Com...|adventure-works\\j...|donna0@adventure-...|       279-555-0130|LNoK27abGQo48gGue...|    YTNH5Rw=|130774b1-db21-4ef...|2005-09-01 00:00:...|\n|         4|    false|  Ms.|      Janet|        M.|     Gates|  null|Modular Cycle Sys...|adventure-works\\j...|janet1@adventure-...|       710-555-0173|ElzTpSNbUW1Ut+L5c...|    nm7D5e4=|ff862851-1daa-404...|2006-07-01 00:00:...|\n|         5|    false|  Mr.|       Lucy|      null|Harrington|  null|Metropolitan Spor...|adventure-works\\shu0|lucy0@adventure-w...|       828-555-0186|KJqV15wsX3PG8TS5G...|    cNFKU4w=|83905bdc-6f5e-4f7...|2006-09-01 00:00:...|\n|         6|    false|  Ms.|   Rosmarie|        J.|   Carroll|  null|Aerobic Exercise ...|adventure-works\\l...|rosmarie0@adventu...|       244-555-0112|OKT0scizCdIzymHHO...|    ihWf50M=|1a92df88-bfa2-467...|2007-09-01 00:00:...|\n|         7|    false|  Mr.|    Dominic|        P.|      Gash|  null|    Associated Bikes|adventure-works\\shu0|dominic0@adventur...|       192-555-0173|ZccoP/jZGQm+Xpzc7...|    sPoUBSQ=|03e9273e-b193-448...|2006-07-01 00:00:...|\n|        10|    false|  Ms.|   Kathleen|        M.|     Garza|  null|Rural Cycle Emporium|adventure-works\\j...|kathleen0@adventu...|       150-555-0127|Qa3aMCxNbVLGrc0b9...|    Ls05W3g=|cdb6698d-2ff1-4fb...|2006-09-01 00:00:...|\n|        11|    false|  Ms.|  Katherine|      null|   Harding|  null|         Sharp Bikes|adventure-works\\j...|katherine0@advent...|       926-555-0159|uRlorVzDGNJIX9I+e...|    jpHKbqE=|750f3495-59c4-48a...|2005-08-01 00:00:...|\n|        12|    false|  Mr.|     Johnny|        A.|    Caprio|   Jr.|Bikes and Motorbikes|adventure-works\\g...|johnny0@adventure...|       112-555-0191|jtF9jBoFYeJTaET7x...|    wVLnvHo=|947bcaf1-1f32-44f...|2006-08-01 00:00:...|\n|        16|    false|  Mr.|Christopher|        R.|      Beck|   Jr.| Bulk Discount Store|adventure-works\\jae0|christopher1@adve...|1 (11) 500 555-0132|sKt9daCzEEKWAzivE...|    8KfYx/4=|c9381589-d31c-4ef...|2006-09-01 00:00:...|\n|        18|    false|  Mr.|      David|        J.|       Liu|  null|       Catalog Store|adventure-works\\m...|david20@adventure...|       440-555-0132|61zeTkO+eI5g8GG0s...|    c7Ttvv0=|c04d6b4d-94c6-4c5...|2005-08-01 00:00:...|\n|        19|    false|  Mr.|       John|        A.|    Beaver|  null|   Center Cycle Shop|adventure-works\\p...|john8@adventure-w...|       521-555-0195|DzbqWX7B3EK5Dub92...|    zXNgrJw=|69ae5d43-31be-4b7...|2007-04-01 00:00:...|\n|        20|    false|  Ms.|       Jean|        P.|   Handley|  null|Central Discount ...|adventure-works\\d...|jean1@adventure-w...|       582-555-0113|o1GVo3vExeNzo0/ct...|    uMsvfdo=|e010c10a-f1c3-4bb...|2005-09-01 00:00:...|\n|        21|    false| null|    Jinghao|      null|       Liu|  null|Chic Department S...|adventure-works\\j...|jinghao1@adventur...|       928-555-0116|IaD5AeqK9mRiIrJi/...|    p6pOqKc=|564e0b42-4609-43d...|2006-09-01 00:00:...|\n|        22|    false|  Ms.|      Linda|        E.|   Burnett|  null|      Travel Systems|adventure-works\\j...|linda4@adventure-...|       121-555-0121|23AwhujCoXYSPiN/B...|    SmyIPjE=|9774aed6-d673-412...|2005-08-01 00:00:...|\n|        23|    false|  Mr.|      Kerim|      null|     Hanif|  null|          Bike World|adventure-works\\shu0|kerim0@adventure-...|       216-555-0122|d0WSjosAd7Y3XOWjN...|    33g5co8=|733f8250-3251-4c2...|2006-09-01 00:00:...|\n|        24|    false|  Mr.|      Kevin|      null|       Liu|  null|Eastside Departme...|adventure-works\\l...|kevin5@adventure-...|       926-555-0164|ylTpkIOHKLcjihNjS...|    TgZnUOg=|c111e51d-178d-4db...|2006-09-01 00:00:...|\n|        25|    false|  Mr.|     Donald|        L.|   Blanton|  null|Coalition Bike Co...|adventure-works\\shu0|donald0@adventure...|       357-555-0161|pKYDelLBOZMO98GBz...|    jKtOaOw=|31d03546-fb2a-448...|2006-09-01 00:00:...|\n|        28|    false|  Ms.|     Jackie|        E.| Blackwell|  null|Commuter Bicycle ...|adventure-works\\j...|jackie0@adventure...|       972-555-0163|wqhgKfOTfef4Zo3cb...|    SZ+r60o=|9b8a04a4-d909-4f4...|2007-08-01 00:00:...|\n+----------+---------+-----+-----------+----------+----------+------+--------------------+--------------------+--------------------+-------------------+--------------------+------------+--------------------+--------------------+\nonly showing top 20 rows"
          ]
        }
      ],
      "metadata": {
        "jupyter": {
          "source_hidden": false,
          "outputs_hidden": false
        },
        "nteract": {
          "transient": {
            "deleting": false
          }
        }
      },
      "source": [
        "df.show()"
      ]
    },
    {
      "cell_type": "code",
      "execution_count": 61,
      "outputs": [
        {
          "output_type": "display_data",
          "data": {
            "application/vnd.livy.statement-meta+json": {
              "spark_pool": "sparkpool03",
              "session_id": 14,
              "statement_id": 36,
              "state": "finished",
              "livy_statement_state": "available",
              "queued_time": "2022-04-07T12:03:08.3791944Z",
              "session_start_time": null,
              "execution_start_time": "2022-04-07T12:03:08.7906987Z",
              "execution_finish_time": "2022-04-07T12:03:09.866566Z"
            },
            "text/plain": "StatementMeta(sparkpool03, 14, 36, Finished, Available)"
          },
          "metadata": {}
        },
        {
          "output_type": "display_data",
          "data": {
            "application/vnd.synapse.widget-view+json": {
              "widget_id": "47c1da0b-ee60-4233-9ebc-cb3845245d23",
              "widget_type": "Synapse.DataFrame"
            },
            "text/plain": "SynapseWidget(Synapse.DataFrame, 47c1da0b-ee60-4233-9ebc-cb3845245d23)"
          },
          "metadata": {}
        }
      ],
      "metadata": {
        "jupyter": {
          "source_hidden": false,
          "outputs_hidden": false
        },
        "nteract": {
          "transient": {
            "deleting": false
          }
        },
        "collapsed": false
      },
      "source": [
        "display(df.limit(10))"
      ]
    },
    {
      "cell_type": "code",
      "execution_count": 62,
      "outputs": [
        {
          "output_type": "display_data",
          "data": {
            "application/vnd.livy.statement-meta+json": {
              "spark_pool": "sparkpool03",
              "session_id": 14,
              "statement_id": 37,
              "state": "finished",
              "livy_statement_state": "available",
              "queued_time": "2022-04-07T12:03:17.0796357Z",
              "session_start_time": null,
              "execution_start_time": "2022-04-07T12:03:17.5143892Z",
              "execution_finish_time": "2022-04-07T12:03:17.9815634Z"
            },
            "text/plain": "StatementMeta(sparkpool03, 14, 37, Finished, Available)"
          },
          "metadata": {}
        },
        {
          "output_type": "display_data",
          "data": {
            "text/plain": "847"
          },
          "metadata": {}
        }
      ],
      "metadata": {
        "jupyter": {
          "source_hidden": false,
          "outputs_hidden": false
        },
        "nteract": {
          "transient": {
            "deleting": false
          }
        }
      },
      "source": [
        "df.count()"
      ]
    },
    {
      "cell_type": "code",
      "execution_count": 68,
      "outputs": [
        {
          "output_type": "display_data",
          "data": {
            "application/vnd.livy.statement-meta+json": {
              "spark_pool": "sparkpool03",
              "session_id": 14,
              "statement_id": 43,
              "state": "finished",
              "livy_statement_state": "available",
              "queued_time": "2022-04-07T12:14:11.9554833Z",
              "session_start_time": null,
              "execution_start_time": "2022-04-07T12:14:12.386397Z",
              "execution_finish_time": "2022-04-07T12:14:12.8138269Z"
            },
            "text/plain": "StatementMeta(sparkpool03, 14, 43, Finished, Available)"
          },
          "metadata": {}
        },
        {
          "output_type": "stream",
          "name": "stdout",
          "text": [
            "root\n |-- CustomerID: integer (nullable = true)\n |-- NameStyle: boolean (nullable = true)\n |-- Title: string (nullable = false)\n |-- FirstName: string (nullable = false)\n |-- MiddleName: string (nullable = false)\n |-- LastName: string (nullable = false)\n |-- Suffix: string (nullable = false)\n |-- CompanyName: string (nullable = false)\n |-- SalesPerson: string (nullable = false)\n |-- EmailAddress: string (nullable = false)\n |-- Phone: string (nullable = false)\n |-- PasswordHash: string (nullable = false)\n |-- PasswordSalt: string (nullable = false)\n |-- rowguid: string (nullable = false)\n |-- ModifiedDate: string (nullable = false)"
          ]
        }
      ],
      "metadata": {
        "jupyter": {
          "source_hidden": false,
          "outputs_hidden": false
        },
        "nteract": {
          "transient": {
            "deleting": false
          }
        }
      },
      "source": [
        "df.printSchema()"
      ]
    },
    {
      "cell_type": "code",
      "execution_count": 69,
      "outputs": [
        {
          "output_type": "display_data",
          "data": {
            "application/vnd.livy.statement-meta+json": {
              "spark_pool": "sparkpool03",
              "session_id": 14,
              "statement_id": 44,
              "state": "finished",
              "livy_statement_state": "available",
              "queued_time": "2022-04-07T12:14:15.1623484Z",
              "session_start_time": null,
              "execution_start_time": "2022-04-07T12:14:15.5332828Z",
              "execution_finish_time": "2022-04-07T12:14:15.940719Z"
            },
            "text/plain": "StatementMeta(sparkpool03, 14, 44, Finished, Available)"
          },
          "metadata": {}
        }
      ],
      "metadata": {
        "jupyter": {
          "source_hidden": false,
          "outputs_hidden": false
        },
        "nteract": {
          "transient": {
            "deleting": false
          }
        }
      },
      "source": [
        "# Replace null values with zero\r\n",
        "df = df.na.fill(0)"
      ]
    },
    {
      "cell_type": "code",
      "execution_count": 70,
      "outputs": [
        {
          "output_type": "display_data",
          "data": {
            "application/vnd.livy.statement-meta+json": {
              "spark_pool": "sparkpool03",
              "session_id": 14,
              "statement_id": 45,
              "state": "finished",
              "livy_statement_state": "available",
              "queued_time": "2022-04-07T12:14:16.8109965Z",
              "session_start_time": null,
              "execution_start_time": "2022-04-07T12:14:17.1805705Z",
              "execution_finish_time": "2022-04-07T12:14:17.6050057Z"
            },
            "text/plain": "StatementMeta(sparkpool03, 14, 45, Finished, Available)"
          },
          "metadata": {}
        }
      ],
      "metadata": {
        "jupyter": {
          "source_hidden": false,
          "outputs_hidden": false
        },
        "nteract": {
          "transient": {
            "deleting": false
          }
        }
      },
      "source": [
        "# Replace null strings with empty\r\n",
        "df = df.na.fill(\"\")"
      ]
    },
    {
      "cell_type": "code",
      "execution_count": 71,
      "outputs": [
        {
          "output_type": "display_data",
          "data": {
            "application/vnd.livy.statement-meta+json": {
              "spark_pool": "sparkpool03",
              "session_id": 14,
              "statement_id": 46,
              "state": "finished",
              "livy_statement_state": "available",
              "queued_time": "2022-04-07T12:14:18.0487431Z",
              "session_start_time": null,
              "execution_start_time": "2022-04-07T12:14:18.635594Z",
              "execution_finish_time": "2022-04-07T12:14:19.1687368Z"
            },
            "text/plain": "StatementMeta(sparkpool03, 14, 46, Finished, Available)"
          },
          "metadata": {}
        },
        {
          "output_type": "display_data",
          "data": {
            "application/vnd.synapse.widget-view+json": {
              "widget_id": "0cc79cc2-7f68-4499-a4b0-cb214d427c8b",
              "widget_type": "Synapse.DataFrame"
            },
            "text/plain": "SynapseWidget(Synapse.DataFrame, 0cc79cc2-7f68-4499-a4b0-cb214d427c8b)"
          },
          "metadata": {}
        }
      ],
      "metadata": {
        "jupyter": {
          "source_hidden": false,
          "outputs_hidden": false
        },
        "nteract": {
          "transient": {
            "deleting": false
          }
        },
        "collapsed": false
      },
      "source": [
        "display(df.limit(10))"
      ]
    },
    {
      "cell_type": "code",
      "execution_count": 72,
      "outputs": [
        {
          "output_type": "display_data",
          "data": {
            "application/vnd.livy.statement-meta+json": {
              "spark_pool": "sparkpool03",
              "session_id": 14,
              "statement_id": 47,
              "state": "finished",
              "livy_statement_state": "available",
              "queued_time": "2022-04-07T12:14:21.6674971Z",
              "session_start_time": null,
              "execution_start_time": "2022-04-07T12:14:22.0386302Z",
              "execution_finish_time": "2022-04-07T12:14:22.5151453Z"
            },
            "text/plain": "StatementMeta(sparkpool03, 14, 47, Finished, Available)"
          },
          "metadata": {}
        }
      ],
      "metadata": {
        "jupyter": {
          "source_hidden": false,
          "outputs_hidden": false
        },
        "nteract": {
          "transient": {
            "deleting": false
          }
        }
      },
      "source": [
        "# Create temp views to easily query with Spark SQL\r\n",
        "\r\n",
        "df.createOrReplaceTempView('merge')"
      ]
    },
    {
      "cell_type": "code",
      "execution_count": 73,
      "outputs": [
        {
          "output_type": "display_data",
          "data": {
            "application/vnd.livy.statement-meta+json": {
              "spark_pool": "sparkpool03",
              "session_id": 14,
              "statement_id": 48,
              "state": "finished",
              "livy_statement_state": "available",
              "queued_time": "2022-04-07T12:14:25.4316433Z",
              "session_start_time": null,
              "execution_start_time": "2022-04-07T12:14:27.5593043Z",
              "execution_finish_time": "2022-04-07T12:14:49.2249857Z"
            },
            "text/plain": "StatementMeta(sparkpool03, 14, 48, Finished, Available)"
          },
          "metadata": {}
        },
        {
          "output_type": "execute_result",
          "data": {
            "application/vnd.synapse.sparksql-result+json": {
              "schema": {
                "type": "struct",
                "fields": []
              },
              "data": []
            },
            "text/plain": "<Spark SQL result set with 0 rows and 0 fields>"
          },
          "execution_count": 73,
          "metadata": {}
        }
      ],
      "metadata": {
        "jupyter": {
          "source_hidden": false,
          "outputs_hidden": false
        },
        "nteract": {
          "transient": {
            "deleting": false
          }
        },
        "microsoft": {
          "language": "sparksql"
        },
        "collapsed": false
      },
      "source": [
        "%%sql\r\n",
        "MERGE INTO aw_customer\r\n",
        "USING merge\r\n",
        "ON aw_customer.CustomerID = merge.CustomerID\r\n",
        "WHEN MATCHED THEN UPDATE SET *\r\n",
        "WHEN NOT MATCHED THEN INSERT *"
      ]
    },
    {
      "cell_type": "code",
      "execution_count": 74,
      "outputs": [
        {
          "output_type": "display_data",
          "data": {
            "application/vnd.livy.statement-meta+json": {
              "spark_pool": "sparkpool03",
              "session_id": 14,
              "statement_id": 49,
              "state": "finished",
              "livy_statement_state": "available",
              "queued_time": "2022-04-07T12:14:40.4141766Z",
              "session_start_time": null,
              "execution_start_time": "2022-04-07T12:14:49.6180923Z",
              "execution_finish_time": "2022-04-07T12:14:53.9582966Z"
            },
            "text/plain": "StatementMeta(sparkpool03, 14, 49, Finished, Available)"
          },
          "metadata": {}
        },
        {
          "output_type": "execute_result",
          "data": {
            "application/vnd.synapse.sparksql-result+json": {
              "schema": {
                "type": "struct",
                "fields": [
                  {
                    "name": "version",
                    "type": "long",
                    "nullable": true,
                    "metadata": {}
                  },
                  {
                    "name": "timestamp",
                    "type": "timestamp",
                    "nullable": true,
                    "metadata": {}
                  },
                  {
                    "name": "userId",
                    "type": "string",
                    "nullable": true,
                    "metadata": {}
                  },
                  {
                    "name": "userName",
                    "type": "string",
                    "nullable": true,
                    "metadata": {}
                  },
                  {
                    "name": "operation",
                    "type": "string",
                    "nullable": true,
                    "metadata": {}
                  },
                  {
                    "name": "operationParameters",
                    "type": {
                      "type": "map",
                      "keyType": "string",
                      "valueType": "string",
                      "valueContainsNull": true
                    },
                    "nullable": true,
                    "metadata": {}
                  },
                  {
                    "name": "job",
                    "type": {
                      "type": "struct",
                      "fields": [
                        {
                          "name": "jobId",
                          "type": "string",
                          "nullable": true,
                          "metadata": {}
                        },
                        {
                          "name": "jobName",
                          "type": "string",
                          "nullable": true,
                          "metadata": {}
                        },
                        {
                          "name": "runId",
                          "type": "string",
                          "nullable": true,
                          "metadata": {}
                        },
                        {
                          "name": "jobOwnerId",
                          "type": "string",
                          "nullable": true,
                          "metadata": {}
                        },
                        {
                          "name": "triggerType",
                          "type": "string",
                          "nullable": true,
                          "metadata": {}
                        }
                      ]
                    },
                    "nullable": true,
                    "metadata": {}
                  },
                  {
                    "name": "notebook",
                    "type": {
                      "type": "struct",
                      "fields": [
                        {
                          "name": "notebookId",
                          "type": "string",
                          "nullable": true,
                          "metadata": {}
                        }
                      ]
                    },
                    "nullable": true,
                    "metadata": {}
                  },
                  {
                    "name": "clusterId",
                    "type": "string",
                    "nullable": true,
                    "metadata": {}
                  },
                  {
                    "name": "readVersion",
                    "type": "long",
                    "nullable": true,
                    "metadata": {}
                  },
                  {
                    "name": "isolationLevel",
                    "type": "string",
                    "nullable": true,
                    "metadata": {}
                  },
                  {
                    "name": "isBlindAppend",
                    "type": "boolean",
                    "nullable": true,
                    "metadata": {}
                  },
                  {
                    "name": "operationMetrics",
                    "type": {
                      "type": "map",
                      "keyType": "string",
                      "valueType": "string",
                      "valueContainsNull": true
                    },
                    "nullable": true,
                    "metadata": {}
                  },
                  {
                    "name": "userMetadata",
                    "type": "string",
                    "nullable": true,
                    "metadata": {}
                  }
                ]
              },
              "data": [
                [
                  "1",
                  "2022-04-07T12:14:45Z",
                  null,
                  null,
                  "MERGE",
                  {
                    "predicate": "(spark_catalog.default.aw_customer.`CustomerID` = merge.`CustomerID`)",
                    "matchedPredicates": "[{\"actionType\":\"update\"}]",
                    "notMatchedPredicates": "[{\"actionType\":\"insert\"}]"
                  },
                  null,
                  null,
                  null,
                  "0",
                  null,
                  false,
                  {
                    "numTargetRowsCopied": "0",
                    "numTargetRowsDeleted": "0",
                    "numTargetFilesAdded": "200",
                    "executionTimeMs": "13704",
                    "numTargetRowsInserted": "847",
                    "scanTimeMs": "2942",
                    "numTargetRowsUpdated": "0",
                    "numOutputRows": "847",
                    "numSourceRows": "847",
                    "numTargetFilesRemoved": "0",
                    "rewriteTimeMs": "10731"
                  },
                  null
                ],
                [
                  "0",
                  "2022-04-07T12:10:20Z",
                  null,
                  null,
                  "CREATE OR REPLACE TABLE",
                  {
                    "isManaged": "false",
                    "description": null,
                    "partitionBy": "[]",
                    "properties": "{}"
                  },
                  null,
                  null,
                  null,
                  null,
                  null,
                  true,
                  {},
                  null
                ]
              ]
            },
            "text/plain": "<Spark SQL result set with 2 rows and 14 fields>"
          },
          "execution_count": 74,
          "metadata": {}
        }
      ],
      "metadata": {
        "jupyter": {
          "source_hidden": false,
          "outputs_hidden": false
        },
        "nteract": {
          "transient": {
            "deleting": false
          }
        },
        "microsoft": {
          "language": "sparksql"
        },
        "collapsed": false
      },
      "source": [
        "%%sql\r\n",
        "-- Retrieve the version/change history of the Delta table\r\n",
        "DESCRIBE HISTORY aw_customer"
      ]
    },
    {
      "cell_type": "code",
      "execution_count": 75,
      "outputs": [
        {
          "output_type": "display_data",
          "data": {
            "application/vnd.livy.statement-meta+json": {
              "spark_pool": "sparkpool03",
              "session_id": 14,
              "statement_id": 50,
              "state": "finished",
              "livy_statement_state": "available",
              "queued_time": "2022-04-07T12:14:50.5486712Z",
              "session_start_time": null,
              "execution_start_time": "2022-04-07T12:14:54.3666109Z",
              "execution_finish_time": "2022-04-07T12:14:57.5899632Z"
            },
            "text/plain": "StatementMeta(sparkpool03, 14, 50, Finished, Available)"
          },
          "metadata": {}
        },
        {
          "output_type": "execute_result",
          "data": {
            "application/vnd.synapse.sparksql-result+json": {
              "schema": {
                "type": "struct",
                "fields": [
                  {
                    "name": "CustomerID",
                    "type": "integer",
                    "nullable": false,
                    "metadata": {}
                  },
                  {
                    "name": "NameStyle",
                    "type": "boolean",
                    "nullable": true,
                    "metadata": {}
                  },
                  {
                    "name": "Title",
                    "type": "string",
                    "nullable": true,
                    "metadata": {}
                  },
                  {
                    "name": "FirstName",
                    "type": "string",
                    "nullable": true,
                    "metadata": {}
                  },
                  {
                    "name": "MiddleName",
                    "type": "string",
                    "nullable": true,
                    "metadata": {}
                  },
                  {
                    "name": "LastName",
                    "type": "string",
                    "nullable": true,
                    "metadata": {}
                  },
                  {
                    "name": "Suffix",
                    "type": "string",
                    "nullable": true,
                    "metadata": {}
                  },
                  {
                    "name": "CompanyName",
                    "type": "string",
                    "nullable": true,
                    "metadata": {}
                  },
                  {
                    "name": "SalesPerson",
                    "type": "string",
                    "nullable": true,
                    "metadata": {}
                  },
                  {
                    "name": "EmailAddress",
                    "type": "string",
                    "nullable": true,
                    "metadata": {}
                  },
                  {
                    "name": "Phone",
                    "type": "string",
                    "nullable": true,
                    "metadata": {}
                  },
                  {
                    "name": "PasswordHash",
                    "type": "string",
                    "nullable": true,
                    "metadata": {}
                  },
                  {
                    "name": "PasswordSalt",
                    "type": "string",
                    "nullable": true,
                    "metadata": {}
                  },
                  {
                    "name": "rowguid",
                    "type": "string",
                    "nullable": true,
                    "metadata": {}
                  },
                  {
                    "name": "ModifiedDate",
                    "type": "string",
                    "nullable": true,
                    "metadata": {}
                  }
                ]
              },
              "data": [
                [
                  10,
                  false,
                  "Ms.",
                  "Kathleen",
                  "M.",
                  "Garza",
                  "",
                  "Rural Cycle Emporium",
                  "adventure-works\\josé1",
                  "kathleen0@adventure-works.com",
                  "150-555-0127",
                  "Qa3aMCxNbVLGrc0b99KsbQqiVgwYDfHcsK9GZSUxcTM=",
                  "Ls05W3g=",
                  "cdb6698d-2ff1-4fba-8f22-60ad1d11dabd",
                  "2006-09-01 00:00:00.0000000"
                ]
              ]
            },
            "text/plain": "<Spark SQL result set with 1 rows and 15 fields>"
          },
          "execution_count": 75,
          "metadata": {}
        }
      ],
      "metadata": {
        "jupyter": {
          "source_hidden": false,
          "outputs_hidden": false
        },
        "nteract": {
          "transient": {
            "deleting": false
          }
        },
        "microsoft": {
          "language": "sparksql"
        },
        "collapsed": false
      },
      "source": [
        "%%sql\r\n",
        "SELECT *\r\n",
        "FROM aw_customer\r\n",
        "where CustomerID = 10"
      ]
    },
    {
      "cell_type": "code",
      "execution_count": 77,
      "outputs": [
        {
          "output_type": "display_data",
          "data": {
            "application/vnd.livy.statement-meta+json": {
              "spark_pool": "sparkpool03",
              "session_id": 14,
              "statement_id": 52,
              "state": "finished",
              "livy_statement_state": "available",
              "queued_time": "2022-04-07T12:15:09.2101501Z",
              "session_start_time": null,
              "execution_start_time": "2022-04-07T12:15:10.113359Z",
              "execution_finish_time": "2022-04-07T12:15:12.0805061Z"
            },
            "text/plain": "StatementMeta(sparkpool03, 14, 52, Finished, Available)"
          },
          "metadata": {}
        },
        {
          "output_type": "stream",
          "name": "stdout",
          "text": [
            "+----------+---------+-----+---------+----------+---------+------+--------------------+--------------------+--------------------+-------------------+--------------------+------------+--------------------+--------------------+\n|CustomerID|NameStyle|Title|FirstName|MiddleName| LastName|Suffix|         CompanyName|         SalesPerson|        EmailAddress|              Phone|        PasswordHash|PasswordSalt|             rowguid|        ModifiedDate|\n+----------+---------+-----+---------+----------+---------+------+--------------------+--------------------+--------------------+-------------------+--------------------+------------+--------------------+--------------------+\n|       185|    false|  Mr.|  Sandeep|          | Kaliyath|      |  Weekend Bike Tours|adventure-works\\shu0|sandeep1@adventur...|       495-555-0113|Rrgza3uGhmNF9StSE...|    ekE0M9I=|5014e91d-7b0e-495...|2007-07-01 00:00:...|\n|       353|    false|  Ms.|     Joan|        M.| Campbell|      |Two-Wheeled Trans...|adventure-works\\j...|joan0@adventure-w...|       700-555-0155|hKb4COq5+4SAW8APM...|    eVaIdvY=|3b2e5c36-0827-4a3...|2005-08-01 00:00:...|\n|       694|    false|  Ms.|      Ann|        T.|     Hass|      |The Accessories S...|adventure-works\\j...|ann2@adventure-wo...|       713-555-0168|lykTZ3vUjtqvW669X...|    M7xYGr4=|d3e874dc-a10c-405...|2006-08-01 00:00:...|\n|       696|    false|  Mr.|   Maciej|          |    Dusza|      |    Roadway Supplies|adventure-works\\shu0|maciej1@adventure...|       962-555-0144|v404bp5zCcIyJO+s5...|    pDYvCjw=|a0140dd4-4d10-409...|2005-11-01 00:00:...|\n|     29570|    false|  Mr.|  Michael|      Greg|   Blythe|      |Grease and Oil Pr...|adventure-works\\j...|michael11@adventu...|       126-555-0172|5QCj8NIegcVaNIwAH...|    8L4g3I4=|ce40d69c-5141-4b3...|2005-07-01 00:00:...|\n|     29722|    false|  Mr.|   Reuben|          |     D'sa|      |Vigorous Exercise...|adventure-works\\j...|reuben1@adventure...|       916-555-0137|EVeayvYSlWRfySd2R...|    jj5f+ZA=|68396e18-907f-4cd...|2005-09-01 00:00:...|\n|     29737|    false|  Mr.|     John|          |    Emory|      |Roadway Bike Empo...|adventure-works\\p...|john16@adventure-...|       691-555-0149|EXyX+Acbgfz6Y4iZ9...|    /4/gh8A=|31f1935f-6c9a-43d...|2007-07-01 00:00:...|\n|     29873|    false|  Ms.|     Mary|          |Alexander|      |Certified Bicycle...|adventure-works\\p...|mary7@adventure-w...|       344-555-0133|y0iroPvPC4eEspx+3...|    F1wnUPk=|26edd45c-0d00-48f...|2006-09-01 00:00:...|\n|     29938|    false|  Mr.|    Frank|          | Campbell|      | Trailblazing Sports|adventure-works\\shu0|frank4@adventure-...|       491-555-0132|XKb/GbNNUPKesifxp...|    /9h1e7s=|8739bccd-a0f4-496...|2005-09-01 00:00:...|\n|     29944|    false|  Ms.|   Bonnie|        B.|    Lepro|      |         More Bikes!|adventure-works\\l...|bonnie2@adventure...|       354-555-0130|QFcESEnv3fd3s0Kxf...|    WVm7PpY=|881137fc-ae6a-4fb...|2005-09-01 00:00:...|\n|     30000|    false|  Mr.|    James|        L.|    McCoy|    II|Leather Seat Factory|adventure-works\\j...|james12@adventure...|       191-555-0151|7fCBS9M7J3qJvmN3s...|    r9owTtw=|f979676f-80e7-444...|2006-07-01 00:00:...|\n|     30113|    false|  Mr.|     Raja|        D.|Venugopal|      |   Nearby Cycle Shop|adventure-works\\jae0|raja0@adventure-w...|1 (11) 500 555-0195|lx5a4+AFGzH6mzjz6...|    hSwmBWk=|84975c44-dc82-49d...|2006-09-01 00:00:...|\n|       129|    false|  Ms.|   Connie|        L.|  Coffman|      |Discount Bicycle ...|adventure-works\\j...|connie0@adventure...|       426-555-0181|Wkqdm53a0uim7B/e9...|    3tT/ffQ=|e03db34c-bf17-407...|2005-11-01 00:00:...|\n|       166|    false|  Ms.|   Stacey|        M.|Cereghino|      |   Fitness Toy Store|adventure-works\\j...|stacey0@adventure...|       351-555-0131|u/IE2VGaycl6iSw+8...|    n+71V7I=|f644d9dc-4ced-49e...|2005-07-01 00:00:...|\n|       448|    false|  Mr.|    Terry|          |Eminhizer|      |Action Bicycle Sp...|adventure-works\\jae0|terry1@adventure-...|1 (11) 500 555-0176|y8RaWYkfTrcpFEipL...|    vx5Ko/Q=|722aee8f-6b89-471...|2007-09-01 00:00:...|\n|     29567|    false|  Ms.|   Jackie|        E.|Blackwell|      |Commuter Bicycle ...|adventure-works\\j...|jackie0@adventure...|       972-555-0163|wqhgKfOTfef4Zo3cb...|    SZ+r60o=|d8cb0e62-2423-452...|2007-08-01 00:00:...|\n|     29579|    false|  Mr.|Cornelius|        L.|  Brandon|      |Initial Bike Company|adventure-works\\shu0|cornelius0@advent...|       229-555-0114|fftjn+fbjvHFJ4bf7...|    OzSaq2k=|af37ebff-fe33-4cc...|2006-09-01 00:00:...|\n|     29584|    false|  Mr.|   Walter|        J.|    Brian|    IV|    Futuristic Bikes|adventure-works\\shu0|walter0@adventure...|       163-555-0155|NN11OHHxrOm6r8lPy...|    PiILPfc=|bd077add-f8f5-471...|2006-09-01 00:00:...|\n|     29615|    false|  Ms.|     Mari|        B.| Caldwell|      |    Metro Metals Co.|adventure-works\\jae0|mari0@adventure-w...|1 (11) 500 555-0118|1tbKzsdwFfEX1T/OP...|    x8xILbE=|c7e5d895-eaba-4cc...|2007-08-01 00:00:...|\n|     29929|    false|  Mr.|  Jeffrey|          |    Kurtz|      |    Many Bikes Store|adventure-works\\shu0|jeffrey3@adventur...|       452-555-0179|zn3Nk0+i/zyvxFNh3...|    5MZXwF4=|ae0f0317-2254-4d4...|2006-09-01 00:00:...|\n+----------+---------+-----+---------+----------+---------+------+--------------------+--------------------+--------------------+-------------------+--------------------+------------+--------------------+--------------------+\nonly showing top 20 rows"
          ]
        }
      ],
      "metadata": {
        "jupyter": {
          "source_hidden": false,
          "outputs_hidden": false
        },
        "nteract": {
          "transient": {
            "deleting": false
          }
        }
      },
      "source": [
        "# Load a previous version of the DELTA_Employees table into a dataframe\r\n",
        "df = spark.read.format(\"delta\").option(\"versionAsOf\", 1).load(\"abfss://enriched@csresearchdpolaplakest.dfs.core.windows.net/erpcore/AdventureWorks/Customer\")\r\n",
        "df.show()"
      ]
    },
    {
      "cell_type": "code",
      "execution_count": 78,
      "outputs": [
        {
          "output_type": "display_data",
          "data": {
            "application/vnd.livy.statement-meta+json": {
              "spark_pool": "sparkpool03",
              "session_id": 14,
              "statement_id": 53,
              "state": "finished",
              "livy_statement_state": "available",
              "queued_time": "2022-04-07T12:15:18.7007297Z",
              "session_start_time": null,
              "execution_start_time": "2022-04-07T12:15:19.0970668Z",
              "execution_finish_time": "2022-04-07T12:15:19.5183799Z"
            },
            "text/plain": "StatementMeta(sparkpool03, 14, 53, Finished, Available)"
          },
          "metadata": {}
        },
        {
          "output_type": "display_data",
          "data": {
            "application/vnd.synapse.widget-view+json": {
              "widget_id": "4d33a2f1-8d1b-43a0-b0d7-740136fca20d",
              "widget_type": "Synapse.DataFrame"
            },
            "text/plain": "SynapseWidget(Synapse.DataFrame, 4d33a2f1-8d1b-43a0-b0d7-740136fca20d)"
          },
          "metadata": {}
        }
      ],
      "metadata": {
        "jupyter": {
          "source_hidden": false,
          "outputs_hidden": false
        },
        "nteract": {
          "transient": {
            "deleting": false
          }
        },
        "collapsed": false
      },
      "source": [
        "display(spark.read.text(\"abfss://enriched@csresearchdpolaplakest.dfs.core.windows.net/erpcore/AdventureWorks/Customer/_delta_log/00000000000000000000.json\"))"
      ]
    }
  ]
}