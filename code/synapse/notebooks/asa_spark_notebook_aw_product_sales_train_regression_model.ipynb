{
  "cells": [
    {
      "cell_type": "code",
      "source": [
        "import azureml.core\n",
        "\n",
        "from azureml.core import Experiment, Workspace, Dataset, Datastore\n",
        "from azureml.train.automl import AutoMLConfig\n",
        "from notebookutils import mssparkutils\n",
        "from azureml.data.dataset_factory import TabularDatasetFactory"
      ],
      "outputs": [
        {
          "output_type": "display_data",
          "data": {
            "application/vnd.livy.statement-meta+json": {
              "spark_pool": "sparkpool01",
              "session_id": 7,
              "statement_id": 1,
              "state": "finished",
              "livy_statement_state": "available",
              "queued_time": "2022-04-11T18:31:55.2372864Z",
              "session_start_time": "2022-04-11T18:31:55.3127704Z",
              "execution_start_time": "2022-04-11T18:32:39.3358829Z",
              "execution_finish_time": "2022-04-11T18:32:40.9592258Z"
            },
            "text/plain": "StatementMeta(sparkpool01, 7, 1, Finished, Available)"
          },
          "metadata": {}
        }
      ],
      "execution_count": 1,
      "metadata": {}
    },
    {
      "cell_type": "code",
      "source": [
        "linkedService_name = \"AzureMLService2\"\n",
        "experiment_name = \"cs-eur-research-dp-synw-aw_forecast_product_sales-20220411063203\"\n",
        "\n",
        "ws = mssparkutils.azureML.getWorkspace(linkedService_name)\n",
        "experiment = Experiment(ws, experiment_name)"
      ],
      "outputs": [
        {
          "output_type": "display_data",
          "data": {
            "application/vnd.livy.statement-meta+json": {
              "spark_pool": "sparkpool01",
              "session_id": 7,
              "statement_id": 2,
              "state": "finished",
              "livy_statement_state": "available",
              "queued_time": "2022-04-11T18:31:55.2388795Z",
              "session_start_time": null,
              "execution_start_time": "2022-04-11T18:32:43.0530357Z",
              "execution_finish_time": "2022-04-11T18:32:48.122145Z"
            },
            "text/plain": "StatementMeta(sparkpool01, 7, 2, Finished, Available)"
          },
          "metadata": {}
        }
      ],
      "execution_count": 2,
      "metadata": {}
    },
    {
      "cell_type": "code",
      "source": [
        "df = spark.sql(\"SELECT * FROM default.aw_forecast_product_sales\")\n",
        "\n",
        "datastore = Datastore.get_default(ws)\n",
        "dataset = TabularDatasetFactory.register_spark_dataframe(df, datastore, name = experiment_name + \"-dataset\")"
      ],
      "outputs": [
        {
          "output_type": "display_data",
          "data": {
            "application/vnd.livy.statement-meta+json": {
              "spark_pool": "sparkpool01",
              "session_id": 7,
              "statement_id": 3,
              "state": "finished",
              "livy_statement_state": "available",
              "queued_time": "2022-04-11T18:31:55.2407201Z",
              "session_start_time": null,
              "execution_start_time": "2022-04-11T18:32:48.9708564Z",
              "execution_finish_time": "2022-04-11T18:33:10.9566716Z"
            },
            "text/plain": "StatementMeta(sparkpool01, 7, 3, Finished, Available)"
          },
          "metadata": {}
        },
        {
          "output_type": "stream",
          "name": "stdout",
          "text": [
            "Method register_spark_dataframe: This is an experimental method, and may change at any time. Please see https://aka.ms/azuremlexperimental for more information.\nValidating arguments.\nArguments validated.\nWriting spark dataframe to managed-dataset/bfdd7655-f299-4908-8620-4efcc06fb33e\nCreating new dataset\nRegistering new dataset\nSuccessfully created and registered a new dataset."
          ]
        }
      ],
      "execution_count": 3,
      "metadata": {}
    },
    {
      "cell_type": "code",
      "source": [
        "automl_config = AutoMLConfig(spark_context = sc,\n",
        "                             task = \"regression\",\n",
        "                             training_data = dataset,\n",
        "                             label_column_name = \"TotalOrderQty\",\n",
        "                             primary_metric = \"spearman_correlation\",\n",
        "                             experiment_timeout_hours = 0.25,\n",
        "                             max_concurrent_iterations = 2,\n",
        "                             enable_onnx_compatible_models = True)"
      ],
      "outputs": [
        {
          "output_type": "display_data",
          "data": {
            "application/vnd.livy.statement-meta+json": {
              "spark_pool": "sparkpool01",
              "session_id": 7,
              "statement_id": 4,
              "state": "finished",
              "livy_statement_state": "available",
              "queued_time": "2022-04-11T18:31:55.2429545Z",
              "session_start_time": null,
              "execution_start_time": "2022-04-11T18:33:11.724752Z",
              "execution_finish_time": "2022-04-11T18:33:13.1006989Z"
            },
            "text/plain": "StatementMeta(sparkpool01, 7, 4, Finished, Available)"
          },
          "metadata": {}
        }
      ],
      "execution_count": 4,
      "metadata": {}
    },
    {
      "cell_type": "code",
      "source": [
        "run = experiment.submit(automl_config)"
      ],
      "outputs": [
        {
          "output_type": "display_data",
          "data": {
            "application/vnd.livy.statement-meta+json": {
              "spark_pool": "sparkpool01",
              "session_id": 7,
              "statement_id": 5,
              "state": "finished",
              "livy_statement_state": "available",
              "queued_time": "2022-04-11T18:31:55.2458838Z",
              "session_start_time": null,
              "execution_start_time": "2022-04-11T18:33:13.8990741Z",
              "execution_finish_time": "2022-04-11T18:33:20.2213917Z"
            },
            "text/plain": "StatementMeta(sparkpool01, 7, 5, Finished, Available)"
          },
          "metadata": {}
        },
        {
          "output_type": "stream",
          "name": "stdout",
          "text": [
            "Submitting spark run."
          ]
        }
      ],
      "execution_count": 5,
      "metadata": {}
    },
    {
      "cell_type": "code",
      "source": [
        "displayHTML(\"<a href={} target='_blank'>Your experiment in Azure Machine Learning portal: {}</a>\".format(run.get_portal_url(), run.id))"
      ],
      "outputs": [
        {
          "output_type": "display_data",
          "data": {
            "application/vnd.livy.statement-meta+json": {
              "spark_pool": "sparkpool01",
              "session_id": 7,
              "statement_id": 6,
              "state": "finished",
              "livy_statement_state": "available",
              "queued_time": "2022-04-11T18:31:55.2489827Z",
              "session_start_time": null,
              "execution_start_time": "2022-04-11T18:33:20.7841765Z",
              "execution_finish_time": "2022-04-11T18:33:21.8056103Z"
            },
            "text/plain": "StatementMeta(sparkpool01, 7, 6, Finished, Available)"
          },
          "metadata": {}
        },
        {
          "output_type": "display_data",
          "data": {
            "text/html": "<a href=https://ml.azure.com/runs/AutoML_86fb31c3-3c40-4336-8da8-2c509044ff4a?wsid=/subscriptions/fad2758e-cc1a-4f45-8323-6b466001d50a/resourcegroups/cs-eur-research-dp-ss-rg/workspaces/cs-eur-research-dp-ss-mlw&tid=67119780-27b3-4331-813a-0b239d67524a target='_blank'>Your experiment in Azure Machine Learning portal: AutoML_86fb31c3-3c40-4336-8da8-2c509044ff4a</a>"
          },
          "metadata": {}
        }
      ],
      "execution_count": 6,
      "metadata": {}
    },
    {
      "cell_type": "code",
      "source": [
        "run.wait_for_completion()\n",
        "\n",
        "import onnxruntime\n",
        "import mlflow\n",
        "import mlflow.onnx\n",
        "\n",
        "from mlflow.models.signature import ModelSignature\n",
        "from mlflow.types import DataType\n",
        "from mlflow.types.schema import ColSpec, Schema\n",
        "\n",
        "# Get best model from automl run\n",
        "best_run, onnx_model = run.get_output(return_onnx_model=True)\n",
        "\n",
        "# Define utility functions to infer the schema of ONNX model\n",
        "def _infer_schema(data):\n",
        "    res = []\n",
        "    for _, col in enumerate(data):\n",
        "        t = col.type.replace(\"tensor(\", \"\").replace(\")\", \"\")\n",
        "        if t in [\"bool\"]:\n",
        "            dt = DataType.boolean\n",
        "        elif t in [\"int8\", \"uint8\", \"int16\", \"uint16\", \"int32\"]:\n",
        "            dt = DateType.integer\n",
        "        elif t in [\"uint32\", \"int64\"]:\n",
        "            dt = DataType.long\n",
        "        elif t in [\"float16\", \"bfloat16\", \"float\"]:\n",
        "            dt = DataType.float\n",
        "        elif t in [\"double\"]:\n",
        "            dt = DataType.double\n",
        "        elif t in [\"string\"]:\n",
        "            dt = DataType.string\n",
        "        else:\n",
        "            raise Exception(\"Unsupported type: \" + t)\n",
        "        res.append(ColSpec(type=dt, name=col.name))\n",
        "    return Schema(res)\n",
        "\n",
        "def _infer_signature(onnx_model):\n",
        "    onnx_model_bytes = onnx_model.SerializeToString()\n",
        "    onnx_runtime = onnxruntime.InferenceSession(onnx_model_bytes)\n",
        "    inputs = _infer_schema(onnx_runtime.get_inputs())\n",
        "    outputs = _infer_schema(onnx_runtime.get_outputs())\n",
        "    return ModelSignature(inputs, outputs)\n",
        "\n",
        "# Infer signature of ONNX model\n",
        "signature = _infer_signature(onnx_model)\n",
        "\n",
        "artifact_path = experiment_name + \"_artifact\"\n",
        "mlflow.set_tracking_uri(ws.get_mlflow_tracking_uri())\n",
        "mlflow.set_experiment(experiment_name)\n",
        "\n",
        "with mlflow.start_run() as run:\n",
        "    # Save the model to the outputs directory for capture\n",
        "    mlflow.onnx.log_model(onnx_model, artifact_path, signature=signature)\n",
        "\n",
        "    # Register the model to AML model registry\n",
        "    mlflow.register_model(\"runs:/\" + run.info.run_id + \"/\" + artifact_path, \"cs-eur-research-dp-synw-aw_forecast_product_sales-20220411063203-Best\")"
      ],
      "outputs": [
        {
          "output_type": "display_data",
          "data": {
            "application/vnd.livy.statement-meta+json": {
              "spark_pool": "sparkpool01",
              "session_id": 7,
              "statement_id": 7,
              "state": "finished",
              "livy_statement_state": "available",
              "queued_time": "2022-04-11T18:31:55.2527472Z",
              "session_start_time": null,
              "execution_start_time": "2022-04-11T18:33:22.8723568Z",
              "execution_finish_time": "2022-04-11T18:51:48.0193244Z"
            },
            "text/plain": "StatementMeta(sparkpool01, 7, 7, Finished, Available)"
          },
          "metadata": {}
        },
        {
          "output_type": "stream",
          "name": "stdout",
          "text": [
            "Received unrecognized parameter dataset_id\nReceived unrecognized parameter dataset_id\nReceived unrecognized parameter dataset_id\nSuccessfully registered model 'cs-eur-research-dp-synw-aw_forecast_product_sales-20220411063203-Best'.\n2022/04/11 18:51:45 INFO mlflow.tracking._model_registry.client: Waiting up to 300 seconds for model version to finish creation.                     Model name: cs-eur-research-dp-synw-aw_forecast_product_sales-20220411063203-Best, version 1\nCreated version '1' of model 'cs-eur-research-dp-synw-aw_forecast_product_sales-20220411063203-Best'."
          ]
        },
        {
          "output_type": "display_data",
          "data": {
            "text/plain": "<ModelVersion: creation_timestamp=1649703105662, current_stage='None', description='', last_updated_timestamp=1649703105662, name='cs-eur-research-dp-synw-aw_forecast_product_sales-20220411063203-Best', run_id='fac0e7be-11bf-40df-a7b0-e39acfbf4858', run_link='', source='azureml://experiments/cs-eur-research-dp-synw-aw_forecast_product_sales-20220411063203/runs/fac0e7be-11bf-40df-a7b0-e39acfbf4858/artifacts/cs-eur-research-dp-synw-aw_forecast_product_sales-20220411063203_artifact', status='READY', status_message='', tags={}, user_id='', version='1'>"
          },
          "metadata": {}
        }
      ],
      "execution_count": 7,
      "metadata": {}
    }
  ],
  "metadata": {
    "language_info": {
      "name": "python"
    },
    "kernelspec": {
      "name": "synapse_pyspark",
      "language": "Python",
      "display_name": "Synapse PySpark"
    },
    "kernel_info": {
      "name": "synapse_pyspark"
    },
    "save_output": true,
    "synapse_widget": {
      "version": "0.1",
      "state": {}
    }
  },
  "nbformat": 4,
  "nbformat_minor": 2
}