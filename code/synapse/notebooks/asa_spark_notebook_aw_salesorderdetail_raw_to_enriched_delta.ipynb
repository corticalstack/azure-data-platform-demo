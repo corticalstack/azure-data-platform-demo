{
  "nbformat": 4,
  "nbformat_minor": 2,
  "metadata": {
    "kernelspec": {
      "name": "synapse_pyspark",
      "display_name": "Synapse PySpark"
    },
    "language_info": {
      "name": "python"
    },
    "description": null,
    "save_output": true,
    "synapse_widget": {
      "version": "0.1",
      "state": {
        "f4f0c1ec-ac64-4236-992d-8b30b41218d5": {
          "type": "Synapse.DataFrame",
          "sync_state": {
            "table": {
              "rows": [
                {
                  "0": "abfss://raw@csresearchdpolaplakest.dfs.core.windows.net/erpcore/AdventureWorks/SalesOrderDetail/Year=2022/Month=04/Day=07/Time=09:40:06/SalesOrderDetail.csv",
                  "1": "SalesOrderDetail.csv",
                  "2": "60664"
                }
              ],
              "schema": [
                {
                  "key": "0",
                  "name": "path",
                  "type": "string"
                },
                {
                  "key": "1",
                  "name": "name",
                  "type": "string"
                },
                {
                  "key": "2",
                  "name": "size",
                  "type": "bigint"
                }
              ],
              "truncated": false
            },
            "isSummary": false,
            "language": "scala"
          },
          "persist_state": {
            "view": {
              "type": "details",
              "tableOptions": {},
              "chartOptions": {
                "chartType": "bar",
                "aggregationType": "sum",
                "categoryFieldKeys": [
                  "0"
                ],
                "seriesFieldKeys": [
                  "2"
                ],
                "isStacked": false
              }
            }
          }
        },
        "33af2999-0ff6-4585-af7d-162c25ba8771": {
          "type": "Synapse.DataFrame",
          "sync_state": {
            "table": {
              "rows": [
                {
                  "0": "71774",
                  "1": "110562",
                  "2": "1",
                  "3": "836",
                  "4": "356.898",
                  "5": "0.0",
                  "6": "356.898",
                  "7": "e3a1994c-7a68-4ce8-96a3-77fdd3bbd730",
                  "8": "2008-06-01 00:00:00.0000000"
                },
                {
                  "0": "71774",
                  "1": "110563",
                  "2": "1",
                  "3": "822",
                  "4": "356.898",
                  "5": "0.0",
                  "6": "356.898",
                  "7": "5c77f557-fdb6-43ba-90b9-9a7aec55ca32",
                  "8": "2008-06-01 00:00:00.0000000"
                },
                {
                  "0": "71776",
                  "1": "110567",
                  "2": "1",
                  "3": "907",
                  "4": "63.9",
                  "5": "0.0",
                  "6": "63.9",
                  "7": "6dbfe398-d15d-425e-aa58-88178fe360e5",
                  "8": "2008-06-01 00:00:00.0000000"
                },
                {
                  "0": "71780",
                  "1": "110616",
                  "2": "4",
                  "3": "905",
                  "4": "218.454",
                  "5": "0.0",
                  "6": "873.816",
                  "7": "377246c9-4483-48ed-a5b9-e56f005364e0",
                  "8": "2008-06-01 00:00:00.0000000"
                },
                {
                  "0": "71780",
                  "1": "110617",
                  "2": "2",
                  "3": "983",
                  "4": "461.694",
                  "5": "0.0",
                  "6": "923.388",
                  "7": "43a54bcd-536d-4a1b-8e69-24d083507a14",
                  "8": "2008-06-01 00:00:00.0000000"
                },
                {
                  "0": "71780",
                  "1": "110618",
                  "2": "6",
                  "3": "988",
                  "4": "112.998",
                  "5": "0.4",
                  "6": "406.7928",
                  "7": "12706fab-f3a2-48c6-b7c7-1ccde4081f18",
                  "8": "2008-06-01 00:00:00.0000000"
                },
                {
                  "0": "71780",
                  "1": "110619",
                  "2": "2",
                  "3": "748",
                  "4": "818.7",
                  "5": "0.0",
                  "6": "1637.4",
                  "7": "b12f0d3b-5b4e-4f1f-b2f0-f7cde99dd826",
                  "8": "2008-06-01 00:00:00.0000000"
                },
                {
                  "0": "71780",
                  "1": "110620",
                  "2": "1",
                  "3": "990",
                  "4": "323.994",
                  "5": "0.0",
                  "6": "323.994",
                  "7": "f117a449-039d-44b8-a4b2-b12001dacc01",
                  "8": "2008-06-01 00:00:00.0000000"
                },
                {
                  "0": "71780",
                  "1": "110621",
                  "2": "1",
                  "3": "926",
                  "4": "149.874",
                  "5": "0.0",
                  "6": "149.874",
                  "7": "92e5052b-72d0-4c91-9a8c-42591803667e",
                  "8": "2008-06-01 00:00:00.0000000"
                },
                {
                  "0": "71780",
                  "1": "110622",
                  "2": "1",
                  "3": "743",
                  "4": "809.76",
                  "5": "0.0",
                  "6": "809.76",
                  "7": "8bd33bed-c4f6-4d44-84fb-a7d04afcd794",
                  "8": "2008-06-01 00:00:00.0000000"
                }
              ],
              "schema": [
                {
                  "key": "0",
                  "name": "SalesOrderID",
                  "type": "int"
                },
                {
                  "key": "1",
                  "name": "SalesOrderDetailID",
                  "type": "int"
                },
                {
                  "key": "2",
                  "name": "OrderQty",
                  "type": "int"
                },
                {
                  "key": "3",
                  "name": "ProductID",
                  "type": "int"
                },
                {
                  "key": "4",
                  "name": "UnitPrice",
                  "type": "double"
                },
                {
                  "key": "5",
                  "name": "UnitPriceDiscount",
                  "type": "double"
                },
                {
                  "key": "6",
                  "name": "LineTotal",
                  "type": "double"
                },
                {
                  "key": "7",
                  "name": "rowguid",
                  "type": "string"
                },
                {
                  "key": "8",
                  "name": "ModifiedDate",
                  "type": "string"
                }
              ],
              "truncated": false
            },
            "isSummary": false,
            "language": "scala"
          },
          "persist_state": {
            "view": {
              "type": "details",
              "tableOptions": {},
              "chartOptions": {
                "chartType": "bar",
                "aggregationType": "sum",
                "categoryFieldKeys": [
                  "1"
                ],
                "seriesFieldKeys": [
                  "0"
                ],
                "isStacked": false
              }
            }
          }
        },
        "56f188cf-84c8-4f6b-93ae-db14f9eeed99": {
          "type": "Synapse.DataFrame",
          "sync_state": {
            "table": {
              "rows": [
                {
                  "0": "71774",
                  "1": "110562",
                  "2": "1",
                  "3": "836",
                  "4": "356.898",
                  "5": "0.0",
                  "6": "356.898",
                  "7": "e3a1994c-7a68-4ce8-96a3-77fdd3bbd730",
                  "8": "2008-06-01 00:00:00.0000000"
                },
                {
                  "0": "71774",
                  "1": "110563",
                  "2": "1",
                  "3": "822",
                  "4": "356.898",
                  "5": "0.0",
                  "6": "356.898",
                  "7": "5c77f557-fdb6-43ba-90b9-9a7aec55ca32",
                  "8": "2008-06-01 00:00:00.0000000"
                },
                {
                  "0": "71776",
                  "1": "110567",
                  "2": "1",
                  "3": "907",
                  "4": "63.9",
                  "5": "0.0",
                  "6": "63.9",
                  "7": "6dbfe398-d15d-425e-aa58-88178fe360e5",
                  "8": "2008-06-01 00:00:00.0000000"
                },
                {
                  "0": "71780",
                  "1": "110616",
                  "2": "4",
                  "3": "905",
                  "4": "218.454",
                  "5": "0.0",
                  "6": "873.816",
                  "7": "377246c9-4483-48ed-a5b9-e56f005364e0",
                  "8": "2008-06-01 00:00:00.0000000"
                },
                {
                  "0": "71780",
                  "1": "110617",
                  "2": "2",
                  "3": "983",
                  "4": "461.694",
                  "5": "0.0",
                  "6": "923.388",
                  "7": "43a54bcd-536d-4a1b-8e69-24d083507a14",
                  "8": "2008-06-01 00:00:00.0000000"
                },
                {
                  "0": "71780",
                  "1": "110618",
                  "2": "6",
                  "3": "988",
                  "4": "112.998",
                  "5": "0.4",
                  "6": "406.7928",
                  "7": "12706fab-f3a2-48c6-b7c7-1ccde4081f18",
                  "8": "2008-06-01 00:00:00.0000000"
                },
                {
                  "0": "71780",
                  "1": "110619",
                  "2": "2",
                  "3": "748",
                  "4": "818.7",
                  "5": "0.0",
                  "6": "1637.4",
                  "7": "b12f0d3b-5b4e-4f1f-b2f0-f7cde99dd826",
                  "8": "2008-06-01 00:00:00.0000000"
                },
                {
                  "0": "71780",
                  "1": "110620",
                  "2": "1",
                  "3": "990",
                  "4": "323.994",
                  "5": "0.0",
                  "6": "323.994",
                  "7": "f117a449-039d-44b8-a4b2-b12001dacc01",
                  "8": "2008-06-01 00:00:00.0000000"
                },
                {
                  "0": "71780",
                  "1": "110621",
                  "2": "1",
                  "3": "926",
                  "4": "149.874",
                  "5": "0.0",
                  "6": "149.874",
                  "7": "92e5052b-72d0-4c91-9a8c-42591803667e",
                  "8": "2008-06-01 00:00:00.0000000"
                },
                {
                  "0": "71780",
                  "1": "110622",
                  "2": "1",
                  "3": "743",
                  "4": "809.76",
                  "5": "0.0",
                  "6": "809.76",
                  "7": "8bd33bed-c4f6-4d44-84fb-a7d04afcd794",
                  "8": "2008-06-01 00:00:00.0000000"
                }
              ],
              "schema": [
                {
                  "key": "0",
                  "name": "SalesOrderID",
                  "type": "int"
                },
                {
                  "key": "1",
                  "name": "SalesOrderDetailID",
                  "type": "int"
                },
                {
                  "key": "2",
                  "name": "OrderQty",
                  "type": "int"
                },
                {
                  "key": "3",
                  "name": "ProductID",
                  "type": "int"
                },
                {
                  "key": "4",
                  "name": "UnitPrice",
                  "type": "double"
                },
                {
                  "key": "5",
                  "name": "UnitPriceDiscount",
                  "type": "double"
                },
                {
                  "key": "6",
                  "name": "LineTotal",
                  "type": "double"
                },
                {
                  "key": "7",
                  "name": "rowguid",
                  "type": "string"
                },
                {
                  "key": "8",
                  "name": "ModifiedDate",
                  "type": "string"
                }
              ],
              "truncated": false
            },
            "isSummary": false,
            "language": "scala"
          },
          "persist_state": {
            "view": {
              "type": "details",
              "tableOptions": {},
              "chartOptions": {
                "chartType": "bar",
                "aggregationType": "sum",
                "categoryFieldKeys": [
                  "1"
                ],
                "seriesFieldKeys": [
                  "0"
                ],
                "isStacked": false
              }
            }
          }
        },
        "41c4cb73-095d-4046-afa5-d32381735a8b": {
          "type": "Synapse.DataFrame",
          "sync_state": {
            "table": {
              "rows": [
                {
                  "0": "{\"commitInfo\":{\"timestamp\":1649330939073,\"operation\":\"CREATE OR REPLACE TABLE\",\"operationParameters\":{\"isManaged\":\"false\",\"description\":null,\"partitionBy\":\"[]\",\"properties\":\"{}\"},\"isBlindAppend\":true,\"operationMetrics\":{}}}"
                },
                {
                  "0": "{\"protocol\":{\"minReaderVersion\":1,\"minWriterVersion\":2}}"
                },
                {
                  "0": "{\"metaData\":{\"id\":\"7585834c-d24a-459a-b37b-21e18f7b0969\",\"format\":{\"provider\":\"parquet\",\"options\":{}},\"schemaString\":\"{\\\"type\\\":\\\"struct\\\",\\\"fields\\\":[{\\\"name\\\":\\\"SalesOrderID\\\",\\\"type\\\":\\\"integer\\\",\\\"nullable\\\":false,\\\"metadata\\\":{}},{\\\"name\\\":\\\"SalesOrderDetailID\\\",\\\"type\\\":\\\"integer\\\",\\\"nullable\\\":false,\\\"metadata\\\":{}},{\\\"name\\\":\\\"OrderQty\\\",\\\"type\\\":\\\"integer\\\",\\\"nullable\\\":false,\\\"metadata\\\":{}},{\\\"name\\\":\\\"ProductID\\\",\\\"type\\\":\\\"integer\\\",\\\"nullable\\\":false,\\\"metadata\\\":{}},{\\\"name\\\":\\\"UnitPrice\\\",\\\"type\\\":\\\"decimal(10,5)\\\",\\\"nullable\\\":false,\\\"metadata\\\":{}},{\\\"name\\\":\\\"UnitPriceDiscount\\\",\\\"type\\\":\\\"decimal(10,5)\\\",\\\"nullable\\\":false,\\\"metadata\\\":{}},{\\\"name\\\":\\\"LineTotal\\\",\\\"type\\\":\\\"decimal(38,6)\\\",\\\"nullable\\\":true,\\\"metadata\\\":{}},{\\\"name\\\":\\\"rowguid\\\",\\\"type\\\":\\\"string\\\",\\\"nullable\\\":true,\\\"metadata\\\":{}},{\\\"name\\\":\\\"ModifiedDate\\\",\\\"type\\\":\\\"string\\\",\\\"nullable\\\":true,\\\"metadata\\\":{}}]}\",\"partitionColumns\":[],\"configuration\":{},\"createdTime\":1649330938877}}"
                }
              ],
              "schema": [
                {
                  "key": "0",
                  "name": "value",
                  "type": "string"
                }
              ],
              "truncated": false
            },
            "isSummary": false,
            "language": "scala"
          },
          "persist_state": {
            "view": {
              "type": "details",
              "tableOptions": {},
              "chartOptions": {
                "chartType": "bar",
                "aggregationType": "count",
                "categoryFieldKeys": [
                  "0"
                ],
                "seriesFieldKeys": [
                  "0"
                ],
                "isStacked": false
              }
            }
          }
        }
      }
    }
  },
  "cells": [
    {
      "cell_type": "code",
      "execution_count": 26,
      "outputs": [
        {
          "output_type": "display_data",
          "data": {
            "application/vnd.livy.statement-meta+json": {
              "spark_pool": "sparkpool03",
              "session_id": 14,
              "statement_id": 1,
              "state": "finished",
              "livy_statement_state": "available",
              "queued_time": "2022-04-07T11:30:51.4139924Z",
              "session_start_time": "2022-04-07T11:30:51.4557381Z",
              "execution_start_time": "2022-04-07T11:31:42.0658773Z",
              "execution_finish_time": "2022-04-07T11:31:42.5911058Z"
            },
            "text/plain": "StatementMeta(sparkpool03, 14, 1, Finished, Available)"
          },
          "metadata": {}
        }
      ],
      "metadata": {
        "microsoft": {
          "language": "python"
        },
        "collapsed": false
      },
      "source": [
        "%%pyspark\r\n",
        "import pandas as pd\r\n",
        "from datetime import datetime"
      ]
    },
    {
      "cell_type": "code",
      "execution_count": 27,
      "outputs": [
        {
          "output_type": "display_data",
          "data": {
            "application/vnd.livy.statement-meta+json": {
              "spark_pool": "sparkpool03",
              "session_id": 14,
              "statement_id": 2,
              "state": "finished",
              "livy_statement_state": "available",
              "queued_time": "2022-04-07T11:30:53.0471034Z",
              "session_start_time": null,
              "execution_start_time": "2022-04-07T11:31:42.9845349Z",
              "execution_finish_time": "2022-04-07T11:31:43.6609761Z"
            },
            "text/plain": "StatementMeta(sparkpool03, 14, 2, Finished, Available)"
          },
          "metadata": {}
        }
      ],
      "metadata": {
        "jupyter": {
          "source_hidden": false,
          "outputs_hidden": false
        },
        "nteract": {
          "transient": {
            "deleting": false
          }
        }
      },
      "source": [
        "def deep_ls(path: str, max_depth=1):\r\n",
        "    \"\"\"\r\n",
        "    List all files and folders in specified path and\r\n",
        "    subfolders within maximum recursion depth.\r\n",
        "    \"\"\"\r\n",
        "\r\n",
        "    # List all files in path\r\n",
        "    li = mssparkutils.fs.ls(path)\r\n",
        "\r\n",
        "    # Return all files\r\n",
        "    for x in li:\r\n",
        "        if x.size != 0:\r\n",
        "            yield x\r\n",
        "\r\n",
        "    # If the max_depth has not been reached, start\r\n",
        "    # listing files and folders in subdirectories\r\n",
        "    if max_depth > 1:\r\n",
        "        for x in li:\r\n",
        "            if x.size != 0:\r\n",
        "                continue\r\n",
        "            for y in deep_ls(x.path, max_depth - 1):\r\n",
        "                yield y\r\n",
        "\r\n",
        "    # If max_depth has been reached,\r\n",
        "    # return the folders\r\n",
        "    else:\r\n",
        "        for x in li:\r\n",
        "            if x.size == 0:\r\n",
        "                yield x\r\n",
        "\r\n",
        "def convertfiles2df(files):\r\n",
        "    \"\"\"\r\n",
        "    Converts FileInfo object into Pandas DataFrame to enable display\r\n",
        "    \"\"\"\r\n",
        "    # Disable Arrow-based transfers since the Pandas DataFrame is tiny\r\n",
        "    spark.conf.set(\"spark.sql.execution.arrow.enabled\", \"false\")\r\n",
        "\r\n",
        "    schema = ['path','name','size']\r\n",
        "    df = pd.DataFrame([[getattr(i,j) for j in schema] for i in files], columns = schema).sort_values('path')\r\n",
        "    return(df)"
      ]
    },
    {
      "cell_type": "code",
      "execution_count": 28,
      "outputs": [
        {
          "output_type": "display_data",
          "data": {
            "application/vnd.livy.statement-meta+json": {
              "spark_pool": "sparkpool03",
              "session_id": 14,
              "statement_id": 3,
              "state": "finished",
              "livy_statement_state": "available",
              "queued_time": "2022-04-07T11:30:54.3897677Z",
              "session_start_time": null,
              "execution_start_time": "2022-04-07T11:31:44.0411221Z",
              "execution_finish_time": "2022-04-07T11:31:49.1447107Z"
            },
            "text/plain": "StatementMeta(sparkpool03, 14, 3, Finished, Available)"
          },
          "metadata": {}
        }
      ],
      "metadata": {
        "jupyter": {
          "source_hidden": false,
          "outputs_hidden": false
        },
        "nteract": {
          "transient": {
            "deleting": false
          }
        }
      },
      "source": [
        "root = 'abfss://raw@csresearchdpolaplakest.dfs.core.windows.net/erpcore/AdventureWorks/SalesOrderDetail'\r\n",
        "files = list(deep_ls(root, max_depth=20))"
      ]
    },
    {
      "cell_type": "code",
      "execution_count": 29,
      "outputs": [
        {
          "output_type": "display_data",
          "data": {
            "application/vnd.livy.statement-meta+json": {
              "spark_pool": "sparkpool03",
              "session_id": 14,
              "statement_id": 4,
              "state": "finished",
              "livy_statement_state": "available",
              "queued_time": "2022-04-07T11:30:56.0665001Z",
              "session_start_time": null,
              "execution_start_time": "2022-04-07T11:31:49.6614754Z",
              "execution_finish_time": "2022-04-07T11:31:50.0769435Z"
            },
            "text/plain": "StatementMeta(sparkpool03, 14, 4, Finished, Available)"
          },
          "metadata": {}
        }
      ],
      "metadata": {
        "jupyter": {
          "source_hidden": false,
          "outputs_hidden": false
        },
        "nteract": {
          "transient": {
            "deleting": false
          }
        },
        "collapsed": false
      },
      "source": [
        "df_list_of_files = convertfiles2df(files)"
      ]
    },
    {
      "cell_type": "code",
      "execution_count": 30,
      "outputs": [
        {
          "output_type": "display_data",
          "data": {
            "application/vnd.livy.statement-meta+json": {
              "spark_pool": "sparkpool03",
              "session_id": 14,
              "statement_id": 5,
              "state": "finished",
              "livy_statement_state": "available",
              "queued_time": "2022-04-07T11:30:56.8802847Z",
              "session_start_time": null,
              "execution_start_time": "2022-04-07T11:31:50.8105477Z",
              "execution_finish_time": "2022-04-07T11:31:51.2287225Z"
            },
            "text/plain": "StatementMeta(sparkpool03, 14, 5, Finished, Available)"
          },
          "metadata": {}
        },
        {
          "output_type": "display_data",
          "data": {
            "text/plain": "Index(['path', 'name', 'size'], dtype='object')"
          },
          "metadata": {}
        }
      ],
      "metadata": {
        "jupyter": {
          "source_hidden": false,
          "outputs_hidden": false
        },
        "nteract": {
          "transient": {
            "deleting": false
          }
        }
      },
      "source": [
        "df_list_of_files.columns"
      ]
    },
    {
      "cell_type": "code",
      "execution_count": 31,
      "outputs": [
        {
          "output_type": "display_data",
          "data": {
            "application/vnd.livy.statement-meta+json": {
              "spark_pool": "sparkpool03",
              "session_id": 14,
              "statement_id": 6,
              "state": "finished",
              "livy_statement_state": "available",
              "queued_time": "2022-04-07T11:30:57.8048376Z",
              "session_start_time": null,
              "execution_start_time": "2022-04-07T11:31:51.6231867Z",
              "execution_finish_time": "2022-04-07T11:31:59.446494Z"
            },
            "text/plain": "StatementMeta(sparkpool03, 14, 6, Finished, Available)"
          },
          "metadata": {}
        },
        {
          "output_type": "display_data",
          "data": {
            "application/vnd.synapse.widget-view+json": {
              "widget_id": "f4f0c1ec-ac64-4236-992d-8b30b41218d5",
              "widget_type": "Synapse.DataFrame"
            },
            "text/plain": "SynapseWidget(Synapse.DataFrame, f4f0c1ec-ac64-4236-992d-8b30b41218d5)"
          },
          "metadata": {}
        }
      ],
      "metadata": {
        "jupyter": {
          "source_hidden": false,
          "outputs_hidden": false
        },
        "nteract": {
          "transient": {
            "deleting": false
          }
        },
        "collapsed": false
      },
      "source": [
        "df_list_of_files = df_list_of_files.sort_values(['path'], ascending=[False])\r\n",
        "display(df_list_of_files)"
      ]
    },
    {
      "cell_type": "code",
      "execution_count": 32,
      "outputs": [
        {
          "output_type": "display_data",
          "data": {
            "application/vnd.livy.statement-meta+json": {
              "spark_pool": "sparkpool03",
              "session_id": 14,
              "statement_id": 7,
              "state": "finished",
              "livy_statement_state": "available",
              "queued_time": "2022-04-07T11:30:59.0498649Z",
              "session_start_time": null,
              "execution_start_time": "2022-04-07T11:31:59.827484Z",
              "execution_finish_time": "2022-04-07T11:32:00.2991504Z"
            },
            "text/plain": "StatementMeta(sparkpool03, 14, 7, Finished, Available)"
          },
          "metadata": {}
        }
      ],
      "metadata": {
        "jupyter": {
          "source_hidden": false,
          "outputs_hidden": false
        },
        "nteract": {
          "transient": {
            "deleting": false
          }
        }
      },
      "source": [
        "source_path=df_list_of_files.iloc[0]['path']"
      ]
    },
    {
      "cell_type": "code",
      "execution_count": 33,
      "outputs": [
        {
          "output_type": "display_data",
          "data": {
            "application/vnd.livy.statement-meta+json": {
              "spark_pool": "sparkpool03",
              "session_id": 14,
              "statement_id": 8,
              "state": "finished",
              "livy_statement_state": "available",
              "queued_time": "2022-04-07T11:31:00.3680194Z",
              "session_start_time": null,
              "execution_start_time": "2022-04-07T11:32:00.6910738Z",
              "execution_finish_time": "2022-04-07T11:32:01.1075731Z"
            },
            "text/plain": "StatementMeta(sparkpool03, 14, 8, Finished, Available)"
          },
          "metadata": {}
        },
        {
          "output_type": "display_data",
          "data": {
            "text/plain": "'abfss://raw@csresearchdpolaplakest.dfs.core.windows.net/erpcore/AdventureWorks/SalesOrderDetail/Year=2022/Month=04/Day=07/Time=09:40:06/SalesOrderDetail.csv'"
          },
          "metadata": {}
        }
      ],
      "metadata": {
        "jupyter": {
          "source_hidden": false,
          "outputs_hidden": false
        },
        "nteract": {
          "transient": {
            "deleting": false
          }
        }
      },
      "source": [
        "source_path"
      ]
    },
    {
      "cell_type": "code",
      "execution_count": 34,
      "outputs": [
        {
          "output_type": "display_data",
          "data": {
            "application/vnd.livy.statement-meta+json": {
              "spark_pool": "sparkpool03",
              "session_id": 14,
              "statement_id": 9,
              "state": "finished",
              "livy_statement_state": "available",
              "queued_time": "2022-04-07T11:31:01.1232483Z",
              "session_start_time": null,
              "execution_start_time": "2022-04-07T11:32:01.5657662Z",
              "execution_finish_time": "2022-04-07T11:32:12.6687313Z"
            },
            "text/plain": "StatementMeta(sparkpool03, 14, 9, Finished, Available)"
          },
          "metadata": {}
        }
      ],
      "metadata": {
        "jupyter": {
          "source_hidden": false,
          "outputs_hidden": false
        },
        "nteract": {
          "transient": {
            "deleting": false
          }
        }
      },
      "source": [
        "df = (spark \r\n",
        "        .read\r\n",
        "        .format(\"csv\")\r\n",
        "        .option(\"inferSchema\", \"true\")\r\n",
        "        .option(\"header\",\"true\")\r\n",
        "        .load(source_path)\r\n",
        ")"
      ]
    },
    {
      "cell_type": "code",
      "execution_count": 35,
      "outputs": [
        {
          "output_type": "display_data",
          "data": {
            "application/vnd.livy.statement-meta+json": {
              "spark_pool": "sparkpool03",
              "session_id": 14,
              "statement_id": 10,
              "state": "finished",
              "livy_statement_state": "available",
              "queued_time": "2022-04-07T11:31:02.668219Z",
              "session_start_time": null,
              "execution_start_time": "2022-04-07T11:32:13.1023911Z",
              "execution_finish_time": "2022-04-07T11:32:22.2635257Z"
            },
            "text/plain": "StatementMeta(sparkpool03, 14, 10, Finished, Available)"
          },
          "metadata": {}
        },
        {
          "output_type": "stream",
          "name": "stdout",
          "text": [
            "+------------+------------------+--------+---------+---------+-----------------+---------+--------------------+--------------------+\n|SalesOrderID|SalesOrderDetailID|OrderQty|ProductID|UnitPrice|UnitPriceDiscount|LineTotal|             rowguid|        ModifiedDate|\n+------------+------------------+--------+---------+---------+-----------------+---------+--------------------+--------------------+\n|       71774|            110562|       1|      836|  356.898|              0.0|  356.898|e3a1994c-7a68-4ce...|2008-06-01 00:00:...|\n|       71774|            110563|       1|      822|  356.898|              0.0|  356.898|5c77f557-fdb6-43b...|2008-06-01 00:00:...|\n|       71776|            110567|       1|      907|     63.9|              0.0|     63.9|6dbfe398-d15d-425...|2008-06-01 00:00:...|\n|       71780|            110616|       4|      905|  218.454|              0.0|  873.816|377246c9-4483-48e...|2008-06-01 00:00:...|\n|       71780|            110617|       2|      983|  461.694|              0.0|  923.388|43a54bcd-536d-4a1...|2008-06-01 00:00:...|\n|       71780|            110618|       6|      988|  112.998|              0.4| 406.7928|12706fab-f3a2-48c...|2008-06-01 00:00:...|\n|       71780|            110619|       2|      748|    818.7|              0.0|   1637.4|b12f0d3b-5b4e-4f1...|2008-06-01 00:00:...|\n|       71780|            110620|       1|      990|  323.994|              0.0|  323.994|f117a449-039d-44b...|2008-06-01 00:00:...|\n|       71780|            110621|       1|      926|  149.874|              0.0|  149.874|92e5052b-72d0-4c9...|2008-06-01 00:00:...|\n|       71780|            110622|       1|      743|   809.76|              0.0|   809.76|8bd33bed-c4f6-4d4...|2008-06-01 00:00:...|\n|       71780|            110623|       4|      782| 1376.994|              0.0| 5507.976|686999fb-42e6-4d0...|2008-06-01 00:00:...|\n|       71780|            110624|       2|      918|   158.43|              0.0|   316.86|82940b03-c70b-418...|2008-06-01 00:00:...|\n|       71780|            110625|       4|      780| 1391.994|              0.0| 5567.976|644b0cd6-b2c3-4e4...|2008-06-01 00:00:...|\n|       71780|            110626|       1|      937|   48.594|              0.0|   48.594|7f5feb17-8ef4-423...|2008-06-01 00:00:...|\n|       71780|            110627|       6|      867|   41.994|              0.0|  251.964|ac78838d-b503-41a...|2008-06-01 00:00:...|\n|       71780|            110628|       1|      985|  112.998|              0.4|  67.7988|2c10a282-a13d-442...|2008-06-01 00:00:...|\n|       71780|            110629|       2|      989|  323.994|              0.0|  647.988|654fb79e-70df-4b9...|2008-06-01 00:00:...|\n|       71780|            110630|       3|      991|  323.994|              0.0|  971.982|3d6ca7ab-055e-453...|2008-06-01 00:00:...|\n|       71780|            110631|       1|      992|  323.994|              0.0|  323.994|560feee1-dd54-4c3...|2008-06-01 00:00:...|\n|       71780|            110632|       2|      993|  323.994|              0.0|  647.988|19570052-4023-465...|2008-06-01 00:00:...|\n+------------+------------------+--------+---------+---------+-----------------+---------+--------------------+--------------------+\nonly showing top 20 rows"
          ]
        }
      ],
      "metadata": {
        "jupyter": {
          "source_hidden": false,
          "outputs_hidden": false
        },
        "nteract": {
          "transient": {
            "deleting": false
          }
        }
      },
      "source": [
        "df.show()"
      ]
    },
    {
      "cell_type": "code",
      "execution_count": 36,
      "outputs": [
        {
          "output_type": "display_data",
          "data": {
            "application/vnd.livy.statement-meta+json": {
              "spark_pool": "sparkpool03",
              "session_id": 14,
              "statement_id": 11,
              "state": "finished",
              "livy_statement_state": "available",
              "queued_time": "2022-04-07T11:31:04.3067901Z",
              "session_start_time": null,
              "execution_start_time": "2022-04-07T11:32:22.7040898Z",
              "execution_finish_time": "2022-04-07T11:32:24.2642736Z"
            },
            "text/plain": "StatementMeta(sparkpool03, 14, 11, Finished, Available)"
          },
          "metadata": {}
        },
        {
          "output_type": "display_data",
          "data": {
            "application/vnd.synapse.widget-view+json": {
              "widget_id": "33af2999-0ff6-4585-af7d-162c25ba8771",
              "widget_type": "Synapse.DataFrame"
            },
            "text/plain": "SynapseWidget(Synapse.DataFrame, 33af2999-0ff6-4585-af7d-162c25ba8771)"
          },
          "metadata": {}
        }
      ],
      "metadata": {
        "jupyter": {
          "source_hidden": false,
          "outputs_hidden": false
        },
        "nteract": {
          "transient": {
            "deleting": false
          }
        },
        "collapsed": false
      },
      "source": [
        "display(df.limit(10))"
      ]
    },
    {
      "cell_type": "code",
      "execution_count": 37,
      "outputs": [
        {
          "output_type": "display_data",
          "data": {
            "application/vnd.livy.statement-meta+json": {
              "spark_pool": "sparkpool03",
              "session_id": 14,
              "statement_id": 12,
              "state": "finished",
              "livy_statement_state": "available",
              "queued_time": "2022-04-07T11:31:05.7147925Z",
              "session_start_time": null,
              "execution_start_time": "2022-04-07T11:32:24.6503716Z",
              "execution_finish_time": "2022-04-07T11:32:25.6892057Z"
            },
            "text/plain": "StatementMeta(sparkpool03, 14, 12, Finished, Available)"
          },
          "metadata": {}
        },
        {
          "output_type": "display_data",
          "data": {
            "text/plain": "542"
          },
          "metadata": {}
        }
      ],
      "metadata": {
        "jupyter": {
          "source_hidden": false,
          "outputs_hidden": false
        },
        "nteract": {
          "transient": {
            "deleting": false
          }
        }
      },
      "source": [
        "df.count()"
      ]
    },
    {
      "cell_type": "code",
      "execution_count": 38,
      "outputs": [
        {
          "output_type": "display_data",
          "data": {
            "application/vnd.livy.statement-meta+json": {
              "spark_pool": "sparkpool03",
              "session_id": 14,
              "statement_id": 13,
              "state": "finished",
              "livy_statement_state": "available",
              "queued_time": "2022-04-07T11:31:07.107976Z",
              "session_start_time": null,
              "execution_start_time": "2022-04-07T11:32:26.0812568Z",
              "execution_finish_time": "2022-04-07T11:32:26.6351808Z"
            },
            "text/plain": "StatementMeta(sparkpool03, 14, 13, Finished, Available)"
          },
          "metadata": {}
        },
        {
          "output_type": "stream",
          "name": "stdout",
          "text": [
            "root\n |-- SalesOrderID: integer (nullable = true)\n |-- SalesOrderDetailID: integer (nullable = true)\n |-- OrderQty: integer (nullable = true)\n |-- ProductID: integer (nullable = true)\n |-- UnitPrice: double (nullable = true)\n |-- UnitPriceDiscount: double (nullable = true)\n |-- LineTotal: double (nullable = true)\n |-- rowguid: string (nullable = true)\n |-- ModifiedDate: string (nullable = true)"
          ]
        }
      ],
      "metadata": {
        "jupyter": {
          "source_hidden": false,
          "outputs_hidden": false
        },
        "nteract": {
          "transient": {
            "deleting": false
          }
        }
      },
      "source": [
        "df.printSchema()"
      ]
    },
    {
      "cell_type": "code",
      "execution_count": 39,
      "outputs": [
        {
          "output_type": "display_data",
          "data": {
            "application/vnd.livy.statement-meta+json": {
              "spark_pool": "sparkpool03",
              "session_id": 14,
              "statement_id": 14,
              "state": "finished",
              "livy_statement_state": "available",
              "queued_time": "2022-04-07T11:31:08.8510719Z",
              "session_start_time": null,
              "execution_start_time": "2022-04-07T11:32:27.0604728Z",
              "execution_finish_time": "2022-04-07T11:32:27.5123715Z"
            },
            "text/plain": "StatementMeta(sparkpool03, 14, 14, Finished, Available)"
          },
          "metadata": {}
        }
      ],
      "metadata": {
        "jupyter": {
          "source_hidden": false,
          "outputs_hidden": false
        },
        "nteract": {
          "transient": {
            "deleting": false
          }
        }
      },
      "source": [
        "# Replace null values with zero\r\n",
        "df = df.na.fill(0)"
      ]
    },
    {
      "cell_type": "code",
      "execution_count": 40,
      "outputs": [
        {
          "output_type": "display_data",
          "data": {
            "application/vnd.livy.statement-meta+json": {
              "spark_pool": "sparkpool03",
              "session_id": 14,
              "statement_id": 15,
              "state": "finished",
              "livy_statement_state": "available",
              "queued_time": "2022-04-07T11:31:09.842292Z",
              "session_start_time": null,
              "execution_start_time": "2022-04-07T11:32:27.9612567Z",
              "execution_finish_time": "2022-04-07T11:32:28.3753409Z"
            },
            "text/plain": "StatementMeta(sparkpool03, 14, 15, Finished, Available)"
          },
          "metadata": {}
        }
      ],
      "metadata": {
        "jupyter": {
          "source_hidden": false,
          "outputs_hidden": false
        },
        "nteract": {
          "transient": {
            "deleting": false
          }
        }
      },
      "source": [
        "# Replace null strings with empty\r\n",
        "df = df.na.fill(\"\")"
      ]
    },
    {
      "cell_type": "code",
      "execution_count": 41,
      "outputs": [
        {
          "output_type": "display_data",
          "data": {
            "application/vnd.livy.statement-meta+json": {
              "spark_pool": "sparkpool03",
              "session_id": 14,
              "statement_id": 16,
              "state": "finished",
              "livy_statement_state": "available",
              "queued_time": "2022-04-07T11:31:11.0009207Z",
              "session_start_time": null,
              "execution_start_time": "2022-04-07T11:32:29.0595756Z",
              "execution_finish_time": "2022-04-07T11:32:31.0742427Z"
            },
            "text/plain": "StatementMeta(sparkpool03, 14, 16, Finished, Available)"
          },
          "metadata": {}
        },
        {
          "output_type": "display_data",
          "data": {
            "application/vnd.synapse.widget-view+json": {
              "widget_id": "56f188cf-84c8-4f6b-93ae-db14f9eeed99",
              "widget_type": "Synapse.DataFrame"
            },
            "text/plain": "SynapseWidget(Synapse.DataFrame, 56f188cf-84c8-4f6b-93ae-db14f9eeed99)"
          },
          "metadata": {}
        }
      ],
      "metadata": {
        "jupyter": {
          "source_hidden": false,
          "outputs_hidden": false
        },
        "nteract": {
          "transient": {
            "deleting": false
          }
        },
        "collapsed": false
      },
      "source": [
        "display(df.limit(10))"
      ]
    },
    {
      "cell_type": "code",
      "execution_count": 43,
      "outputs": [
        {
          "output_type": "display_data",
          "data": {
            "application/vnd.livy.statement-meta+json": {
              "spark_pool": "sparkpool03",
              "session_id": 14,
              "statement_id": 18,
              "state": "finished",
              "livy_statement_state": "available",
              "queued_time": "2022-04-07T11:32:36.6929828Z",
              "session_start_time": null,
              "execution_start_time": "2022-04-07T11:32:37.0716363Z",
              "execution_finish_time": "2022-04-07T11:32:37.6020687Z"
            },
            "text/plain": "StatementMeta(sparkpool03, 14, 18, Finished, Available)"
          },
          "metadata": {}
        }
      ],
      "metadata": {
        "jupyter": {
          "source_hidden": false,
          "outputs_hidden": false
        },
        "nteract": {
          "transient": {
            "deleting": false
          }
        }
      },
      "source": [
        "# Create temp views to easily query with Spark SQL\r\n",
        "\r\n",
        "df.createOrReplaceTempView('merge')"
      ]
    },
    {
      "cell_type": "code",
      "execution_count": 44,
      "outputs": [
        {
          "output_type": "display_data",
          "data": {
            "application/vnd.livy.statement-meta+json": {
              "spark_pool": "sparkpool03",
              "session_id": 14,
              "statement_id": 19,
              "state": "finished",
              "livy_statement_state": "available",
              "queued_time": "2022-04-07T11:32:39.9068729Z",
              "session_start_time": null,
              "execution_start_time": "2022-04-07T11:32:40.3429393Z",
              "execution_finish_time": "2022-04-07T11:33:34.910991Z"
            },
            "text/plain": "StatementMeta(sparkpool03, 14, 19, Finished, Available)"
          },
          "metadata": {}
        },
        {
          "output_type": "execute_result",
          "data": {
            "application/vnd.synapse.sparksql-result+json": {
              "schema": {
                "type": "struct",
                "fields": []
              },
              "data": []
            },
            "text/plain": "<Spark SQL result set with 0 rows and 0 fields>"
          },
          "execution_count": 44,
          "metadata": {}
        }
      ],
      "metadata": {
        "jupyter": {
          "source_hidden": false,
          "outputs_hidden": false
        },
        "nteract": {
          "transient": {
            "deleting": false
          }
        },
        "microsoft": {
          "language": "sparksql"
        },
        "collapsed": false
      },
      "source": [
        "%%sql\r\n",
        "MERGE INTO aw_sales_order_detail\r\n",
        "USING merge\r\n",
        "ON aw_sales_order_detail.SalesOrderID = merge.SalesOrderID AND\r\n",
        "aw_sales_order_detail.SalesOrderDetailID = merge.SalesOrderDetailID\r\n",
        "WHEN MATCHED THEN UPDATE SET *\r\n",
        "WHEN NOT MATCHED THEN INSERT *"
      ]
    },
    {
      "cell_type": "code",
      "execution_count": 45,
      "outputs": [
        {
          "output_type": "display_data",
          "data": {
            "application/vnd.livy.statement-meta+json": {
              "spark_pool": "sparkpool03",
              "session_id": 14,
              "statement_id": 20,
              "state": "finished",
              "livy_statement_state": "available",
              "queued_time": "2022-04-07T11:36:05.0783097Z",
              "session_start_time": null,
              "execution_start_time": "2022-04-07T11:36:05.5038558Z",
              "execution_finish_time": "2022-04-07T11:36:07.4044129Z"
            },
            "text/plain": "StatementMeta(sparkpool03, 14, 20, Finished, Available)"
          },
          "metadata": {}
        },
        {
          "output_type": "error",
          "ename": "Error",
          "evalue": "Table or view 'aw_sales_order_deyail' not found in database 'default'",
          "traceback": [
            "Error: Table or view 'aw_sales_order_deyail' not found in database 'default'",
            "org.apache.spark.sql.catalyst.catalog.SessionCatalog.requireTableExists(SessionCatalog.scala:199)",
            "org.apache.spark.sql.catalyst.catalog.SessionCatalog.getTableRawMetadata(SessionCatalog.scala:488)",
            "org.apache.spark.sql.catalyst.catalog.SessionCatalog.getTableMetadata(SessionCatalog.scala:474)",
            "org.apache.spark.sql.delta.commands.DescribeDeltaHistoryCommand.metadata$lzycompute$1(DescribeDeltaHistoryCommand.scala:65)",
            "org.apache.spark.sql.delta.commands.DescribeDeltaHistoryCommand.metadata$1(DescribeDeltaHistoryCommand.scala:65)",
            "org.apache.spark.sql.delta.commands.DescribeDeltaHistoryCommand.run(DescribeDeltaHistoryCommand.scala:73)",
            "org.apache.spark.sql.execution.command.ExecutedCommandExec.sideEffectResult$lzycompute(commands.scala:70)",
            "org.apache.spark.sql.execution.command.ExecutedCommandExec.sideEffectResult(commands.scala:68)",
            "org.apache.spark.sql.execution.command.ExecutedCommandExec.executeCollect(commands.scala:79)",
            "org.apache.spark.sql.Dataset.$anonfun$logicalPlan$1(Dataset.scala:228)",
            "org.apache.spark.sql.Dataset.$anonfun$withAction$1(Dataset.scala:3687)",
            "org.apache.spark.sql.execution.SQLExecution$.$anonfun$withNewExecutionId$5(SQLExecution.scala:107)",
            "org.apache.spark.sql.execution.SQLExecution$.withSQLConfPropagated(SQLExecution.scala:181)",
            "org.apache.spark.sql.execution.SQLExecution$.$anonfun$withNewExecutionId$1(SQLExecution.scala:94)",
            "org.apache.spark.sql.SparkSession.withActive(SparkSession.scala:775)",
            "org.apache.spark.sql.execution.SQLExecution$.withNewExecutionId(SQLExecution.scala:68)",
            "org.apache.spark.sql.Dataset.withAction(Dataset.scala:3685)",
            "org.apache.spark.sql.Dataset.<init>(Dataset.scala:228)",
            "org.apache.spark.sql.Dataset$.$anonfun$ofRows$2(Dataset.scala:99)",
            "org.apache.spark.sql.SparkSession.withActive(SparkSession.scala:775)",
            "org.apache.spark.sql.Dataset$.ofRows(Dataset.scala:96)",
            "org.apache.spark.sql.SparkSession.$anonfun$sql$1(SparkSession.scala:618)",
            "org.apache.spark.sql.SparkSession.withActive(SparkSession.scala:775)",
            "org.apache.spark.sql.SparkSession.sql(SparkSession.scala:613)",
            "org.apache.livy.repl.SQLInterpreter.execute(SQLInterpreter.scala:129)",
            "org.apache.livy.repl.Session.$anonfun$executeCode$1(Session.scala:380)",
            "scala.Option.map(Option.scala:230)",
            "org.apache.livy.repl.Session.executeCode(Session.scala:378)",
            "org.apache.livy.repl.Session.$anonfun$execute$3(Session.scala:244)",
            "org.apache.livy.repl.Session.withRealtimeOutputSupport(Session.scala:518)",
            "org.apache.livy.repl.Session.$anonfun$execute$1(Session.scala:244)",
            "scala.runtime.java8.JFunction0$mcV$sp.apply(JFunction0$mcV$sp.java:23)",
            "scala.concurrent.Future$.$anonfun$apply$1(Future.scala:659)",
            "scala.util.Success.$anonfun$map$1(Try.scala:255)",
            "scala.util.Success.map(Try.scala:213)",
            "scala.concurrent.Future.$anonfun$map$1(Future.scala:292)",
            "scala.concurrent.impl.Promise.liftedTree1$1(Promise.scala:33)",
            "scala.concurrent.impl.Promise.$anonfun$transform$1(Promise.scala:33)",
            "scala.concurrent.impl.CallbackRunnable.run(Promise.scala:64)",
            "java.util.concurrent.ThreadPoolExecutor.runWorker(ThreadPoolExecutor.java:1149)",
            "java.util.concurrent.ThreadPoolExecutor$Worker.run(ThreadPoolExecutor.java:624)",
            "java.lang.Thread.run(Thread.java:748)"
          ]
        }
      ],
      "metadata": {
        "jupyter": {
          "source_hidden": false,
          "outputs_hidden": false
        },
        "nteract": {
          "transient": {
            "deleting": false
          }
        },
        "microsoft": {
          "language": "sparksql"
        },
        "collapsed": false
      },
      "source": [
        "%%sql\r\n",
        "-- Retrieve the version/change history of the Delta table\r\n",
        "DESCRIBE HISTORY aw_sales_order_deyail"
      ]
    },
    {
      "cell_type": "code",
      "execution_count": 46,
      "outputs": [
        {
          "output_type": "display_data",
          "data": {
            "application/vnd.livy.statement-meta+json": {
              "spark_pool": "sparkpool03",
              "session_id": 14,
              "statement_id": 21,
              "state": "finished",
              "livy_statement_state": "available",
              "queued_time": "2022-04-07T11:36:19.5142954Z",
              "session_start_time": null,
              "execution_start_time": "2022-04-07T11:36:19.9903543Z",
              "execution_finish_time": "2022-04-07T11:36:25.2610608Z"
            },
            "text/plain": "StatementMeta(sparkpool03, 14, 21, Finished, Available)"
          },
          "metadata": {}
        },
        {
          "output_type": "execute_result",
          "data": {
            "application/vnd.synapse.sparksql-result+json": {
              "schema": {
                "type": "struct",
                "fields": [
                  {
                    "name": "SalesOrderID",
                    "type": "integer",
                    "nullable": false,
                    "metadata": {}
                  },
                  {
                    "name": "SalesOrderDetailID",
                    "type": "integer",
                    "nullable": false,
                    "metadata": {}
                  },
                  {
                    "name": "OrderQty",
                    "type": "integer",
                    "nullable": false,
                    "metadata": {}
                  },
                  {
                    "name": "ProductID",
                    "type": "integer",
                    "nullable": false,
                    "metadata": {}
                  },
                  {
                    "name": "UnitPrice",
                    "type": "decimal(10,5)",
                    "nullable": false,
                    "metadata": {}
                  },
                  {
                    "name": "UnitPriceDiscount",
                    "type": "decimal(10,5)",
                    "nullable": false,
                    "metadata": {}
                  },
                  {
                    "name": "LineTotal",
                    "type": "decimal(38,6)",
                    "nullable": true,
                    "metadata": {}
                  },
                  {
                    "name": "rowguid",
                    "type": "string",
                    "nullable": true,
                    "metadata": {}
                  },
                  {
                    "name": "ModifiedDate",
                    "type": "string",
                    "nullable": true,
                    "metadata": {}
                  }
                ]
              },
              "data": [
                [
                  71774,
                  110563,
                  1,
                  822,
                  "356.89800",
                  "0.00000",
                  "356.898000",
                  "5c77f557-fdb6-43ba-90b9-9a7aec55ca32",
                  "2008-06-01 00:00:00.0000000"
                ],
                [
                  71774,
                  110562,
                  1,
                  836,
                  "356.89800",
                  "0.00000",
                  "356.898000",
                  "e3a1994c-7a68-4ce8-96a3-77fdd3bbd730",
                  "2008-06-01 00:00:00.0000000"
                ]
              ]
            },
            "text/plain": "<Spark SQL result set with 2 rows and 9 fields>"
          },
          "execution_count": 46,
          "metadata": {}
        }
      ],
      "metadata": {
        "jupyter": {
          "source_hidden": false,
          "outputs_hidden": false
        },
        "nteract": {
          "transient": {
            "deleting": false
          }
        },
        "microsoft": {
          "language": "sparksql"
        },
        "collapsed": false
      },
      "source": [
        "%%sql\r\n",
        "SELECT *\r\n",
        "FROM aw_sales_order_detail\r\n",
        "where SalesOrderID = 71774"
      ]
    },
    {
      "cell_type": "code",
      "execution_count": 48,
      "outputs": [
        {
          "output_type": "display_data",
          "data": {
            "application/vnd.livy.statement-meta+json": {
              "spark_pool": "sparkpool03",
              "session_id": 14,
              "statement_id": 23,
              "state": "finished",
              "livy_statement_state": "available",
              "queued_time": "2022-04-07T11:36:46.9836707Z",
              "session_start_time": null,
              "execution_start_time": "2022-04-07T11:36:47.3535727Z",
              "execution_finish_time": "2022-04-07T11:36:50.2943837Z"
            },
            "text/plain": "StatementMeta(sparkpool03, 14, 23, Finished, Available)"
          },
          "metadata": {}
        },
        {
          "output_type": "stream",
          "name": "stdout",
          "text": [
            "+------------+------------------+--------+---------+----------+-----------------+------------+--------------------+--------------------+\n|SalesOrderID|SalesOrderDetailID|OrderQty|ProductID| UnitPrice|UnitPriceDiscount|   LineTotal|             rowguid|        ModifiedDate|\n+------------+------------------+--------+---------+----------+-----------------+------------+--------------------+--------------------+\n|       71780|            110643|       7|      869|  41.99400|          0.00000|  293.958000|169c75f6-a364-46e...|2008-06-01 00:00:...|\n|       71782|            110698|       2|      945|  54.89400|          0.00000|  109.788000|2d3aef50-9ace-4b5...|2008-06-01 00:00:...|\n|       71784|            110782|       2|      916|  31.58400|          0.00000|   63.168000|deefdf0c-fa8e-40c...|2008-06-01 00:00:...|\n|       71797|            111078|      11|      870|   2.89420|          0.02000|   31.199476|e35d5ac3-be8e-4f3...|2008-06-01 00:00:...|\n|       71902|            112995|       7|      711|  20.99400|          0.00000|  146.958000|4b4f24a7-6007-497...|2008-06-01 00:00:...|\n|       71938|            113284|       5|      940|  48.59400|          0.00000|  242.970000|d9d2a6ad-347a-4c9...|2008-06-01 00:00:...|\n|       71938|            113305|       3|      793|1466.01000|          0.00000| 4398.030000|4b32e728-acdd-47f...|2008-06-01 00:00:...|\n|       71938|            113309|       5|      801| 672.29400|          0.00000| 3361.470000|b80c355f-e9a2-430...|2008-06-01 00:00:...|\n|       71782|            110670|      10|      712|   5.39400|          0.00000|   53.940000|a7873b73-b47e-4a0...|2008-06-01 00:00:...|\n|       71782|            110680|       1|      948|  63.90000|          0.00000|   63.900000|083cdd70-a4df-44f...|2008-06-01 00:00:...|\n|       71845|            112129|       2|      781|1391.99400|          0.00000| 2783.988000|533d7438-e8be-4b4...|2008-06-01 00:00:...|\n|       71935|            113223|       1|      998| 323.99400|          0.00000|  323.994000|a6e8d782-457a-413...|2008-06-01 00:00:...|\n|       71936|            113234|       2|      905| 218.45400|          0.00000|  436.908000|49fb0e07-067c-442...|2008-06-01 00:00:...|\n|       71936|            113240|      10|      783|1376.99400|          0.00000|13769.940000|e30ea1fb-b08d-43b...|2008-06-01 00:00:...|\n|       71938|            113312|       3|      715|  29.99400|          0.00000|   89.982000|64fbaaab-9400-466...|2008-06-01 00:00:...|\n|       71780|            110632|       2|      993| 323.99400|          0.00000|  647.988000|19570052-4023-465...|2008-06-01 00:00:...|\n|       71782|            110674|       3|      876|  72.00000|          0.00000|  216.000000|fd409a4f-dab6-449...|2008-06-01 00:00:...|\n|       71784|            110758|       4|      970| 728.91000|          0.00000| 2915.640000|3b529926-7ae8-480...|2008-06-01 00:00:...|\n|       71796|            111026|       3|      979| 445.41000|          0.00000| 1336.230000|a96adf3d-3f0e-439...|2008-06-01 00:00:...|\n|       71902|            112961|       2|      908|  16.27200|          0.00000|   32.544000|06f6b747-fd45-4d4...|2008-06-01 00:00:...|\n+------------+------------------+--------+---------+----------+-----------------+------------+--------------------+--------------------+\nonly showing top 20 rows"
          ]
        }
      ],
      "metadata": {
        "jupyter": {
          "source_hidden": false,
          "outputs_hidden": false
        },
        "nteract": {
          "transient": {
            "deleting": false
          }
        }
      },
      "source": [
        "# Load a previous version of the DELTA_Employees table into a dataframe\r\n",
        "df = spark.read.format(\"delta\").option(\"versionAsOf\", 1).load(\"abfss://enriched@csresearchdpolaplakest.dfs.core.windows.net/erpcore/AdventureWorks/SalesOrderDetail\")\r\n",
        "df.show()"
      ]
    },
    {
      "cell_type": "code",
      "execution_count": 50,
      "outputs": [
        {
          "output_type": "display_data",
          "data": {
            "application/vnd.livy.statement-meta+json": {
              "spark_pool": "sparkpool03",
              "session_id": 14,
              "statement_id": 25,
              "state": "finished",
              "livy_statement_state": "available",
              "queued_time": "2022-04-07T11:37:05.1273907Z",
              "session_start_time": null,
              "execution_start_time": "2022-04-07T11:37:05.5544357Z",
              "execution_finish_time": "2022-04-07T11:37:05.9659198Z"
            },
            "text/plain": "StatementMeta(sparkpool03, 14, 25, Finished, Available)"
          },
          "metadata": {}
        },
        {
          "output_type": "display_data",
          "data": {
            "application/vnd.synapse.widget-view+json": {
              "widget_id": "41c4cb73-095d-4046-afa5-d32381735a8b",
              "widget_type": "Synapse.DataFrame"
            },
            "text/plain": "SynapseWidget(Synapse.DataFrame, 41c4cb73-095d-4046-afa5-d32381735a8b)"
          },
          "metadata": {}
        }
      ],
      "metadata": {
        "jupyter": {
          "source_hidden": false,
          "outputs_hidden": false
        },
        "nteract": {
          "transient": {
            "deleting": false
          }
        },
        "collapsed": false
      },
      "source": [
        "display(spark.read.text(\"abfss://enriched@csresearchdpolaplakest.dfs.core.windows.net/erpcore/AdventureWorks/SalesOrderDetail/_delta_log/00000000000000000000.json\"))"
      ]
    }
  ]
}