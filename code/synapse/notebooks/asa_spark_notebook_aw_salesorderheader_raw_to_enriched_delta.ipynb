{
  "nbformat": 4,
  "nbformat_minor": 2,
  "metadata": {
    "kernelspec": {
      "name": "synapse_pyspark",
      "display_name": "Synapse PySpark"
    },
    "language_info": {
      "name": "python"
    },
    "description": null,
    "save_output": true,
    "synapse_widget": {
      "version": "0.1",
      "state": {
        "3b622eb2-56ac-4469-8ee6-825711e3376b": {
          "type": "Synapse.DataFrame",
          "sync_state": {
            "table": {
              "rows": [
                {
                  "0": "{\"commitInfo\":{\"timestamp\":1649160976115,\"operation\":\"CREATE OR REPLACE TABLE\",\"operationParameters\":{\"isManaged\":\"false\",\"description\":null,\"partitionBy\":\"[]\",\"properties\":\"{}\"},\"isBlindAppend\":true,\"operationMetrics\":{}}}"
                },
                {
                  "0": "{\"protocol\":{\"minReaderVersion\":1,\"minWriterVersion\":2}}"
                },
                {
                  "0": "{\"metaData\":{\"id\":\"c457284a-0ea2-4402-b0bf-dccc844d26a5\",\"format\":{\"provider\":\"parquet\",\"options\":{}},\"schemaString\":\"{\\\"type\\\":\\\"struct\\\",\\\"fields\\\":[{\\\"name\\\":\\\"OrderID\\\",\\\"type\\\":\\\"integer\\\",\\\"nullable\\\":false,\\\"metadata\\\":{}},{\\\"name\\\":\\\"CustomerID\\\",\\\"type\\\":\\\"integer\\\",\\\"nullable\\\":false,\\\"metadata\\\":{}},{\\\"name\\\":\\\"SalespersonPersonID\\\",\\\"type\\\":\\\"integer\\\",\\\"nullable\\\":true,\\\"metadata\\\":{}},{\\\"name\\\":\\\"PickedByPersonID\\\",\\\"type\\\":\\\"integer\\\",\\\"nullable\\\":true,\\\"metadata\\\":{}},{\\\"name\\\":\\\"ContactPersonID\\\",\\\"type\\\":\\\"integer\\\",\\\"nullable\\\":true,\\\"metadata\\\":{}},{\\\"name\\\":\\\"BackorderOrderID\\\",\\\"type\\\":\\\"integer\\\",\\\"nullable\\\":true,\\\"metadata\\\":{}},{\\\"name\\\":\\\"OrderDate\\\",\\\"type\\\":\\\"timestamp\\\",\\\"nullable\\\":true,\\\"metadata\\\":{}},{\\\"name\\\":\\\"ExpectedDeliveryDate\\\",\\\"type\\\":\\\"timestamp\\\",\\\"nullable\\\":true,\\\"metadata\\\":{}},{\\\"name\\\":\\\"CustomerPurchaseOrderNumber\\\",\\\"type\\\":\\\"integer\\\",\\\"nullable\\\":true,\\\"metadata\\\":{}},{\\\"name\\\":\\\"IsUndersupplyBackordered\\\",\\\"type\\\":\\\"integer\\\",\\\"nullable\\\":true,\\\"metadata\\\":{}},{\\\"name\\\":\\\"Comments\\\",\\\"type\\\":\\\"string\\\",\\\"nullable\\\":true,\\\"metadata\\\":{}},{\\\"name\\\":\\\"DeliveryInstructions\\\",\\\"type\\\":\\\"string\\\",\\\"nullable\\\":true,\\\"metadata\\\":{}},{\\\"name\\\":\\\"InternalComments\\\",\\\"type\\\":\\\"string\\\",\\\"nullable\\\":true,\\\"metadata\\\":{}},{\\\"name\\\":\\\"PickingCompletedWhen\\\",\\\"type\\\":\\\"timestamp\\\",\\\"nullable\\\":true,\\\"metadata\\\":{}},{\\\"name\\\":\\\"LastEditedBy\\\",\\\"type\\\":\\\"integer\\\",\\\"nullable\\\":true,\\\"metadata\\\":{}},{\\\"name\\\":\\\"LastEditedWhen\\\",\\\"type\\\":\\\"timestamp\\\",\\\"nullable\\\":true,\\\"metadata\\\":{}},{\\\"name\\\":\\\"OrderYear\\\",\\\"type\\\":\\\"integer\\\",\\\"nullable\\\":true,\\\"metadata\\\":{}},{\\\"name\\\":\\\"OrderMonth\\\",\\\"type\\\":\\\"integer\\\",\\\"nullable\\\":true,\\\"metadata\\\":{}},{\\\"name\\\":\\\"BeginDate\\\",\\\"type\\\":\\\"date\\\",\\\"nullable\\\":false,\\\"metadata\\\":{}},{\\\"name\\\":\\\"EndDate\\\",\\\"type\\\":\\\"date\\\",\\\"nullable\\\":false,\\\"metadata\\\":{}},{\\\"name\\\":\\\"CurrentRecord\\\",\\\"type\\\":\\\"integer\\\",\\\"nullable\\\":false,\\\"metadata\\\":{}}]}\",\"partitionColumns\":[],\"configuration\":{},\"createdTime\":1649160975965}}"
                }
              ],
              "schema": [
                {
                  "key": "0",
                  "name": "value",
                  "type": "string"
                }
              ],
              "truncated": false
            },
            "isSummary": false,
            "language": "scala"
          },
          "persist_state": {
            "view": {
              "type": "details",
              "tableOptions": {},
              "chartOptions": {
                "chartType": "bar",
                "aggregationType": "count",
                "categoryFieldKeys": [
                  "0"
                ],
                "seriesFieldKeys": [
                  "0"
                ],
                "isStacked": false
              }
            }
          }
        },
        "a4785ad8-e800-4d71-86a1-f5fea000c8ed": {
          "type": "Synapse.DataFrame",
          "sync_state": {
            "table": {
              "rows": [
                {
                  "0": "abfss://raw@csresearchdpolaplakest.dfs.core.windows.net/erpcore/AdventureWorks/SalesOrderHeader/Year=2022/Month=04/Day=05/Time=15:22:50/SalesOrderHeader.csv",
                  "1": "SalesOrderHeader.csv",
                  "2": "9355"
                },
                {
                  "0": "abfss://raw@csresearchdpolaplakest.dfs.core.windows.net/erpcore/AdventureWorks/SalesOrderHeader/Year=2022/Month=04/Day=05/Time=15:03:22/SalesOrderHeader.csv",
                  "1": "SalesOrderHeader.csv",
                  "2": "9355"
                }
              ],
              "schema": [
                {
                  "key": "0",
                  "name": "path",
                  "type": "string"
                },
                {
                  "key": "1",
                  "name": "name",
                  "type": "string"
                },
                {
                  "key": "2",
                  "name": "size",
                  "type": "bigint"
                }
              ],
              "truncated": false
            },
            "isSummary": false,
            "language": "scala"
          },
          "persist_state": {
            "view": {
              "type": "details",
              "tableOptions": {},
              "chartOptions": {
                "chartType": "bar",
                "aggregationType": "sum",
                "categoryFieldKeys": [
                  "0"
                ],
                "seriesFieldKeys": [
                  "2"
                ],
                "isStacked": false
              }
            }
          }
        },
        "c89c835a-f139-4607-9c6b-0ab1524e2bd3": {
          "type": "Synapse.DataFrame",
          "sync_state": {
            "table": {
              "rows": [
                {
                  "0": "71774",
                  "1": "2",
                  "2": "2008-06-01 00:00:00.0000000",
                  "3": "2008-06-13 00:00:00.0000000",
                  "4": "2008-06-08 00:00:00.0000000",
                  "5": "5",
                  "6": "false",
                  "7": "SO71774",
                  "8": "PO348186287",
                  "9": "10-4020-000609",
                  "10": "29847",
                  "11": "1092",
                  "12": "1092",
                  "13": "CARGO TRANSPORT 5",
                  "15": "880.3484",
                  "16": "70.4279",
                  "17": "22.0087",
                  "18": "972.785",
                  "19": "Leave with next neighbour",
                  "20": "89e42cdc-8506-48a2-b89b-eb3e64e3554e",
                  "21": "2022-04-05 15:22:02.6770000"
                },
                {
                  "0": "71776",
                  "1": "2",
                  "2": "2008-06-01 00:00:00.0000000",
                  "3": "2008-06-13 00:00:00.0000000",
                  "4": "2008-06-08 00:00:00.0000000",
                  "5": "5",
                  "6": "false",
                  "7": "SO71776",
                  "8": "PO19952192051",
                  "9": "10-4020-000106",
                  "10": "30072",
                  "11": "640",
                  "12": "640",
                  "13": "CARGO TRANSPORT 5",
                  "15": "78.81",
                  "16": "6.3048",
                  "17": "1.9703",
                  "18": "87.0851",
                  "20": "8a3448c5-e677-4158-a29b-dd33069be0b0",
                  "21": "2008-06-08 00:00:00.0000000"
                },
                {
                  "0": "71780",
                  "1": "2",
                  "2": "2008-06-01 00:00:00.0000000",
                  "3": "2008-06-13 00:00:00.0000000",
                  "4": "2008-06-08 00:00:00.0000000",
                  "5": "5",
                  "6": "false",
                  "7": "SO71780",
                  "8": "PO19604173239",
                  "9": "10-4020-000340",
                  "10": "30113",
                  "11": "653",
                  "12": "653",
                  "13": "CARGO TRANSPORT 5",
                  "15": "38418.6895",
                  "16": "3073.4952",
                  "17": "960.4672",
                  "18": "42452.6519",
                  "20": "a47665d2-7ac9-4cf3-8a8b-2a3883554284",
                  "21": "2008-06-08 00:00:00.0000000"
                },
                {
                  "0": "71782",
                  "1": "2",
                  "2": "2008-06-01 00:00:00.0000000",
                  "3": "2008-06-13 00:00:00.0000000",
                  "4": "2008-06-08 00:00:00.0000000",
                  "5": "5",
                  "6": "false",
                  "7": "SO71782",
                  "8": "PO19372114749",
                  "9": "10-4020-000582",
                  "10": "29485",
                  "11": "1086",
                  "12": "1086",
                  "13": "CARGO TRANSPORT 5",
                  "15": "39785.3304",
                  "16": "3182.8264",
                  "17": "994.6333",
                  "18": "43962.7901",
                  "20": "f1be45a5-5c57-4a50-93c6-5f8be44cb7cb",
                  "21": "2008-06-08 00:00:00.0000000"
                },
                {
                  "0": "71783",
                  "1": "2",
                  "2": "2008-06-01 00:00:00.0000000",
                  "3": "2008-06-13 00:00:00.0000000",
                  "4": "2008-06-08 00:00:00.0000000",
                  "5": "5",
                  "6": "false",
                  "7": "SO71783",
                  "8": "PO19343113609",
                  "9": "10-4020-000024",
                  "10": "29957",
                  "11": "992",
                  "12": "992",
                  "13": "CARGO TRANSPORT 5",
                  "15": "83858.4261",
                  "16": "6708.6741",
                  "17": "2096.4607",
                  "18": "92663.5609",
                  "20": "7db2329e-6446-42a8-8915-9c8370b68ed8",
                  "21": "2008-06-08 00:00:00.0000000"
                },
                {
                  "0": "71784",
                  "1": "2",
                  "2": "2008-06-01 00:00:00.0000000",
                  "3": "2008-06-13 00:00:00.0000000",
                  "4": "2008-06-08 00:00:00.0000000",
                  "5": "5",
                  "6": "false",
                  "7": "SO71784",
                  "8": "PO19285135919",
                  "9": "10-4020-000448",
                  "10": "29736",
                  "11": "659",
                  "12": "659",
                  "13": "CARGO TRANSPORT 5",
                  "15": "108561.8317",
                  "16": "8684.9465",
                  "17": "2714.0458",
                  "18": "119960.824",
                  "20": "ca31f324-2c32-4f8d-95eb-596e7f343027",
                  "21": "2008-06-08 00:00:00.0000000"
                },
                {
                  "0": "71796",
                  "1": "2",
                  "2": "2008-06-01 00:00:00.0000000",
                  "3": "2008-06-13 00:00:00.0000000",
                  "4": "2008-06-08 00:00:00.0000000",
                  "5": "5",
                  "6": "false",
                  "7": "SO71796",
                  "8": "PO17052159664",
                  "9": "10-4020-000420",
                  "10": "29660",
                  "11": "1058",
                  "12": "1058",
                  "13": "CARGO TRANSPORT 5",
                  "15": "57634.6342",
                  "16": "4610.7707",
                  "17": "1440.8659",
                  "18": "63686.2708",
                  "20": "917ef5ba-f32d-4563-8588-66db0bcdc846",
                  "21": "2008-06-08 00:00:00.0000000"
                },
                {
                  "0": "71797",
                  "1": "2",
                  "2": "2008-06-01 00:00:00.0000000",
                  "3": "2008-06-13 00:00:00.0000000",
                  "4": "2008-06-08 00:00:00.0000000",
                  "5": "5",
                  "6": "false",
                  "7": "SO71797",
                  "8": "PO16501134889",
                  "9": "10-4020-000142",
                  "10": "29796",
                  "11": "642",
                  "12": "642",
                  "13": "CARGO TRANSPORT 5",
                  "15": "78029.6898",
                  "16": "6242.3752",
                  "17": "1950.7422",
                  "18": "86222.8072",
                  "20": "bb3fee84-c8bf-4dd2-bcca-675ab6a11c38",
                  "21": "2008-06-08 00:00:00.0000000"
                },
                {
                  "0": "71815",
                  "1": "2",
                  "2": "2008-06-01 00:00:00.0000000",
                  "3": "2008-06-13 00:00:00.0000000",
                  "4": "2008-06-08 00:00:00.0000000",
                  "5": "5",
                  "6": "false",
                  "7": "SO71815",
                  "8": "PO13021155785",
                  "9": "10-4020-000276",
                  "10": "30089",
                  "11": "1034",
                  "12": "1034",
                  "13": "CARGO TRANSPORT 5",
                  "15": "1141.5782",
                  "16": "91.3263",
                  "17": "28.5395",
                  "18": "1261.444",
                  "20": "2aa5f39b-1096-4a4b-b17b-f10504a397ce",
                  "21": "2008-06-08 00:00:00.0000000"
                },
                {
                  "0": "71816",
                  "1": "2",
                  "2": "2008-06-01 00:00:00.0000000",
                  "3": "2008-06-13 00:00:00.0000000",
                  "4": "2008-06-08 00:00:00.0000000",
                  "5": "5",
                  "6": "false",
                  "7": "SO71816",
                  "8": "PO12992180445",
                  "9": "10-4020-000295",
                  "10": "30027",
                  "11": "1038",
                  "12": "1038",
                  "13": "CARGO TRANSPORT 5",
                  "15": "3398.1659",
                  "16": "271.8533",
                  "17": "84.9541",
                  "18": "3754.9733",
                  "20": "e3c189e7-98de-4c40-b6c2-0d1d13f9bb33",
                  "21": "2008-06-08 00:00:00.0000000"
                }
              ],
              "schema": [
                {
                  "key": "0",
                  "name": "SalesOrderID",
                  "type": "int"
                },
                {
                  "key": "1",
                  "name": "RevisionNumber",
                  "type": "int"
                },
                {
                  "key": "2",
                  "name": "OrderDate",
                  "type": "string"
                },
                {
                  "key": "3",
                  "name": "DueDate",
                  "type": "string"
                },
                {
                  "key": "4",
                  "name": "ShipDate",
                  "type": "string"
                },
                {
                  "key": "5",
                  "name": "Status",
                  "type": "int"
                },
                {
                  "key": "6",
                  "name": "OnlineOrderFlag",
                  "type": "boolean"
                },
                {
                  "key": "7",
                  "name": "SalesOrderNumber",
                  "type": "string"
                },
                {
                  "key": "8",
                  "name": "PurchaseOrderNumber",
                  "type": "string"
                },
                {
                  "key": "9",
                  "name": "AccountNumber",
                  "type": "string"
                },
                {
                  "key": "10",
                  "name": "CustomerID",
                  "type": "int"
                },
                {
                  "key": "11",
                  "name": "ShipToAddressID",
                  "type": "int"
                },
                {
                  "key": "12",
                  "name": "BillToAddressID",
                  "type": "int"
                },
                {
                  "key": "13",
                  "name": "ShipMethod",
                  "type": "string"
                },
                {
                  "key": "14",
                  "name": "CreditCardApprovalCode",
                  "type": "string"
                },
                {
                  "key": "15",
                  "name": "SubTotal",
                  "type": "double"
                },
                {
                  "key": "16",
                  "name": "TaxAmt",
                  "type": "double"
                },
                {
                  "key": "17",
                  "name": "Freight",
                  "type": "double"
                },
                {
                  "key": "18",
                  "name": "TotalDue",
                  "type": "double"
                },
                {
                  "key": "19",
                  "name": "Comment",
                  "type": "string"
                },
                {
                  "key": "20",
                  "name": "rowguid",
                  "type": "string"
                },
                {
                  "key": "21",
                  "name": "ModifiedDate",
                  "type": "string"
                }
              ],
              "truncated": false
            },
            "isSummary": false,
            "language": "scala"
          },
          "persist_state": {
            "view": {
              "type": "details",
              "tableOptions": {},
              "chartOptions": {
                "chartType": "bar",
                "aggregationType": "sum",
                "categoryFieldKeys": [
                  "1"
                ],
                "seriesFieldKeys": [
                  "0"
                ],
                "isStacked": false
              }
            }
          }
        },
        "011267ef-9e63-453d-9a76-992f44e3c63b": {
          "type": "Synapse.DataFrame",
          "sync_state": {
            "table": {
              "rows": [
                {
                  "0": "71774",
                  "1": "2",
                  "2": "2008-06-01 00:00:00.0000000",
                  "3": "2008-06-13 00:00:00.0000000",
                  "4": "2008-06-08 00:00:00.0000000",
                  "5": "5",
                  "6": "false",
                  "7": "SO71774",
                  "8": "PO348186287",
                  "9": "10-4020-000609",
                  "10": "29847",
                  "11": "1092",
                  "12": "1092",
                  "13": "CARGO TRANSPORT 5",
                  "14": "",
                  "15": "880.3484",
                  "16": "70.4279",
                  "17": "22.0087",
                  "18": "972.785",
                  "19": "Leave with next neighbour",
                  "20": "89e42cdc-8506-48a2-b89b-eb3e64e3554e",
                  "21": "2022-04-05 15:22:02.6770000"
                },
                {
                  "0": "71776",
                  "1": "2",
                  "2": "2008-06-01 00:00:00.0000000",
                  "3": "2008-06-13 00:00:00.0000000",
                  "4": "2008-06-08 00:00:00.0000000",
                  "5": "5",
                  "6": "false",
                  "7": "SO71776",
                  "8": "PO19952192051",
                  "9": "10-4020-000106",
                  "10": "30072",
                  "11": "640",
                  "12": "640",
                  "13": "CARGO TRANSPORT 5",
                  "14": "",
                  "15": "78.81",
                  "16": "6.3048",
                  "17": "1.9703",
                  "18": "87.0851",
                  "19": "",
                  "20": "8a3448c5-e677-4158-a29b-dd33069be0b0",
                  "21": "2008-06-08 00:00:00.0000000"
                },
                {
                  "0": "71780",
                  "1": "2",
                  "2": "2008-06-01 00:00:00.0000000",
                  "3": "2008-06-13 00:00:00.0000000",
                  "4": "2008-06-08 00:00:00.0000000",
                  "5": "5",
                  "6": "false",
                  "7": "SO71780",
                  "8": "PO19604173239",
                  "9": "10-4020-000340",
                  "10": "30113",
                  "11": "653",
                  "12": "653",
                  "13": "CARGO TRANSPORT 5",
                  "14": "",
                  "15": "38418.6895",
                  "16": "3073.4952",
                  "17": "960.4672",
                  "18": "42452.6519",
                  "19": "",
                  "20": "a47665d2-7ac9-4cf3-8a8b-2a3883554284",
                  "21": "2008-06-08 00:00:00.0000000"
                },
                {
                  "0": "71782",
                  "1": "2",
                  "2": "2008-06-01 00:00:00.0000000",
                  "3": "2008-06-13 00:00:00.0000000",
                  "4": "2008-06-08 00:00:00.0000000",
                  "5": "5",
                  "6": "false",
                  "7": "SO71782",
                  "8": "PO19372114749",
                  "9": "10-4020-000582",
                  "10": "29485",
                  "11": "1086",
                  "12": "1086",
                  "13": "CARGO TRANSPORT 5",
                  "14": "",
                  "15": "39785.3304",
                  "16": "3182.8264",
                  "17": "994.6333",
                  "18": "43962.7901",
                  "19": "",
                  "20": "f1be45a5-5c57-4a50-93c6-5f8be44cb7cb",
                  "21": "2008-06-08 00:00:00.0000000"
                },
                {
                  "0": "71783",
                  "1": "2",
                  "2": "2008-06-01 00:00:00.0000000",
                  "3": "2008-06-13 00:00:00.0000000",
                  "4": "2008-06-08 00:00:00.0000000",
                  "5": "5",
                  "6": "false",
                  "7": "SO71783",
                  "8": "PO19343113609",
                  "9": "10-4020-000024",
                  "10": "29957",
                  "11": "992",
                  "12": "992",
                  "13": "CARGO TRANSPORT 5",
                  "14": "",
                  "15": "83858.4261",
                  "16": "6708.6741",
                  "17": "2096.4607",
                  "18": "92663.5609",
                  "19": "",
                  "20": "7db2329e-6446-42a8-8915-9c8370b68ed8",
                  "21": "2008-06-08 00:00:00.0000000"
                },
                {
                  "0": "71784",
                  "1": "2",
                  "2": "2008-06-01 00:00:00.0000000",
                  "3": "2008-06-13 00:00:00.0000000",
                  "4": "2008-06-08 00:00:00.0000000",
                  "5": "5",
                  "6": "false",
                  "7": "SO71784",
                  "8": "PO19285135919",
                  "9": "10-4020-000448",
                  "10": "29736",
                  "11": "659",
                  "12": "659",
                  "13": "CARGO TRANSPORT 5",
                  "14": "",
                  "15": "108561.8317",
                  "16": "8684.9465",
                  "17": "2714.0458",
                  "18": "119960.824",
                  "19": "",
                  "20": "ca31f324-2c32-4f8d-95eb-596e7f343027",
                  "21": "2008-06-08 00:00:00.0000000"
                },
                {
                  "0": "71796",
                  "1": "2",
                  "2": "2008-06-01 00:00:00.0000000",
                  "3": "2008-06-13 00:00:00.0000000",
                  "4": "2008-06-08 00:00:00.0000000",
                  "5": "5",
                  "6": "false",
                  "7": "SO71796",
                  "8": "PO17052159664",
                  "9": "10-4020-000420",
                  "10": "29660",
                  "11": "1058",
                  "12": "1058",
                  "13": "CARGO TRANSPORT 5",
                  "14": "",
                  "15": "57634.6342",
                  "16": "4610.7707",
                  "17": "1440.8659",
                  "18": "63686.2708",
                  "19": "",
                  "20": "917ef5ba-f32d-4563-8588-66db0bcdc846",
                  "21": "2008-06-08 00:00:00.0000000"
                },
                {
                  "0": "71797",
                  "1": "2",
                  "2": "2008-06-01 00:00:00.0000000",
                  "3": "2008-06-13 00:00:00.0000000",
                  "4": "2008-06-08 00:00:00.0000000",
                  "5": "5",
                  "6": "false",
                  "7": "SO71797",
                  "8": "PO16501134889",
                  "9": "10-4020-000142",
                  "10": "29796",
                  "11": "642",
                  "12": "642",
                  "13": "CARGO TRANSPORT 5",
                  "14": "",
                  "15": "78029.6898",
                  "16": "6242.3752",
                  "17": "1950.7422",
                  "18": "86222.8072",
                  "19": "",
                  "20": "bb3fee84-c8bf-4dd2-bcca-675ab6a11c38",
                  "21": "2008-06-08 00:00:00.0000000"
                },
                {
                  "0": "71815",
                  "1": "2",
                  "2": "2008-06-01 00:00:00.0000000",
                  "3": "2008-06-13 00:00:00.0000000",
                  "4": "2008-06-08 00:00:00.0000000",
                  "5": "5",
                  "6": "false",
                  "7": "SO71815",
                  "8": "PO13021155785",
                  "9": "10-4020-000276",
                  "10": "30089",
                  "11": "1034",
                  "12": "1034",
                  "13": "CARGO TRANSPORT 5",
                  "14": "",
                  "15": "1141.5782",
                  "16": "91.3263",
                  "17": "28.5395",
                  "18": "1261.444",
                  "19": "",
                  "20": "2aa5f39b-1096-4a4b-b17b-f10504a397ce",
                  "21": "2008-06-08 00:00:00.0000000"
                },
                {
                  "0": "71816",
                  "1": "2",
                  "2": "2008-06-01 00:00:00.0000000",
                  "3": "2008-06-13 00:00:00.0000000",
                  "4": "2008-06-08 00:00:00.0000000",
                  "5": "5",
                  "6": "false",
                  "7": "SO71816",
                  "8": "PO12992180445",
                  "9": "10-4020-000295",
                  "10": "30027",
                  "11": "1038",
                  "12": "1038",
                  "13": "CARGO TRANSPORT 5",
                  "14": "",
                  "15": "3398.1659",
                  "16": "271.8533",
                  "17": "84.9541",
                  "18": "3754.9733",
                  "19": "",
                  "20": "e3c189e7-98de-4c40-b6c2-0d1d13f9bb33",
                  "21": "2008-06-08 00:00:00.0000000"
                }
              ],
              "schema": [
                {
                  "key": "0",
                  "name": "SalesOrderID",
                  "type": "int"
                },
                {
                  "key": "1",
                  "name": "RevisionNumber",
                  "type": "int"
                },
                {
                  "key": "2",
                  "name": "OrderDate",
                  "type": "string"
                },
                {
                  "key": "3",
                  "name": "DueDate",
                  "type": "string"
                },
                {
                  "key": "4",
                  "name": "ShipDate",
                  "type": "string"
                },
                {
                  "key": "5",
                  "name": "Status",
                  "type": "int"
                },
                {
                  "key": "6",
                  "name": "OnlineOrderFlag",
                  "type": "boolean"
                },
                {
                  "key": "7",
                  "name": "SalesOrderNumber",
                  "type": "string"
                },
                {
                  "key": "8",
                  "name": "PurchaseOrderNumber",
                  "type": "string"
                },
                {
                  "key": "9",
                  "name": "AccountNumber",
                  "type": "string"
                },
                {
                  "key": "10",
                  "name": "CustomerID",
                  "type": "int"
                },
                {
                  "key": "11",
                  "name": "ShipToAddressID",
                  "type": "int"
                },
                {
                  "key": "12",
                  "name": "BillToAddressID",
                  "type": "int"
                },
                {
                  "key": "13",
                  "name": "ShipMethod",
                  "type": "string"
                },
                {
                  "key": "14",
                  "name": "CreditCardApprovalCode",
                  "type": "string"
                },
                {
                  "key": "15",
                  "name": "SubTotal",
                  "type": "double"
                },
                {
                  "key": "16",
                  "name": "TaxAmt",
                  "type": "double"
                },
                {
                  "key": "17",
                  "name": "Freight",
                  "type": "double"
                },
                {
                  "key": "18",
                  "name": "TotalDue",
                  "type": "double"
                },
                {
                  "key": "19",
                  "name": "Comment",
                  "type": "string"
                },
                {
                  "key": "20",
                  "name": "rowguid",
                  "type": "string"
                },
                {
                  "key": "21",
                  "name": "ModifiedDate",
                  "type": "string"
                }
              ],
              "truncated": false
            },
            "isSummary": false,
            "language": "scala"
          },
          "persist_state": {
            "view": {
              "type": "details",
              "tableOptions": {},
              "chartOptions": {
                "chartType": "bar",
                "aggregationType": "sum",
                "categoryFieldKeys": [
                  "1"
                ],
                "seriesFieldKeys": [
                  "0"
                ],
                "isStacked": false
              }
            }
          }
        }
      }
    }
  },
  "cells": [
    {
      "cell_type": "code",
      "execution_count": 234,
      "outputs": [
        {
          "output_type": "display_data",
          "data": {
            "application/vnd.livy.statement-meta+json": {
              "spark_pool": "sparkpool03",
              "session_id": 9,
              "statement_id": 234,
              "state": "finished",
              "livy_statement_state": "available",
              "queued_time": "2022-04-05T15:18:21.9868225Z",
              "session_start_time": null,
              "execution_start_time": "2022-04-05T15:18:22.4164709Z",
              "execution_finish_time": "2022-04-05T15:18:22.9173119Z"
            },
            "text/plain": "StatementMeta(sparkpool03, 9, 234, Finished, Available)"
          },
          "metadata": {}
        }
      ],
      "metadata": {
        "microsoft": {
          "language": "python"
        },
        "collapsed": false
      },
      "source": [
        "%%pyspark\r\n",
        "import pandas as pd\r\n",
        "from datetime import datetime"
      ]
    },
    {
      "cell_type": "code",
      "execution_count": 235,
      "outputs": [
        {
          "output_type": "display_data",
          "data": {
            "application/vnd.livy.statement-meta+json": {
              "spark_pool": "sparkpool03",
              "session_id": 9,
              "statement_id": 235,
              "state": "finished",
              "livy_statement_state": "available",
              "queued_time": "2022-04-05T15:18:23.2064656Z",
              "session_start_time": null,
              "execution_start_time": "2022-04-05T15:18:23.6298123Z",
              "execution_finish_time": "2022-04-05T15:18:24.0558362Z"
            },
            "text/plain": "StatementMeta(sparkpool03, 9, 235, Finished, Available)"
          },
          "metadata": {}
        }
      ],
      "metadata": {
        "jupyter": {
          "source_hidden": false,
          "outputs_hidden": false
        },
        "nteract": {
          "transient": {
            "deleting": false
          }
        }
      },
      "source": [
        "def deep_ls(path: str, max_depth=1):\r\n",
        "    \"\"\"\r\n",
        "    List all files and folders in specified path and\r\n",
        "    subfolders within maximum recursion depth.\r\n",
        "    \"\"\"\r\n",
        "\r\n",
        "    # List all files in path\r\n",
        "    li = mssparkutils.fs.ls(path)\r\n",
        "\r\n",
        "    # Return all files\r\n",
        "    for x in li:\r\n",
        "        if x.size != 0:\r\n",
        "            yield x\r\n",
        "\r\n",
        "    # If the max_depth has not been reached, start\r\n",
        "    # listing files and folders in subdirectories\r\n",
        "    if max_depth > 1:\r\n",
        "        for x in li:\r\n",
        "            if x.size != 0:\r\n",
        "                continue\r\n",
        "            for y in deep_ls(x.path, max_depth - 1):\r\n",
        "                yield y\r\n",
        "\r\n",
        "    # If max_depth has been reached,\r\n",
        "    # return the folders\r\n",
        "    else:\r\n",
        "        for x in li:\r\n",
        "            if x.size == 0:\r\n",
        "                yield x\r\n",
        "\r\n",
        "def convertfiles2df(files):\r\n",
        "    \"\"\"\r\n",
        "    Converts FileInfo object into Pandas DataFrame to enable display\r\n",
        "    \"\"\"\r\n",
        "    # Disable Arrow-based transfers since the Pandas DataFrame is tiny\r\n",
        "    spark.conf.set(\"spark.sql.execution.arrow.enabled\", \"false\")\r\n",
        "\r\n",
        "    schema = ['path','name','size']\r\n",
        "    df = pd.DataFrame([[getattr(i,j) for j in schema] for i in files], columns = schema).sort_values('path')\r\n",
        "    return(df)"
      ]
    },
    {
      "cell_type": "code",
      "execution_count": 261,
      "outputs": [
        {
          "output_type": "display_data",
          "data": {
            "application/vnd.livy.statement-meta+json": {
              "spark_pool": "sparkpool03",
              "session_id": 9,
              "statement_id": 261,
              "state": "finished",
              "livy_statement_state": "available",
              "queued_time": "2022-04-05T15:27:05.7791259Z",
              "session_start_time": null,
              "execution_start_time": "2022-04-05T15:27:06.2289093Z",
              "execution_finish_time": "2022-04-05T15:27:07.278752Z"
            },
            "text/plain": "StatementMeta(sparkpool03, 9, 261, Finished, Available)"
          },
          "metadata": {}
        }
      ],
      "metadata": {
        "jupyter": {
          "source_hidden": false,
          "outputs_hidden": false
        },
        "nteract": {
          "transient": {
            "deleting": false
          }
        }
      },
      "source": [
        "root = 'abfss://raw@csresearchdpolaplakest.dfs.core.windows.net/erpcore/AdventureWorks/SalesOrderHeader'\r\n",
        "files = list(deep_ls(root, max_depth=20))"
      ]
    },
    {
      "cell_type": "code",
      "execution_count": 262,
      "outputs": [
        {
          "output_type": "display_data",
          "data": {
            "application/vnd.livy.statement-meta+json": {
              "spark_pool": "sparkpool03",
              "session_id": 9,
              "statement_id": 262,
              "state": "finished",
              "livy_statement_state": "available",
              "queued_time": "2022-04-05T15:27:08.0937286Z",
              "session_start_time": null,
              "execution_start_time": "2022-04-05T15:27:08.4969954Z",
              "execution_finish_time": "2022-04-05T15:27:09.2538712Z"
            },
            "text/plain": "StatementMeta(sparkpool03, 9, 262, Finished, Available)"
          },
          "metadata": {}
        }
      ],
      "metadata": {
        "jupyter": {
          "source_hidden": false,
          "outputs_hidden": false
        },
        "nteract": {
          "transient": {
            "deleting": false
          }
        },
        "collapsed": false
      },
      "source": [
        "df_list_of_files = convertfiles2df(files)"
      ]
    },
    {
      "cell_type": "code",
      "execution_count": 263,
      "outputs": [
        {
          "output_type": "display_data",
          "data": {
            "application/vnd.livy.statement-meta+json": {
              "spark_pool": "sparkpool03",
              "session_id": 9,
              "statement_id": 263,
              "state": "finished",
              "livy_statement_state": "available",
              "queued_time": "2022-04-05T15:27:08.9824783Z",
              "session_start_time": null,
              "execution_start_time": "2022-04-05T15:27:09.6958262Z",
              "execution_finish_time": "2022-04-05T15:27:10.0998832Z"
            },
            "text/plain": "StatementMeta(sparkpool03, 9, 263, Finished, Available)"
          },
          "metadata": {}
        },
        {
          "output_type": "display_data",
          "data": {
            "text/plain": "Index(['path', 'name', 'size'], dtype='object')"
          },
          "metadata": {}
        }
      ],
      "metadata": {
        "jupyter": {
          "source_hidden": false,
          "outputs_hidden": false
        },
        "nteract": {
          "transient": {
            "deleting": false
          }
        }
      },
      "source": [
        "df_list_of_files.columns"
      ]
    },
    {
      "cell_type": "code",
      "execution_count": 264,
      "outputs": [
        {
          "output_type": "display_data",
          "data": {
            "application/vnd.livy.statement-meta+json": {
              "spark_pool": "sparkpool03",
              "session_id": 9,
              "statement_id": 264,
              "state": "finished",
              "livy_statement_state": "available",
              "queued_time": "2022-04-05T15:27:09.7090918Z",
              "session_start_time": null,
              "execution_start_time": "2022-04-05T15:27:10.5313729Z",
              "execution_finish_time": "2022-04-05T15:27:11.0259896Z"
            },
            "text/plain": "StatementMeta(sparkpool03, 9, 264, Finished, Available)"
          },
          "metadata": {}
        },
        {
          "output_type": "display_data",
          "data": {
            "application/vnd.synapse.widget-view+json": {
              "widget_id": "a4785ad8-e800-4d71-86a1-f5fea000c8ed",
              "widget_type": "Synapse.DataFrame"
            },
            "text/plain": "SynapseWidget(Synapse.DataFrame, a4785ad8-e800-4d71-86a1-f5fea000c8ed)"
          },
          "metadata": {}
        }
      ],
      "metadata": {
        "jupyter": {
          "source_hidden": false,
          "outputs_hidden": false
        },
        "nteract": {
          "transient": {
            "deleting": false
          }
        },
        "collapsed": false
      },
      "source": [
        "df_list_of_files = df_list_of_files.sort_values(['path'], ascending=[False])\r\n",
        "display(df_list_of_files)"
      ]
    },
    {
      "cell_type": "code",
      "execution_count": 266,
      "outputs": [
        {
          "output_type": "display_data",
          "data": {
            "application/vnd.livy.statement-meta+json": {
              "spark_pool": "sparkpool03",
              "session_id": 9,
              "statement_id": 266,
              "state": "finished",
              "livy_statement_state": "available",
              "queued_time": "2022-04-05T15:27:13.6802526Z",
              "session_start_time": null,
              "execution_start_time": "2022-04-05T15:27:14.1137889Z",
              "execution_finish_time": "2022-04-05T15:27:14.5304273Z"
            },
            "text/plain": "StatementMeta(sparkpool03, 9, 266, Finished, Available)"
          },
          "metadata": {}
        }
      ],
      "metadata": {
        "jupyter": {
          "source_hidden": false,
          "outputs_hidden": false
        },
        "nteract": {
          "transient": {
            "deleting": false
          }
        }
      },
      "source": [
        "source_path=df_list_of_files.iloc[0]['path']"
      ]
    },
    {
      "cell_type": "code",
      "execution_count": 267,
      "outputs": [
        {
          "output_type": "display_data",
          "data": {
            "application/vnd.livy.statement-meta+json": {
              "spark_pool": "sparkpool03",
              "session_id": 9,
              "statement_id": 267,
              "state": "finished",
              "livy_statement_state": "available",
              "queued_time": "2022-04-05T15:27:14.9635213Z",
              "session_start_time": null,
              "execution_start_time": "2022-04-05T15:27:15.6082685Z",
              "execution_finish_time": "2022-04-05T15:27:16.1088528Z"
            },
            "text/plain": "StatementMeta(sparkpool03, 9, 267, Finished, Available)"
          },
          "metadata": {}
        },
        {
          "output_type": "display_data",
          "data": {
            "text/plain": "'abfss://raw@csresearchdpolaplakest.dfs.core.windows.net/erpcore/AdventureWorks/SalesOrderHeader/Year=2022/Month=04/Day=05/Time=15:22:50/SalesOrderHeader.csv'"
          },
          "metadata": {}
        }
      ],
      "metadata": {
        "jupyter": {
          "source_hidden": false,
          "outputs_hidden": false
        },
        "nteract": {
          "transient": {
            "deleting": false
          }
        }
      },
      "source": [
        "source_path"
      ]
    },
    {
      "cell_type": "code",
      "execution_count": 269,
      "outputs": [
        {
          "output_type": "display_data",
          "data": {
            "application/vnd.livy.statement-meta+json": {
              "spark_pool": "sparkpool03",
              "session_id": 9,
              "statement_id": 269,
              "state": "finished",
              "livy_statement_state": "available",
              "queued_time": "2022-04-05T15:27:36.0095605Z",
              "session_start_time": null,
              "execution_start_time": "2022-04-05T15:27:36.4687299Z",
              "execution_finish_time": "2022-04-05T15:27:37.5112144Z"
            },
            "text/plain": "StatementMeta(sparkpool03, 9, 269, Finished, Available)"
          },
          "metadata": {}
        }
      ],
      "metadata": {
        "jupyter": {
          "source_hidden": false,
          "outputs_hidden": false
        },
        "nteract": {
          "transient": {
            "deleting": false
          }
        }
      },
      "source": [
        "df_sales_order_header = (spark \r\n",
        "        .read\r\n",
        "        .format(\"csv\")\r\n",
        "        .option(\"inferSchema\", \"true\")\r\n",
        "        .option(\"header\",\"true\")\r\n",
        "        .load(source_path)\r\n",
        ")"
      ]
    },
    {
      "cell_type": "code",
      "execution_count": 270,
      "outputs": [
        {
          "output_type": "display_data",
          "data": {
            "application/vnd.livy.statement-meta+json": {
              "spark_pool": "sparkpool03",
              "session_id": 9,
              "statement_id": 270,
              "state": "finished",
              "livy_statement_state": "available",
              "queued_time": "2022-04-05T15:27:38.5452369Z",
              "session_start_time": null,
              "execution_start_time": "2022-04-05T15:27:38.9727461Z",
              "execution_finish_time": "2022-04-05T15:27:39.4122231Z"
            },
            "text/plain": "StatementMeta(sparkpool03, 9, 270, Finished, Available)"
          },
          "metadata": {}
        },
        {
          "output_type": "stream",
          "name": "stdout",
          "text": [
            "+------------+--------------+--------------------+--------------------+--------------------+------+---------------+----------------+-------------------+--------------+----------+---------------+---------------+-----------------+----------------------+-----------+---------+---------+----------+--------------------+--------------------+--------------------+\n|SalesOrderID|RevisionNumber|           OrderDate|             DueDate|            ShipDate|Status|OnlineOrderFlag|SalesOrderNumber|PurchaseOrderNumber| AccountNumber|CustomerID|ShipToAddressID|BillToAddressID|       ShipMethod|CreditCardApprovalCode|   SubTotal|   TaxAmt|  Freight|  TotalDue|             Comment|             rowguid|        ModifiedDate|\n+------------+--------------+--------------------+--------------------+--------------------+------+---------------+----------------+-------------------+--------------+----------+---------------+---------------+-----------------+----------------------+-----------+---------+---------+----------+--------------------+--------------------+--------------------+\n|       71774|             2|2008-06-01 00:00:...|2008-06-13 00:00:...|2008-06-08 00:00:...|     5|          false|         SO71774|        PO348186287|10-4020-000609|     29847|           1092|           1092|CARGO TRANSPORT 5|                  null|   880.3484|  70.4279|  22.0087|   972.785|Leave with next n...|89e42cdc-8506-48a...|2022-04-05 15:22:...|\n|       71776|             2|2008-06-01 00:00:...|2008-06-13 00:00:...|2008-06-08 00:00:...|     5|          false|         SO71776|      PO19952192051|10-4020-000106|     30072|            640|            640|CARGO TRANSPORT 5|                  null|      78.81|   6.3048|   1.9703|   87.0851|                null|8a3448c5-e677-415...|2008-06-08 00:00:...|\n|       71780|             2|2008-06-01 00:00:...|2008-06-13 00:00:...|2008-06-08 00:00:...|     5|          false|         SO71780|      PO19604173239|10-4020-000340|     30113|            653|            653|CARGO TRANSPORT 5|                  null| 38418.6895|3073.4952| 960.4672|42452.6519|                null|a47665d2-7ac9-4cf...|2008-06-08 00:00:...|\n|       71782|             2|2008-06-01 00:00:...|2008-06-13 00:00:...|2008-06-08 00:00:...|     5|          false|         SO71782|      PO19372114749|10-4020-000582|     29485|           1086|           1086|CARGO TRANSPORT 5|                  null| 39785.3304|3182.8264| 994.6333|43962.7901|                null|f1be45a5-5c57-4a5...|2008-06-08 00:00:...|\n|       71783|             2|2008-06-01 00:00:...|2008-06-13 00:00:...|2008-06-08 00:00:...|     5|          false|         SO71783|      PO19343113609|10-4020-000024|     29957|            992|            992|CARGO TRANSPORT 5|                  null| 83858.4261|6708.6741|2096.4607|92663.5609|                null|7db2329e-6446-42a...|2008-06-08 00:00:...|\n|       71784|             2|2008-06-01 00:00:...|2008-06-13 00:00:...|2008-06-08 00:00:...|     5|          false|         SO71784|      PO19285135919|10-4020-000448|     29736|            659|            659|CARGO TRANSPORT 5|                  null|108561.8317|8684.9465|2714.0458|119960.824|                null|ca31f324-2c32-4f8...|2008-06-08 00:00:...|\n|       71796|             2|2008-06-01 00:00:...|2008-06-13 00:00:...|2008-06-08 00:00:...|     5|          false|         SO71796|      PO17052159664|10-4020-000420|     29660|           1058|           1058|CARGO TRANSPORT 5|                  null| 57634.6342|4610.7707|1440.8659|63686.2708|                null|917ef5ba-f32d-456...|2008-06-08 00:00:...|\n|       71797|             2|2008-06-01 00:00:...|2008-06-13 00:00:...|2008-06-08 00:00:...|     5|          false|         SO71797|      PO16501134889|10-4020-000142|     29796|            642|            642|CARGO TRANSPORT 5|                  null| 78029.6898|6242.3752|1950.7422|86222.8072|                null|bb3fee84-c8bf-4dd...|2008-06-08 00:00:...|\n|       71815|             2|2008-06-01 00:00:...|2008-06-13 00:00:...|2008-06-08 00:00:...|     5|          false|         SO71815|      PO13021155785|10-4020-000276|     30089|           1034|           1034|CARGO TRANSPORT 5|                  null|  1141.5782|  91.3263|  28.5395|  1261.444|                null|2aa5f39b-1096-4a4...|2008-06-08 00:00:...|\n|       71816|             2|2008-06-01 00:00:...|2008-06-13 00:00:...|2008-06-08 00:00:...|     5|          false|         SO71816|      PO12992180445|10-4020-000295|     30027|           1038|           1038|CARGO TRANSPORT 5|                  null|  3398.1659| 271.8533|  84.9541| 3754.9733|                null|e3c189e7-98de-4c4...|2008-06-08 00:00:...|\n|       71831|             2|2008-06-01 00:00:...|2008-06-13 00:00:...|2008-06-08 00:00:...|     5|          false|         SO71831|      PO10295111084|10-4020-000322|     30019|            652|            652|CARGO TRANSPORT 5|                  null|  2016.3408| 161.3073|  50.4085| 2228.0566|                null|625d76fc-c26f-414...|2008-06-08 00:00:...|\n|       71832|             2|2008-06-01 00:00:...|2008-06-13 00:00:...|2008-06-08 00:00:...|     5|          false|         SO71832|      PO10353140756|10-4020-000088|     29922|            639|            639|CARGO TRANSPORT 5|                  null| 35775.2113|2862.0169| 894.3803|39531.6085|                null|addb8620-432a-456...|2008-06-08 00:00:...|\n|       71845|             2|2008-06-01 00:00:...|2008-06-13 00:00:...|2008-06-08 00:00:...|     5|          false|         SO71845|       PO2697119362|10-4020-000187|     29938|           1020|           1020|CARGO TRANSPORT 5|                  null| 41622.0511|3329.7641|1040.5513|45992.3665|                null|e68f7ee9-c581-45c...|2008-06-08 00:00:...|\n|       71846|             2|2008-06-01 00:00:...|2008-06-13 00:00:...|2008-06-08 00:00:...|     5|          false|         SO71846|       PO2378131604|10-4020-000635|     30102|            669|            669|CARGO TRANSPORT 5|                  null|  2453.7645| 196.3012|  61.3441| 2711.4098|                null|a86d90ad-d1c0-440...|2008-06-08 00:00:...|\n|       71856|             2|2008-06-01 00:00:...|2008-06-13 00:00:...|2008-06-08 00:00:...|     5|          false|         SO71856|      PO16530177647|10-4020-000601|     30033|           1090|           1090|CARGO TRANSPORT 5|                  null|   602.1946|  48.1756|  15.0549|  665.4251|                null|05fee073-0640-4a3...|2008-06-08 00:00:...|\n|       71858|             2|2008-06-01 00:00:...|2008-06-13 00:00:...|2008-06-08 00:00:...|     5|          false|         SO71858|      PO16153112278|10-4020-000186|     29653|           1019|           1019|CARGO TRANSPORT 5|                  null| 13823.7083|1105.8967| 345.5927|15275.1977|                null|5ef091e1-a0af-437...|2008-06-08 00:00:...|\n|       71863|             2|2008-06-01 00:00:...|2008-06-13 00:00:...|2008-06-08 00:00:...|     5|          false|         SO71863|      PO16124166561|10-4020-000649|     29975|           1098|           1098|CARGO TRANSPORT 5|                  null|  3324.2759| 265.9421|  83.1069| 3673.3249|                null|3ed03b56-a4bf-487...|2008-06-08 00:00:...|\n|       71867|             2|2008-06-01 00:00:...|2008-06-13 00:00:...|2008-06-08 00:00:...|     5|          false|         SO71867|      PO13050111529|10-4020-000160|     29644|            643|            643|CARGO TRANSPORT 5|                  null|    1059.31|  84.7448|  26.4828| 1170.5376|                null|29743c1b-d3af-4cf...|2008-06-08 00:00:...|\n|       71885|             2|2008-06-01 00:00:...|2008-06-13 00:00:...|2008-06-08 00:00:...|     5|          false|         SO71885|       PO6119130779|10-4020-000268|     29612|            649|            649|CARGO TRANSPORT 5|                  null|    550.386|  44.0309|  13.7597|  608.1766|                null|caad090d-56a6-444...|2008-06-08 00:00:...|\n|       71895|             2|2008-06-01 00:00:...|2008-06-13 00:00:...|2008-06-08 00:00:...|     5|          false|         SO71895|       PO3770176273|10-4020-000151|     29584|           1014|           1014|CARGO TRANSPORT 5|                  null|   246.7392|  19.7391|   6.1685|  272.6468|                null|07a17c0a-7f9a-441...|2008-06-08 00:00:...|\n+------------+--------------+--------------------+--------------------+--------------------+------+---------------+----------------+-------------------+--------------+----------+---------------+---------------+-----------------+----------------------+-----------+---------+---------+----------+--------------------+--------------------+--------------------+\nonly showing top 20 rows"
          ]
        }
      ],
      "metadata": {
        "jupyter": {
          "source_hidden": false,
          "outputs_hidden": false
        },
        "nteract": {
          "transient": {
            "deleting": false
          }
        }
      },
      "source": [
        "df_sales_order_header.show()"
      ]
    },
    {
      "cell_type": "code",
      "execution_count": 271,
      "outputs": [
        {
          "output_type": "display_data",
          "data": {
            "application/vnd.livy.statement-meta+json": {
              "spark_pool": "sparkpool03",
              "session_id": 9,
              "statement_id": 271,
              "state": "finished",
              "livy_statement_state": "available",
              "queued_time": "2022-04-05T15:27:45.8658628Z",
              "session_start_time": null,
              "execution_start_time": "2022-04-05T15:27:46.2655985Z",
              "execution_finish_time": "2022-04-05T15:27:47.3691492Z"
            },
            "text/plain": "StatementMeta(sparkpool03, 9, 271, Finished, Available)"
          },
          "metadata": {}
        },
        {
          "output_type": "display_data",
          "data": {
            "application/vnd.synapse.widget-view+json": {
              "widget_id": "c89c835a-f139-4607-9c6b-0ab1524e2bd3",
              "widget_type": "Synapse.DataFrame"
            },
            "text/plain": "SynapseWidget(Synapse.DataFrame, c89c835a-f139-4607-9c6b-0ab1524e2bd3)"
          },
          "metadata": {}
        }
      ],
      "metadata": {
        "jupyter": {
          "source_hidden": false,
          "outputs_hidden": false
        },
        "nteract": {
          "transient": {
            "deleting": false
          }
        },
        "collapsed": false
      },
      "source": [
        "display(df_sales_order_header.limit(10))"
      ]
    },
    {
      "cell_type": "code",
      "execution_count": 272,
      "outputs": [
        {
          "output_type": "display_data",
          "data": {
            "application/vnd.livy.statement-meta+json": {
              "spark_pool": "sparkpool03",
              "session_id": 9,
              "statement_id": 272,
              "state": "finished",
              "livy_statement_state": "available",
              "queued_time": "2022-04-05T15:27:47.2817531Z",
              "session_start_time": null,
              "execution_start_time": "2022-04-05T15:27:47.7880815Z",
              "execution_finish_time": "2022-04-05T15:27:48.2080864Z"
            },
            "text/plain": "StatementMeta(sparkpool03, 9, 272, Finished, Available)"
          },
          "metadata": {}
        },
        {
          "output_type": "display_data",
          "data": {
            "text/plain": "32"
          },
          "metadata": {}
        }
      ],
      "metadata": {
        "jupyter": {
          "source_hidden": false,
          "outputs_hidden": false
        },
        "nteract": {
          "transient": {
            "deleting": false
          }
        }
      },
      "source": [
        "df_sales_order_header.count()"
      ]
    },
    {
      "cell_type": "code",
      "execution_count": 246,
      "outputs": [
        {
          "output_type": "display_data",
          "data": {
            "application/vnd.livy.statement-meta+json": {
              "spark_pool": "sparkpool03",
              "session_id": 9,
              "statement_id": 246,
              "state": "finished",
              "livy_statement_state": "available",
              "queued_time": "2022-04-05T15:18:47.442618Z",
              "session_start_time": null,
              "execution_start_time": "2022-04-05T15:18:47.8355127Z",
              "execution_finish_time": "2022-04-05T15:18:48.2514813Z"
            },
            "text/plain": "StatementMeta(sparkpool03, 9, 246, Finished, Available)"
          },
          "metadata": {}
        },
        {
          "output_type": "stream",
          "name": "stdout",
          "text": [
            "root\n |-- SalesOrderID: integer (nullable = true)\n |-- RevisionNumber: integer (nullable = true)\n |-- OrderDate: string (nullable = true)\n |-- DueDate: string (nullable = true)\n |-- ShipDate: string (nullable = true)\n |-- Status: integer (nullable = true)\n |-- OnlineOrderFlag: boolean (nullable = true)\n |-- SalesOrderNumber: string (nullable = true)\n |-- PurchaseOrderNumber: string (nullable = true)\n |-- AccountNumber: string (nullable = true)\n |-- CustomerID: integer (nullable = true)\n |-- ShipToAddressID: integer (nullable = true)\n |-- BillToAddressID: integer (nullable = true)\n |-- ShipMethod: string (nullable = true)\n |-- CreditCardApprovalCode: string (nullable = true)\n |-- SubTotal: double (nullable = true)\n |-- TaxAmt: double (nullable = true)\n |-- Freight: double (nullable = true)\n |-- TotalDue: double (nullable = true)\n |-- Comment: string (nullable = true)\n |-- rowguid: string (nullable = true)\n |-- ModifiedDate: string (nullable = true)"
          ]
        }
      ],
      "metadata": {
        "jupyter": {
          "source_hidden": false,
          "outputs_hidden": false
        },
        "nteract": {
          "transient": {
            "deleting": false
          }
        }
      },
      "source": [
        "df_sales_order_header.printSchema()"
      ]
    },
    {
      "cell_type": "code",
      "execution_count": 273,
      "outputs": [
        {
          "output_type": "display_data",
          "data": {
            "application/vnd.livy.statement-meta+json": {
              "spark_pool": "sparkpool03",
              "session_id": 9,
              "statement_id": 273,
              "state": "finished",
              "livy_statement_state": "available",
              "queued_time": "2022-04-05T15:27:52.2552587Z",
              "session_start_time": null,
              "execution_start_time": "2022-04-05T15:27:52.6664924Z",
              "execution_finish_time": "2022-04-05T15:27:53.1172315Z"
            },
            "text/plain": "StatementMeta(sparkpool03, 9, 273, Finished, Available)"
          },
          "metadata": {}
        }
      ],
      "metadata": {
        "jupyter": {
          "source_hidden": false,
          "outputs_hidden": false
        },
        "nteract": {
          "transient": {
            "deleting": false
          }
        }
      },
      "source": [
        "# Replace null values with zero\r\n",
        "df_sales_order_header = df_sales_order_header.na.fill(0)"
      ]
    },
    {
      "cell_type": "code",
      "execution_count": 274,
      "outputs": [
        {
          "output_type": "display_data",
          "data": {
            "application/vnd.livy.statement-meta+json": {
              "spark_pool": "sparkpool03",
              "session_id": 9,
              "statement_id": 274,
              "state": "finished",
              "livy_statement_state": "available",
              "queued_time": "2022-04-05T15:27:53.3330435Z",
              "session_start_time": null,
              "execution_start_time": "2022-04-05T15:27:53.7867554Z",
              "execution_finish_time": "2022-04-05T15:27:54.2073349Z"
            },
            "text/plain": "StatementMeta(sparkpool03, 9, 274, Finished, Available)"
          },
          "metadata": {}
        }
      ],
      "metadata": {
        "jupyter": {
          "source_hidden": false,
          "outputs_hidden": false
        },
        "nteract": {
          "transient": {
            "deleting": false
          }
        }
      },
      "source": [
        "# Replace null strings with empty\r\n",
        "df_sales_order_header = df_sales_order_header.na.fill(\"\")"
      ]
    },
    {
      "cell_type": "code",
      "execution_count": 275,
      "outputs": [
        {
          "output_type": "display_data",
          "data": {
            "application/vnd.livy.statement-meta+json": {
              "spark_pool": "sparkpool03",
              "session_id": 9,
              "statement_id": 275,
              "state": "finished",
              "livy_statement_state": "available",
              "queued_time": "2022-04-05T15:27:56.3683331Z",
              "session_start_time": null,
              "execution_start_time": "2022-04-05T15:27:56.7843789Z",
              "execution_finish_time": "2022-04-05T15:27:57.255874Z"
            },
            "text/plain": "StatementMeta(sparkpool03, 9, 275, Finished, Available)"
          },
          "metadata": {}
        },
        {
          "output_type": "display_data",
          "data": {
            "application/vnd.synapse.widget-view+json": {
              "widget_id": "011267ef-9e63-453d-9a76-992f44e3c63b",
              "widget_type": "Synapse.DataFrame"
            },
            "text/plain": "SynapseWidget(Synapse.DataFrame, 011267ef-9e63-453d-9a76-992f44e3c63b)"
          },
          "metadata": {}
        }
      ],
      "metadata": {
        "jupyter": {
          "source_hidden": false,
          "outputs_hidden": false
        },
        "nteract": {
          "transient": {
            "deleting": false
          }
        },
        "collapsed": false
      },
      "source": [
        "display(df_sales_order_header.limit(10))"
      ]
    },
    {
      "cell_type": "code",
      "execution_count": 276,
      "outputs": [
        {
          "output_type": "display_data",
          "data": {
            "application/vnd.livy.statement-meta+json": {
              "spark_pool": "sparkpool03",
              "session_id": 9,
              "statement_id": 276,
              "state": "finished",
              "livy_statement_state": "available",
              "queued_time": "2022-04-05T15:28:09.1286788Z",
              "session_start_time": null,
              "execution_start_time": "2022-04-05T15:28:15.6149369Z",
              "execution_finish_time": "2022-04-05T15:28:16.0559356Z"
            },
            "text/plain": "StatementMeta(sparkpool03, 9, 276, Finished, Available)"
          },
          "metadata": {}
        },
        {
          "output_type": "stream",
          "name": "stdout",
          "text": [
            "+------------+--------------+--------------------+--------------------+--------------------+------+---------------+----------------+-------------------+--------------+----------+---------------+---------------+-----------------+----------------------+-----------+---------+---------+----------+--------------------+--------------------+--------------------+---------+----------+\n|SalesOrderID|RevisionNumber|           OrderDate|             DueDate|            ShipDate|Status|OnlineOrderFlag|SalesOrderNumber|PurchaseOrderNumber| AccountNumber|CustomerID|ShipToAddressID|BillToAddressID|       ShipMethod|CreditCardApprovalCode|   SubTotal|   TaxAmt|  Freight|  TotalDue|             Comment|             rowguid|        ModifiedDate|OrderYear|OrderMonth|\n+------------+--------------+--------------------+--------------------+--------------------+------+---------------+----------------+-------------------+--------------+----------+---------------+---------------+-----------------+----------------------+-----------+---------+---------+----------+--------------------+--------------------+--------------------+---------+----------+\n|       71774|             2|2008-06-01 00:00:...|2008-06-13 00:00:...|2008-06-08 00:00:...|     5|          false|         SO71774|        PO348186287|10-4020-000609|     29847|           1092|           1092|CARGO TRANSPORT 5|                      |   880.3484|  70.4279|  22.0087|   972.785|Leave with next n...|89e42cdc-8506-48a...|2022-04-05 15:22:...|     2008|         6|\n|       71776|             2|2008-06-01 00:00:...|2008-06-13 00:00:...|2008-06-08 00:00:...|     5|          false|         SO71776|      PO19952192051|10-4020-000106|     30072|            640|            640|CARGO TRANSPORT 5|                      |      78.81|   6.3048|   1.9703|   87.0851|                    |8a3448c5-e677-415...|2008-06-08 00:00:...|     2008|         6|\n|       71780|             2|2008-06-01 00:00:...|2008-06-13 00:00:...|2008-06-08 00:00:...|     5|          false|         SO71780|      PO19604173239|10-4020-000340|     30113|            653|            653|CARGO TRANSPORT 5|                      | 38418.6895|3073.4952| 960.4672|42452.6519|                    |a47665d2-7ac9-4cf...|2008-06-08 00:00:...|     2008|         6|\n|       71782|             2|2008-06-01 00:00:...|2008-06-13 00:00:...|2008-06-08 00:00:...|     5|          false|         SO71782|      PO19372114749|10-4020-000582|     29485|           1086|           1086|CARGO TRANSPORT 5|                      | 39785.3304|3182.8264| 994.6333|43962.7901|                    |f1be45a5-5c57-4a5...|2008-06-08 00:00:...|     2008|         6|\n|       71783|             2|2008-06-01 00:00:...|2008-06-13 00:00:...|2008-06-08 00:00:...|     5|          false|         SO71783|      PO19343113609|10-4020-000024|     29957|            992|            992|CARGO TRANSPORT 5|                      | 83858.4261|6708.6741|2096.4607|92663.5609|                    |7db2329e-6446-42a...|2008-06-08 00:00:...|     2008|         6|\n|       71784|             2|2008-06-01 00:00:...|2008-06-13 00:00:...|2008-06-08 00:00:...|     5|          false|         SO71784|      PO19285135919|10-4020-000448|     29736|            659|            659|CARGO TRANSPORT 5|                      |108561.8317|8684.9465|2714.0458|119960.824|                    |ca31f324-2c32-4f8...|2008-06-08 00:00:...|     2008|         6|\n|       71796|             2|2008-06-01 00:00:...|2008-06-13 00:00:...|2008-06-08 00:00:...|     5|          false|         SO71796|      PO17052159664|10-4020-000420|     29660|           1058|           1058|CARGO TRANSPORT 5|                      | 57634.6342|4610.7707|1440.8659|63686.2708|                    |917ef5ba-f32d-456...|2008-06-08 00:00:...|     2008|         6|\n|       71797|             2|2008-06-01 00:00:...|2008-06-13 00:00:...|2008-06-08 00:00:...|     5|          false|         SO71797|      PO16501134889|10-4020-000142|     29796|            642|            642|CARGO TRANSPORT 5|                      | 78029.6898|6242.3752|1950.7422|86222.8072|                    |bb3fee84-c8bf-4dd...|2008-06-08 00:00:...|     2008|         6|\n|       71815|             2|2008-06-01 00:00:...|2008-06-13 00:00:...|2008-06-08 00:00:...|     5|          false|         SO71815|      PO13021155785|10-4020-000276|     30089|           1034|           1034|CARGO TRANSPORT 5|                      |  1141.5782|  91.3263|  28.5395|  1261.444|                    |2aa5f39b-1096-4a4...|2008-06-08 00:00:...|     2008|         6|\n|       71816|             2|2008-06-01 00:00:...|2008-06-13 00:00:...|2008-06-08 00:00:...|     5|          false|         SO71816|      PO12992180445|10-4020-000295|     30027|           1038|           1038|CARGO TRANSPORT 5|                      |  3398.1659| 271.8533|  84.9541| 3754.9733|                    |e3c189e7-98de-4c4...|2008-06-08 00:00:...|     2008|         6|\n|       71831|             2|2008-06-01 00:00:...|2008-06-13 00:00:...|2008-06-08 00:00:...|     5|          false|         SO71831|      PO10295111084|10-4020-000322|     30019|            652|            652|CARGO TRANSPORT 5|                      |  2016.3408| 161.3073|  50.4085| 2228.0566|                    |625d76fc-c26f-414...|2008-06-08 00:00:...|     2008|         6|\n|       71832|             2|2008-06-01 00:00:...|2008-06-13 00:00:...|2008-06-08 00:00:...|     5|          false|         SO71832|      PO10353140756|10-4020-000088|     29922|            639|            639|CARGO TRANSPORT 5|                      | 35775.2113|2862.0169| 894.3803|39531.6085|                    |addb8620-432a-456...|2008-06-08 00:00:...|     2008|         6|\n|       71845|             2|2008-06-01 00:00:...|2008-06-13 00:00:...|2008-06-08 00:00:...|     5|          false|         SO71845|       PO2697119362|10-4020-000187|     29938|           1020|           1020|CARGO TRANSPORT 5|                      | 41622.0511|3329.7641|1040.5513|45992.3665|                    |e68f7ee9-c581-45c...|2008-06-08 00:00:...|     2008|         6|\n|       71846|             2|2008-06-01 00:00:...|2008-06-13 00:00:...|2008-06-08 00:00:...|     5|          false|         SO71846|       PO2378131604|10-4020-000635|     30102|            669|            669|CARGO TRANSPORT 5|                      |  2453.7645| 196.3012|  61.3441| 2711.4098|                    |a86d90ad-d1c0-440...|2008-06-08 00:00:...|     2008|         6|\n|       71856|             2|2008-06-01 00:00:...|2008-06-13 00:00:...|2008-06-08 00:00:...|     5|          false|         SO71856|      PO16530177647|10-4020-000601|     30033|           1090|           1090|CARGO TRANSPORT 5|                      |   602.1946|  48.1756|  15.0549|  665.4251|                    |05fee073-0640-4a3...|2008-06-08 00:00:...|     2008|         6|\n|       71858|             2|2008-06-01 00:00:...|2008-06-13 00:00:...|2008-06-08 00:00:...|     5|          false|         SO71858|      PO16153112278|10-4020-000186|     29653|           1019|           1019|CARGO TRANSPORT 5|                      | 13823.7083|1105.8967| 345.5927|15275.1977|                    |5ef091e1-a0af-437...|2008-06-08 00:00:...|     2008|         6|\n|       71863|             2|2008-06-01 00:00:...|2008-06-13 00:00:...|2008-06-08 00:00:...|     5|          false|         SO71863|      PO16124166561|10-4020-000649|     29975|           1098|           1098|CARGO TRANSPORT 5|                      |  3324.2759| 265.9421|  83.1069| 3673.3249|                    |3ed03b56-a4bf-487...|2008-06-08 00:00:...|     2008|         6|\n|       71867|             2|2008-06-01 00:00:...|2008-06-13 00:00:...|2008-06-08 00:00:...|     5|          false|         SO71867|      PO13050111529|10-4020-000160|     29644|            643|            643|CARGO TRANSPORT 5|                      |    1059.31|  84.7448|  26.4828| 1170.5376|                    |29743c1b-d3af-4cf...|2008-06-08 00:00:...|     2008|         6|\n|       71885|             2|2008-06-01 00:00:...|2008-06-13 00:00:...|2008-06-08 00:00:...|     5|          false|         SO71885|       PO6119130779|10-4020-000268|     29612|            649|            649|CARGO TRANSPORT 5|                      |    550.386|  44.0309|  13.7597|  608.1766|                    |caad090d-56a6-444...|2008-06-08 00:00:...|     2008|         6|\n|       71895|             2|2008-06-01 00:00:...|2008-06-13 00:00:...|2008-06-08 00:00:...|     5|          false|         SO71895|       PO3770176273|10-4020-000151|     29584|           1014|           1014|CARGO TRANSPORT 5|                      |   246.7392|  19.7391|   6.1685|  272.6468|                    |07a17c0a-7f9a-441...|2008-06-08 00:00:...|     2008|         6|\n+------------+--------------+--------------------+--------------------+--------------------+------+---------------+----------------+-------------------+--------------+----------+---------------+---------------+-----------------+----------------------+-----------+---------+---------+----------+--------------------+--------------------+--------------------+---------+----------+\nonly showing top 20 rows"
          ]
        }
      ],
      "metadata": {
        "jupyter": {
          "source_hidden": false,
          "outputs_hidden": false
        },
        "nteract": {
          "transient": {
            "deleting": false
          }
        },
        "collapsed": false
      },
      "source": [
        "# Enginer new features Year & Month\r\n",
        "from pyspark.sql.functions import year, month\r\n",
        "df_sales_order_header = df_sales_order_header.withColumn('OrderYear',year(df_sales_order_header.OrderDate))\r\n",
        "df_sales_order_header = df_sales_order_header.withColumn('OrderMonth',month(df_sales_order_header.OrderDate))\r\n",
        "df_sales_order_header.show()"
      ]
    },
    {
      "cell_type": "code",
      "execution_count": 277,
      "outputs": [
        {
          "output_type": "display_data",
          "data": {
            "application/vnd.livy.statement-meta+json": {
              "spark_pool": "sparkpool03",
              "session_id": 9,
              "statement_id": 277,
              "state": "finished",
              "livy_statement_state": "available",
              "queued_time": "2022-04-05T15:28:22.4743772Z",
              "session_start_time": null,
              "execution_start_time": "2022-04-05T15:28:22.9666857Z",
              "execution_finish_time": "2022-04-05T15:28:23.3887765Z"
            },
            "text/plain": "StatementMeta(sparkpool03, 9, 277, Finished, Available)"
          },
          "metadata": {}
        }
      ],
      "metadata": {
        "jupyter": {
          "source_hidden": false,
          "outputs_hidden": false
        },
        "nteract": {
          "transient": {
            "deleting": false
          }
        }
      },
      "source": [
        "# Create temp views to easily query with Spark SQL\r\n",
        "\r\n",
        "df_sales_order_header.createOrReplaceTempView('SalesOrderHeader')"
      ]
    },
    {
      "cell_type": "code",
      "execution_count": 252,
      "outputs": [
        {
          "output_type": "display_data",
          "data": {
            "application/vnd.livy.statement-meta+json": {
              "spark_pool": "sparkpool03",
              "session_id": 9,
              "statement_id": 252,
              "state": "finished",
              "livy_statement_state": "cancelled",
              "queued_time": "2022-04-05T15:19:01.8150915Z",
              "session_start_time": null,
              "execution_start_time": "2022-04-05T15:19:02.201259Z",
              "execution_finish_time": "2022-04-05T15:19:08.181054Z"
            },
            "text/plain": "StatementMeta(sparkpool03, 9, 252, Finished, Cancelled)"
          },
          "metadata": {}
        }
      ],
      "metadata": {
        "jupyter": {
          "source_hidden": false,
          "outputs_hidden": false
        },
        "nteract": {
          "transient": {
            "deleting": false
          }
        },
        "microsoft": {
          "language": "sparksql"
        },
        "collapsed": false
      },
      "source": [
        "%%sql\r\n",
        "-- Merge statement to handle upsert of sales order header changes into delta table\r\n",
        "MERGE INTO aw_sales_order_header t\r\n",
        "USING (\r\n",
        "    SELECT ord.SalesOrderID AS MergeKey, ord.*\r\n",
        "    FROM SalesOrderHeader AS ord\r\n",
        "\r\n",
        "    UNION ALL\r\n",
        "\r\n",
        "    SELECT NULL AS MergeKey, ord.*\r\n",
        "    FROM SalesOrderHeader AS ord\r\n",
        "    JOIN aw_sales_order_header AS de ON ord.SalesOrderID = de.SalesOrderID\r\n",
        "    WHERE de.CurrentRecord = 1 AND ord.ModifiedDate<> de.ModifiedDate\r\n",
        ") s\r\n",
        "ON t.SalesOrderID = s.MergeKey\r\n",
        "WHEN MATCHED AND t.CurrentRecord = 1 AND t.ModifiedDate <> s.ModifiedDate THEN\r\n",
        "  UPDATE SET t.CurrentRecord = 0, \r\n",
        "             t.EndDate = (CURRENT_DATE)\r\n",
        "WHEN NOT MATCHED THEN\r\n",
        "  INSERT (SalesOrderID, RevisionNumber, OrderDate, DueDate, ShipDate, Status, OnlineOrderFlag, SalesOrderNumber, PurchaseOrderNumber, AccountNumber, CustomerID, ShipToAddressID, BillToAddressID, ShipMethod, CreditCardApprovalCode, SubTotal, TaxAmt, Freight, TotalDue, Comment, rowguid, ModifiedDate, OrderYear, OrderMonth, BeginDate, EndDate, CurrentRecord)\r\n",
        "    VALUES (s.SalesOrderID, s.RevisionNumber, s.OrderDate, s.DueDate, s.ShipDate, s.Status, s.OnlineOrderFlag, s.SalesOrderNumber, s.PurchaseOrderNumber, s.AccountNumber, s.CustomerID, s.ShipToAddressID, s.BillToAddressID, s.ShipMethod, s.CreditCardApprovalCode, s.SubTotal, s.TaxAmt, s.Freight, s.TotalDue, s.Comment, s.rowguid, s.ModifiedDate, s.OrderYear, s.OrderMonth, CURRENT_DATE, '2999-12-31', 1)"
      ]
    },
    {
      "cell_type": "code",
      "execution_count": 278,
      "outputs": [
        {
          "output_type": "display_data",
          "data": {
            "application/vnd.livy.statement-meta+json": {
              "spark_pool": "sparkpool03",
              "session_id": 9,
              "statement_id": 278,
              "state": "finished",
              "livy_statement_state": "available",
              "queued_time": "2022-04-05T15:28:26.2839113Z",
              "session_start_time": null,
              "execution_start_time": "2022-04-05T15:28:38.7378307Z",
              "execution_finish_time": "2022-04-05T15:28:50.6105676Z"
            },
            "text/plain": "StatementMeta(sparkpool03, 9, 278, Finished, Available)"
          },
          "metadata": {}
        },
        {
          "output_type": "execute_result",
          "data": {
            "application/vnd.synapse.sparksql-result+json": {
              "schema": {
                "type": "struct",
                "fields": []
              },
              "data": []
            },
            "text/plain": "<Spark SQL result set with 0 rows and 0 fields>"
          },
          "execution_count": 278,
          "metadata": {}
        }
      ],
      "metadata": {
        "jupyter": {
          "source_hidden": false,
          "outputs_hidden": false
        },
        "nteract": {
          "transient": {
            "deleting": false
          }
        },
        "microsoft": {
          "language": "sparksql"
        },
        "collapsed": false
      },
      "source": [
        "%%sql\r\n",
        "MERGE INTO aw_sales_order_header\r\n",
        "USING SalesOrderHeader\r\n",
        "ON aw_sales_order_header.SalesOrderID = SalesOrderHeader.SalesOrderID\r\n",
        "WHEN MATCHED THEN UPDATE SET *\r\n",
        "WHEN NOT MATCHED THEN INSERT *"
      ]
    },
    {
      "cell_type": "code",
      "execution_count": 279,
      "outputs": [
        {
          "output_type": "display_data",
          "data": {
            "application/vnd.livy.statement-meta+json": {
              "spark_pool": "sparkpool03",
              "session_id": 9,
              "statement_id": 279,
              "state": "finished",
              "livy_statement_state": "available",
              "queued_time": "2022-04-05T15:28:55.5195964Z",
              "session_start_time": null,
              "execution_start_time": "2022-04-05T15:28:56.8274603Z",
              "execution_finish_time": "2022-04-05T15:28:59.9991321Z"
            },
            "text/plain": "StatementMeta(sparkpool03, 9, 279, Finished, Available)"
          },
          "metadata": {}
        },
        {
          "output_type": "execute_result",
          "data": {
            "application/vnd.synapse.sparksql-result+json": {
              "schema": {
                "type": "struct",
                "fields": [
                  {
                    "name": "version",
                    "type": "long",
                    "nullable": true,
                    "metadata": {}
                  },
                  {
                    "name": "timestamp",
                    "type": "timestamp",
                    "nullable": true,
                    "metadata": {}
                  },
                  {
                    "name": "userId",
                    "type": "string",
                    "nullable": true,
                    "metadata": {}
                  },
                  {
                    "name": "userName",
                    "type": "string",
                    "nullable": true,
                    "metadata": {}
                  },
                  {
                    "name": "operation",
                    "type": "string",
                    "nullable": true,
                    "metadata": {}
                  },
                  {
                    "name": "operationParameters",
                    "type": {
                      "type": "map",
                      "keyType": "string",
                      "valueType": "string",
                      "valueContainsNull": true
                    },
                    "nullable": true,
                    "metadata": {}
                  },
                  {
                    "name": "job",
                    "type": {
                      "type": "struct",
                      "fields": [
                        {
                          "name": "jobId",
                          "type": "string",
                          "nullable": true,
                          "metadata": {}
                        },
                        {
                          "name": "jobName",
                          "type": "string",
                          "nullable": true,
                          "metadata": {}
                        },
                        {
                          "name": "runId",
                          "type": "string",
                          "nullable": true,
                          "metadata": {}
                        },
                        {
                          "name": "jobOwnerId",
                          "type": "string",
                          "nullable": true,
                          "metadata": {}
                        },
                        {
                          "name": "triggerType",
                          "type": "string",
                          "nullable": true,
                          "metadata": {}
                        }
                      ]
                    },
                    "nullable": true,
                    "metadata": {}
                  },
                  {
                    "name": "notebook",
                    "type": {
                      "type": "struct",
                      "fields": [
                        {
                          "name": "notebookId",
                          "type": "string",
                          "nullable": true,
                          "metadata": {}
                        }
                      ]
                    },
                    "nullable": true,
                    "metadata": {}
                  },
                  {
                    "name": "clusterId",
                    "type": "string",
                    "nullable": true,
                    "metadata": {}
                  },
                  {
                    "name": "readVersion",
                    "type": "long",
                    "nullable": true,
                    "metadata": {}
                  },
                  {
                    "name": "isolationLevel",
                    "type": "string",
                    "nullable": true,
                    "metadata": {}
                  },
                  {
                    "name": "isBlindAppend",
                    "type": "boolean",
                    "nullable": true,
                    "metadata": {}
                  },
                  {
                    "name": "operationMetrics",
                    "type": {
                      "type": "map",
                      "keyType": "string",
                      "valueType": "string",
                      "valueContainsNull": true
                    },
                    "nullable": true,
                    "metadata": {}
                  },
                  {
                    "name": "userMetadata",
                    "type": "string",
                    "nullable": true,
                    "metadata": {}
                  }
                ]
              },
              "data": [
                [
                  "2",
                  "2022-04-05T15:28:47Z",
                  null,
                  null,
                  "MERGE",
                  {
                    "predicate": "(spark_catalog.default.aw_sales_order_header.`SalesOrderID` = salesorderheader.`SalesOrderID`)",
                    "matchedPredicates": "[{\"actionType\":\"update\"}]",
                    "notMatchedPredicates": "[{\"actionType\":\"insert\"}]"
                  },
                  null,
                  null,
                  null,
                  "1",
                  null,
                  false,
                  {
                    "numTargetRowsCopied": "0",
                    "numTargetRowsDeleted": "0",
                    "numTargetFilesAdded": "29",
                    "executionTimeMs": "7309",
                    "numTargetRowsInserted": "0",
                    "scanTimeMs": "2602",
                    "numTargetRowsUpdated": "32",
                    "numOutputRows": "32",
                    "numSourceRows": "32",
                    "numTargetFilesRemoved": "28",
                    "rewriteTimeMs": "4675"
                  },
                  null
                ],
                [
                  "1",
                  "2022-04-05T15:20:43Z",
                  null,
                  null,
                  "MERGE",
                  {
                    "predicate": "(spark_catalog.default.aw_sales_order_header.`SalesOrderID` = salesorderheader.`SalesOrderID`)",
                    "matchedPredicates": "[{\"actionType\":\"update\"}]",
                    "notMatchedPredicates": "[{\"actionType\":\"insert\"}]"
                  },
                  null,
                  null,
                  null,
                  "0",
                  null,
                  false,
                  {
                    "numTargetRowsCopied": "0",
                    "numTargetRowsDeleted": "0",
                    "numTargetFilesAdded": "29",
                    "executionTimeMs": "9505",
                    "numTargetRowsInserted": "32",
                    "scanTimeMs": "2438",
                    "numTargetRowsUpdated": "0",
                    "numOutputRows": "32",
                    "numSourceRows": "32",
                    "numTargetFilesRemoved": "0",
                    "rewriteTimeMs": "7036"
                  },
                  null
                ],
                [
                  "0",
                  "2022-04-05T15:20:17Z",
                  null,
                  null,
                  "CREATE OR REPLACE TABLE",
                  {
                    "isManaged": "false",
                    "description": null,
                    "partitionBy": "[]",
                    "properties": "{}"
                  },
                  null,
                  null,
                  null,
                  null,
                  null,
                  true,
                  {},
                  null
                ]
              ]
            },
            "text/plain": "<Spark SQL result set with 3 rows and 14 fields>"
          },
          "execution_count": 279,
          "metadata": {}
        }
      ],
      "metadata": {
        "jupyter": {
          "source_hidden": false,
          "outputs_hidden": false
        },
        "nteract": {
          "transient": {
            "deleting": false
          }
        },
        "microsoft": {
          "language": "sparksql"
        },
        "collapsed": false
      },
      "source": [
        "%%sql\r\n",
        "-- Retrieve the version/change history of the Delta table\r\n",
        "DESCRIBE HISTORY aw_sales_order_header"
      ]
    },
    {
      "cell_type": "code",
      "execution_count": 280,
      "outputs": [
        {
          "output_type": "display_data",
          "data": {
            "application/vnd.livy.statement-meta+json": {
              "spark_pool": "sparkpool03",
              "session_id": 9,
              "statement_id": 280,
              "state": "finished",
              "livy_statement_state": "available",
              "queued_time": "2022-04-05T15:29:04.6917252Z",
              "session_start_time": null,
              "execution_start_time": "2022-04-05T15:29:05.1402319Z",
              "execution_finish_time": "2022-04-05T15:29:08.196989Z"
            },
            "text/plain": "StatementMeta(sparkpool03, 9, 280, Finished, Available)"
          },
          "metadata": {}
        },
        {
          "output_type": "execute_result",
          "data": {
            "application/vnd.synapse.sparksql-result+json": {
              "schema": {
                "type": "struct",
                "fields": [
                  {
                    "name": "SalesOrderID",
                    "type": "integer",
                    "nullable": false,
                    "metadata": {}
                  },
                  {
                    "name": "RevisionNumber",
                    "type": "integer",
                    "nullable": false,
                    "metadata": {}
                  },
                  {
                    "name": "OrderDate",
                    "type": "string",
                    "nullable": true,
                    "metadata": {}
                  },
                  {
                    "name": "DueDate",
                    "type": "string",
                    "nullable": true,
                    "metadata": {}
                  },
                  {
                    "name": "ShipDate",
                    "type": "string",
                    "nullable": true,
                    "metadata": {}
                  },
                  {
                    "name": "Status",
                    "type": "integer",
                    "nullable": true,
                    "metadata": {}
                  },
                  {
                    "name": "OnlineOrderFlag",
                    "type": "boolean",
                    "nullable": true,
                    "metadata": {}
                  },
                  {
                    "name": "SalesOrderNumber",
                    "type": "string",
                    "nullable": true,
                    "metadata": {}
                  },
                  {
                    "name": "PurchaseOrderNumber",
                    "type": "string",
                    "nullable": true,
                    "metadata": {}
                  },
                  {
                    "name": "AccountNumber",
                    "type": "string",
                    "nullable": true,
                    "metadata": {}
                  },
                  {
                    "name": "CustomerID",
                    "type": "integer",
                    "nullable": true,
                    "metadata": {}
                  },
                  {
                    "name": "ShipToAddressID",
                    "type": "integer",
                    "nullable": true,
                    "metadata": {}
                  },
                  {
                    "name": "BillToAddressID",
                    "type": "integer",
                    "nullable": true,
                    "metadata": {}
                  },
                  {
                    "name": "ShipMethod",
                    "type": "string",
                    "nullable": true,
                    "metadata": {}
                  },
                  {
                    "name": "CreditCardApprovalCode",
                    "type": "string",
                    "nullable": true,
                    "metadata": {}
                  },
                  {
                    "name": "SubTotal",
                    "type": "decimal(10,5)",
                    "nullable": true,
                    "metadata": {}
                  },
                  {
                    "name": "TaxAmt",
                    "type": "decimal(10,5)",
                    "nullable": true,
                    "metadata": {}
                  },
                  {
                    "name": "Freight",
                    "type": "decimal(10,5)",
                    "nullable": true,
                    "metadata": {}
                  },
                  {
                    "name": "TotalDue",
                    "type": "decimal(10,5)",
                    "nullable": true,
                    "metadata": {}
                  },
                  {
                    "name": "Comment",
                    "type": "string",
                    "nullable": true,
                    "metadata": {}
                  },
                  {
                    "name": "rowguid",
                    "type": "string",
                    "nullable": true,
                    "metadata": {}
                  },
                  {
                    "name": "ModifiedDate",
                    "type": "string",
                    "nullable": true,
                    "metadata": {}
                  },
                  {
                    "name": "OrderYear",
                    "type": "integer",
                    "nullable": true,
                    "metadata": {}
                  },
                  {
                    "name": "OrderMonth",
                    "type": "integer",
                    "nullable": true,
                    "metadata": {}
                  }
                ]
              },
              "data": [
                [
                  71774,
                  2,
                  "2008-06-01 00:00:00.0000000",
                  "2008-06-13 00:00:00.0000000",
                  "2008-06-08 00:00:00.0000000",
                  5,
                  false,
                  "SO71774",
                  "PO348186287",
                  "10-4020-000609",
                  29847,
                  1092,
                  1092,
                  "CARGO TRANSPORT 5",
                  "",
                  "880.34840",
                  "70.42790",
                  "22.00870",
                  "972.78500",
                  "Leave with next neighbour",
                  "89e42cdc-8506-48a2-b89b-eb3e64e3554e",
                  "2022-04-05 15:22:02.6770000",
                  2008,
                  6
                ]
              ]
            },
            "text/plain": "<Spark SQL result set with 1 rows and 24 fields>"
          },
          "execution_count": 280,
          "metadata": {}
        }
      ],
      "metadata": {
        "jupyter": {
          "source_hidden": false,
          "outputs_hidden": false
        },
        "nteract": {
          "transient": {
            "deleting": false
          }
        },
        "microsoft": {
          "language": "sparksql"
        },
        "collapsed": false
      },
      "source": [
        "%%sql\r\n",
        "SELECT *\r\n",
        "FROM aw_sales_order_header\r\n",
        "where SalesOrderID = 71774"
      ]
    },
    {
      "cell_type": "code",
      "execution_count": 284,
      "outputs": [
        {
          "output_type": "display_data",
          "data": {
            "application/vnd.livy.statement-meta+json": {
              "spark_pool": "sparkpool03",
              "session_id": 9,
              "statement_id": 284,
              "state": "finished",
              "livy_statement_state": "available",
              "queued_time": "2022-04-05T15:30:10.835765Z",
              "session_start_time": null,
              "execution_start_time": "2022-04-05T15:30:34.7352714Z",
              "execution_finish_time": "2022-04-05T15:30:39.0956689Z"
            },
            "text/plain": "StatementMeta(sparkpool03, 9, 284, Finished, Available)"
          },
          "metadata": {}
        },
        {
          "output_type": "stream",
          "name": "stdout",
          "text": [
            "+------------+--------------+--------------------+--------------------+--------------------+------+---------------+----------------+-------------------+--------------+----------+---------------+---------------+-----------------+----------------------+-----------+----------+----------+-----------+--------------------+--------------------+--------------------+---------+----------+\n|SalesOrderID|RevisionNumber|           OrderDate|             DueDate|            ShipDate|Status|OnlineOrderFlag|SalesOrderNumber|PurchaseOrderNumber| AccountNumber|CustomerID|ShipToAddressID|BillToAddressID|       ShipMethod|CreditCardApprovalCode|   SubTotal|    TaxAmt|   Freight|   TotalDue|             Comment|             rowguid|        ModifiedDate|OrderYear|OrderMonth|\n+------------+--------------+--------------------+--------------------+--------------------+------+---------------+----------------+-------------------+--------------+----------+---------------+---------------+-----------------+----------------------+-----------+----------+----------+-----------+--------------------+--------------------+--------------------+---------+----------+\n|       71774|             2|2008-06-01 00:00:...|2008-06-13 00:00:...|2008-06-08 00:00:...|     5|          false|         SO71774|        PO348186287|10-4020-000609|     29847|           1092|           1092|CARGO TRANSPORT 5|                      |  880.34840|  70.42790|  22.00870|  972.78500|Leave with next n...|89e42cdc-8506-48a...|2022-04-05 15:22:...|     2008|         6|\n|       71832|             2|2008-06-01 00:00:...|2008-06-13 00:00:...|2008-06-08 00:00:...|     5|          false|         SO71832|      PO10353140756|10-4020-000088|     29922|            639|            639|CARGO TRANSPORT 5|                      |35775.21130|2862.01690| 894.38030|39531.60850|                    |addb8620-432a-456...|2008-06-08 00:00:...|     2008|         6|\n|       71780|             2|2008-06-01 00:00:...|2008-06-13 00:00:...|2008-06-08 00:00:...|     5|          false|         SO71780|      PO19604173239|10-4020-000340|     30113|            653|            653|CARGO TRANSPORT 5|                      |38418.68950|3073.49520| 960.46720|42452.65190|                    |a47665d2-7ac9-4cf...|2008-06-08 00:00:...|     2008|         6|\n|       71797|             2|2008-06-01 00:00:...|2008-06-13 00:00:...|2008-06-08 00:00:...|     5|          false|         SO71797|      PO16501134889|10-4020-000142|     29796|            642|            642|CARGO TRANSPORT 5|                      |78029.68980|6242.37520|1950.74220|86222.80720|                    |bb3fee84-c8bf-4dd...|2008-06-08 00:00:...|     2008|         6|\n|       71796|             2|2008-06-01 00:00:...|2008-06-13 00:00:...|2008-06-08 00:00:...|     5|          false|         SO71796|      PO17052159664|10-4020-000420|     29660|           1058|           1058|CARGO TRANSPORT 5|                      |57634.63420|4610.77070|1440.86590|63686.27080|                    |917ef5ba-f32d-456...|2008-06-08 00:00:...|     2008|         6|\n|       71776|             2|2008-06-01 00:00:...|2008-06-13 00:00:...|2008-06-08 00:00:...|     5|          false|         SO71776|      PO19952192051|10-4020-000106|     30072|            640|            640|CARGO TRANSPORT 5|                      |   78.81000|   6.30480|   1.97030|   87.08510|                    |8a3448c5-e677-415...|2008-06-08 00:00:...|     2008|         6|\n|       71783|             2|2008-06-01 00:00:...|2008-06-13 00:00:...|2008-06-08 00:00:...|     5|          false|         SO71783|      PO19343113609|10-4020-000024|     29957|            992|            992|CARGO TRANSPORT 5|                      |83858.42610|6708.67410|2096.46070|92663.56090|                    |7db2329e-6446-42a...|2008-06-08 00:00:...|     2008|         6|\n|       71858|             2|2008-06-01 00:00:...|2008-06-13 00:00:...|2008-06-08 00:00:...|     5|          false|         SO71858|      PO16153112278|10-4020-000186|     29653|           1019|           1019|CARGO TRANSPORT 5|                      |13823.70830|1105.89670| 345.59270|15275.19770|                    |5ef091e1-a0af-437...|2008-06-08 00:00:...|     2008|         6|\n|       71815|             2|2008-06-01 00:00:...|2008-06-13 00:00:...|2008-06-08 00:00:...|     5|          false|         SO71815|      PO13021155785|10-4020-000276|     30089|           1034|           1034|CARGO TRANSPORT 5|                      | 1141.57820|  91.32630|  28.53950| 1261.44400|                    |2aa5f39b-1096-4a4...|2008-06-08 00:00:...|     2008|         6|\n|       71782|             2|2008-06-01 00:00:...|2008-06-13 00:00:...|2008-06-08 00:00:...|     5|          false|         SO71782|      PO19372114749|10-4020-000582|     29485|           1086|           1086|CARGO TRANSPORT 5|                      |39785.33040|3182.82640| 994.63330|43962.79010|                    |f1be45a5-5c57-4a5...|2008-06-08 00:00:...|     2008|         6|\n|       71856|             2|2008-06-01 00:00:...|2008-06-13 00:00:...|2008-06-08 00:00:...|     5|          false|         SO71856|      PO16530177647|10-4020-000601|     30033|           1090|           1090|CARGO TRANSPORT 5|                      |  602.19460|  48.17560|  15.05490|  665.42510|                    |05fee073-0640-4a3...|2008-06-08 00:00:...|     2008|         6|\n|       71897|             2|2008-06-01 00:00:...|2008-06-13 00:00:...|2008-06-08 00:00:...|     5|          false|         SO71897|       PO4785152479|10-4020-000223|     29877|           1026|           1026|CARGO TRANSPORT 5|                      |12685.88990|1014.87120| 317.14720|14017.90830|                    |f88b3458-e0cf-424...|2008-06-08 00:00:...|     2008|         6|\n|       71845|             2|2008-06-01 00:00:...|2008-06-13 00:00:...|2008-06-08 00:00:...|     5|          false|         SO71845|       PO2697119362|10-4020-000187|     29938|           1020|           1020|CARGO TRANSPORT 5|                      |41622.05110|3329.76410|1040.55130|45992.36650|                    |e68f7ee9-c581-45c...|2008-06-08 00:00:...|     2008|         6|\n|       71915|             2|2008-06-01 00:00:...|2008-06-13 00:00:...|2008-06-08 00:00:...|     5|          false|         SO71915|       PO2349143275|10-4020-000006|     29638|            989|            989|CARGO TRANSPORT 5|                      | 2137.23100| 170.97850|  53.43080| 2361.64030|                    |0bcb3d9c-9008-4b9...|2008-06-08 00:00:...|     2008|         6|\n|       71935|             2|2008-06-01 00:00:...|2008-06-13 00:00:...|2008-06-08 00:00:...|     5|          false|         SO71935|       PO7946145876|10-4020-000438|     29531|           1061|           1061|CARGO TRANSPORT 5|                      | 6634.29610| 530.74370| 165.85740| 7330.89720|                    |7033c6ec-b12c-45b...|2008-06-08 00:00:...|     2008|         6|\n|       71895|             2|2008-06-01 00:00:...|2008-06-13 00:00:...|2008-06-08 00:00:...|     5|          false|         SO71895|       PO3770176273|10-4020-000151|     29584|           1014|           1014|CARGO TRANSPORT 5|                      |  246.73920|  19.73910|   6.16850|  272.64680|                    |07a17c0a-7f9a-441...|2008-06-08 00:00:...|     2008|         6|\n|       71885|             2|2008-06-01 00:00:...|2008-06-13 00:00:...|2008-06-08 00:00:...|     5|          false|         SO71885|       PO6119130779|10-4020-000268|     29612|            649|            649|CARGO TRANSPORT 5|                      |  550.38600|  44.03090|  13.75970|  608.17660|                    |caad090d-56a6-444...|2008-06-08 00:00:...|     2008|         6|\n|       71899|             2|2008-06-01 00:00:...|2008-06-13 00:00:...|2008-06-08 00:00:...|     5|          false|         SO71899|       PO4582142611|10-4020-000025|     29568|            993|            993|CARGO TRANSPORT 5|                      | 2415.67270| 193.25380|  60.39180| 2669.31830|                    |31d41e8f-6f43-4ca...|2008-06-08 00:00:...|     2008|         6|\n|       71938|             2|2008-06-01 00:00:...|2008-06-13 00:00:...|2008-06-08 00:00:...|     5|          false|         SO71938|       PO8468183315|10-4020-000016|     29546|            635|            635|CARGO TRANSPORT 5|                      |88812.86250|7105.02900|2220.32160|98138.21310|                    |a36ee74a-cf0d-402...|2008-06-08 00:00:...|     2008|         6|\n|       71946|             2|2008-06-01 00:00:...|2008-06-13 00:00:...|2008-06-08 00:00:...|     5|          false|         SO71946|       PO8961158629|10-4020-000466|     29741|            660|            660|CARGO TRANSPORT 5|                      |   38.95360|   3.11630|   0.97380|   43.04370|                    |10e3129d-657f-46f...|2008-06-08 00:00:...|     2008|         6|\n+------------+--------------+--------------------+--------------------+--------------------+------+---------------+----------------+-------------------+--------------+----------+---------------+---------------+-----------------+----------------------+-----------+----------+----------+-----------+--------------------+--------------------+--------------------+---------+----------+\nonly showing top 20 rows"
          ]
        }
      ],
      "metadata": {
        "jupyter": {
          "source_hidden": false,
          "outputs_hidden": false
        },
        "nteract": {
          "transient": {
            "deleting": false
          }
        }
      },
      "source": [
        "# Load a previous version of the DELTA_Employees table into a dataframe\r\n",
        "df = spark.read.format(\"delta\").option(\"versionAsOf\", 2).load(\"abfss://enriched@csresearchdpolaplakest.dfs.core.windows.net/erpcore/AdventureWorks/SalesOrderHeader\")\r\n",
        "df.show()"
      ]
    },
    {
      "cell_type": "code",
      "execution_count": 31,
      "outputs": [
        {
          "output_type": "display_data",
          "data": {
            "application/vnd.livy.statement-meta+json": {
              "spark_pool": "sparkpool03",
              "session_id": 9,
              "statement_id": 31,
              "state": "finished",
              "livy_statement_state": "available",
              "queued_time": "2022-04-05T12:19:45.3020179Z",
              "session_start_time": null,
              "execution_start_time": "2022-04-05T12:19:45.7301264Z",
              "execution_finish_time": "2022-04-05T12:19:46.8224303Z"
            },
            "text/plain": "StatementMeta(sparkpool03, 9, 31, Finished, Available)"
          },
          "metadata": {}
        },
        {
          "output_type": "display_data",
          "data": {
            "application/vnd.synapse.widget-view+json": {
              "widget_id": "3b622eb2-56ac-4469-8ee6-825711e3376b",
              "widget_type": "Synapse.DataFrame"
            },
            "text/plain": "SynapseWidget(Synapse.DataFrame, 3b622eb2-56ac-4469-8ee6-825711e3376b)"
          },
          "metadata": {}
        }
      ],
      "metadata": {
        "jupyter": {
          "source_hidden": false,
          "outputs_hidden": false
        },
        "nteract": {
          "transient": {
            "deleting": false
          }
        },
        "collapsed": false
      },
      "source": [
        "display(spark.read.text(\"abfss://enriched@csresearchdpolaplakest.dfs.core.windows.net/erpcore/AdventureWorks/SalesOrderHeader/_delta_log/00000000000000000000.json\"))"
      ]
    }
  ]
}