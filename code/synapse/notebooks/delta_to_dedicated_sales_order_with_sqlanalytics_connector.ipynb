{
  "nbformat": 4,
  "nbformat_minor": 2,
  "metadata": {
    "kernelspec": {
      "name": "synapse_spark",
      "display_name": "scala"
    },
    "language_info": {
      "name": "scala"
    },
    "description": null,
    "save_output": true,
    "synapse_widget": {
      "version": "0.1",
      "state": {}
    }
  },
  "cells": [
    {
      "cell_type": "code",
      "execution_count": 33,
      "outputs": [
        {
          "output_type": "display_data",
          "data": {
            "application/vnd.livy.statement-meta+json": {
              "spark_pool": "sparkpool03",
              "session_id": 12,
              "statement_id": 10,
              "state": "finished",
              "livy_statement_state": "available",
              "queued_time": "2022-04-06T00:32:06.3188037Z",
              "session_start_time": null,
              "execution_start_time": "2022-04-06T00:32:06.6890422Z",
              "execution_finish_time": "2022-04-06T00:32:10.1945689Z"
            },
            "text/plain": "StatementMeta(sparkpool03, 12, 10, Finished, Available)"
          },
          "metadata": {}
        },
        {
          "output_type": "stream",
          "name": "stdout",
          "text": [
            "+------------+--------------+--------------------+--------------------+--------------------+------+---------------+----------------+-------------------+--------------+----------+---------------+---------------+-----------------+----------------------+-----------+----------+----------+-----------+--------------------+--------------------+--------------------+---------+----------+\n|SalesOrderID|RevisionNumber|           OrderDate|             DueDate|            ShipDate|Status|OnlineOrderFlag|SalesOrderNumber|PurchaseOrderNumber| AccountNumber|CustomerID|ShipToAddressID|BillToAddressID|       ShipMethod|CreditCardApprovalCode|   SubTotal|    TaxAmt|   Freight|   TotalDue|             Comment|             rowguid|        ModifiedDate|OrderYear|OrderMonth|\n+------------+--------------+--------------------+--------------------+--------------------+------+---------------+----------------+-------------------+--------------+----------+---------------+---------------+-----------------+----------------------+-----------+----------+----------+-----------+--------------------+--------------------+--------------------+---------+----------+\n|       71774|             2|2008-06-01 00:00:...|2008-06-13 00:00:...|2008-06-08 00:00:...|     5|          false|         SO71774|        PO348186287|10-4020-000609|     29847|           1092|           1092|CARGO TRANSPORT 5|                      |  880.34840|  70.42790|  22.00870|  972.78500|Leave with next n...|89e42cdc-8506-48a...|2022-04-05 15:22:...|     2008|         6|\n|       71832|             2|2008-06-01 00:00:...|2008-06-13 00:00:...|2008-06-08 00:00:...|     5|          false|         SO71832|      PO10353140756|10-4020-000088|     29922|            639|            639|CARGO TRANSPORT 5|                      |35775.21130|2862.01690| 894.38030|39531.60850|                    |addb8620-432a-456...|2008-06-08 00:00:...|     2008|         6|\n|       71780|             2|2008-06-01 00:00:...|2008-06-13 00:00:...|2008-06-08 00:00:...|     5|          false|         SO71780|      PO19604173239|10-4020-000340|     30113|            653|            653|CARGO TRANSPORT 5|                      |38418.68950|3073.49520| 960.46720|42452.65190|                    |a47665d2-7ac9-4cf...|2008-06-08 00:00:...|     2008|         6|\n|       71797|             2|2008-06-01 00:00:...|2008-06-13 00:00:...|2008-06-08 00:00:...|     5|          false|         SO71797|      PO16501134889|10-4020-000142|     29796|            642|            642|CARGO TRANSPORT 5|                      |78029.68980|6242.37520|1950.74220|86222.80720|                    |bb3fee84-c8bf-4dd...|2008-06-08 00:00:...|     2008|         6|\n|       71796|             2|2008-06-01 00:00:...|2008-06-13 00:00:...|2008-06-08 00:00:...|     5|          false|         SO71796|      PO17052159664|10-4020-000420|     29660|           1058|           1058|CARGO TRANSPORT 5|                      |57634.63420|4610.77070|1440.86590|63686.27080|                    |917ef5ba-f32d-456...|2008-06-08 00:00:...|     2008|         6|\n|       71776|             2|2008-06-01 00:00:...|2008-06-13 00:00:...|2008-06-08 00:00:...|     5|          false|         SO71776|      PO19952192051|10-4020-000106|     30072|            640|            640|CARGO TRANSPORT 5|                      |   78.81000|   6.30480|   1.97030|   87.08510|                    |8a3448c5-e677-415...|2008-06-08 00:00:...|     2008|         6|\n|       71783|             2|2008-06-01 00:00:...|2008-06-13 00:00:...|2008-06-08 00:00:...|     5|          false|         SO71783|      PO19343113609|10-4020-000024|     29957|            992|            992|CARGO TRANSPORT 5|                      |83858.42610|6708.67410|2096.46070|92663.56090|                    |7db2329e-6446-42a...|2008-06-08 00:00:...|     2008|         6|\n|       71858|             2|2008-06-01 00:00:...|2008-06-13 00:00:...|2008-06-08 00:00:...|     5|          false|         SO71858|      PO16153112278|10-4020-000186|     29653|           1019|           1019|CARGO TRANSPORT 5|                      |13823.70830|1105.89670| 345.59270|15275.19770|                    |5ef091e1-a0af-437...|2008-06-08 00:00:...|     2008|         6|\n|       71815|             2|2008-06-01 00:00:...|2008-06-13 00:00:...|2008-06-08 00:00:...|     5|          false|         SO71815|      PO13021155785|10-4020-000276|     30089|           1034|           1034|CARGO TRANSPORT 5|                      | 1141.57820|  91.32630|  28.53950| 1261.44400|                    |2aa5f39b-1096-4a4...|2008-06-08 00:00:...|     2008|         6|\n|       71782|             2|2008-06-01 00:00:...|2008-06-13 00:00:...|2008-06-08 00:00:...|     5|          false|         SO71782|      PO19372114749|10-4020-000582|     29485|           1086|           1086|CARGO TRANSPORT 5|                      |39785.33040|3182.82640| 994.63330|43962.79010|                    |f1be45a5-5c57-4a5...|2008-06-08 00:00:...|     2008|         6|\n|       71856|             2|2008-06-01 00:00:...|2008-06-13 00:00:...|2008-06-08 00:00:...|     5|          false|         SO71856|      PO16530177647|10-4020-000601|     30033|           1090|           1090|CARGO TRANSPORT 5|                      |  602.19460|  48.17560|  15.05490|  665.42510|                    |05fee073-0640-4a3...|2008-06-08 00:00:...|     2008|         6|\n|       71897|             2|2008-06-01 00:00:...|2008-06-13 00:00:...|2008-06-08 00:00:...|     5|          false|         SO71897|       PO4785152479|10-4020-000223|     29877|           1026|           1026|CARGO TRANSPORT 5|                      |12685.88990|1014.87120| 317.14720|14017.90830|                    |f88b3458-e0cf-424...|2008-06-08 00:00:...|     2008|         6|\n|       71845|             2|2008-06-01 00:00:...|2008-06-13 00:00:...|2008-06-08 00:00:...|     5|          false|         SO71845|       PO2697119362|10-4020-000187|     29938|           1020|           1020|CARGO TRANSPORT 5|                      |41622.05110|3329.76410|1040.55130|45992.36650|                    |e68f7ee9-c581-45c...|2008-06-08 00:00:...|     2008|         6|\n|       71915|             2|2008-06-01 00:00:...|2008-06-13 00:00:...|2008-06-08 00:00:...|     5|          false|         SO71915|       PO2349143275|10-4020-000006|     29638|            989|            989|CARGO TRANSPORT 5|                      | 2137.23100| 170.97850|  53.43080| 2361.64030|                    |0bcb3d9c-9008-4b9...|2008-06-08 00:00:...|     2008|         6|\n|       71935|             2|2008-06-01 00:00:...|2008-06-13 00:00:...|2008-06-08 00:00:...|     5|          false|         SO71935|       PO7946145876|10-4020-000438|     29531|           1061|           1061|CARGO TRANSPORT 5|                      | 6634.29610| 530.74370| 165.85740| 7330.89720|                    |7033c6ec-b12c-45b...|2008-06-08 00:00:...|     2008|         6|\n|       71895|             2|2008-06-01 00:00:...|2008-06-13 00:00:...|2008-06-08 00:00:...|     5|          false|         SO71895|       PO3770176273|10-4020-000151|     29584|           1014|           1014|CARGO TRANSPORT 5|                      |  246.73920|  19.73910|   6.16850|  272.64680|                    |07a17c0a-7f9a-441...|2008-06-08 00:00:...|     2008|         6|\n|       71885|             2|2008-06-01 00:00:...|2008-06-13 00:00:...|2008-06-08 00:00:...|     5|          false|         SO71885|       PO6119130779|10-4020-000268|     29612|            649|            649|CARGO TRANSPORT 5|                      |  550.38600|  44.03090|  13.75970|  608.17660|                    |caad090d-56a6-444...|2008-06-08 00:00:...|     2008|         6|\n|       71899|             2|2008-06-01 00:00:...|2008-06-13 00:00:...|2008-06-08 00:00:...|     5|          false|         SO71899|       PO4582142611|10-4020-000025|     29568|            993|            993|CARGO TRANSPORT 5|                      | 2415.67270| 193.25380|  60.39180| 2669.31830|                    |31d41e8f-6f43-4ca...|2008-06-08 00:00:...|     2008|         6|\n|       71938|             2|2008-06-01 00:00:...|2008-06-13 00:00:...|2008-06-08 00:00:...|     5|          false|         SO71938|       PO8468183315|10-4020-000016|     29546|            635|            635|CARGO TRANSPORT 5|                      |88812.86250|7105.02900|2220.32160|98138.21310|                    |a36ee74a-cf0d-402...|2008-06-08 00:00:...|     2008|         6|\n|       71946|             2|2008-06-01 00:00:...|2008-06-13 00:00:...|2008-06-08 00:00:...|     5|          false|         SO71946|       PO8961158629|10-4020-000466|     29741|            660|            660|CARGO TRANSPORT 5|                      |   38.95360|   3.11630|   0.97380|   43.04370|                    |10e3129d-657f-46f...|2008-06-08 00:00:...|     2008|         6|\n+------------+--------------+--------------------+--------------------+--------------------+------+---------------+----------------+-------------------+--------------+----------+---------------+---------------+-----------------+----------------------+-----------+----------+----------+-----------+--------------------+--------------------+--------------------+---------+----------+\nonly showing top 20 rows"
          ]
        }
      ],
      "metadata": {
        "microsoft": {
          "language": "python"
        }
      },
      "source": [
        "%%pyspark\r\n",
        "df = spark.read.format(\"delta\").load(\"abfss://enriched@csresearchdpolaplakest.dfs.core.windows.net/erpcore/AdventureWorks/SalesOrderHeader\")\r\n",
        "df.show()\r\n",
        "df.createOrReplaceTempView('source')\r\n",
        "\r\n",
        ""
      ]
    },
    {
      "cell_type": "code",
      "execution_count": 37,
      "outputs": [
        {
          "output_type": "display_data",
          "data": {
            "application/vnd.livy.statement-meta+json": {
              "spark_pool": "sparkpool03",
              "session_id": 12,
              "statement_id": 14,
              "state": "finished",
              "livy_statement_state": "available",
              "queued_time": "2022-04-06T00:41:57.4896222Z",
              "session_start_time": null,
              "execution_start_time": "2022-04-06T00:41:57.9507241Z",
              "execution_finish_time": "2022-04-06T00:42:20.7082127Z"
            },
            "text/plain": "StatementMeta(sparkpool03, 12, 14, Finished, Available)"
          },
          "metadata": {}
        },
        {
          "output_type": "stream",
          "name": "stdout",
          "text": [
            "import org.apache.spark.sql.SqlAnalyticsConnector._\nimport org.apache.spark.sql.SaveMode\nimport com.microsoft.spark.sqlanalytics.utils.Constants\nholiday_nodate: org.apache.spark.sql.DataFrame = [SalesOrderID: int, RevisionNumber: int ... 22 more fields]\nsql_pool_name: String = sqlpool01\n"
          ]
        }
      ],
      "metadata": {
        "jupyter": {
          "source_hidden": false,
          "outputs_hidden": false
        },
        "nteract": {
          "transient": {
            "deleting": false
          }
        }
      },
      "source": [
        "\r\n",
        "import org.apache.spark.sql.SqlAnalyticsConnector._\r\n",
        "import org.apache.spark.sql.SaveMode\r\n",
        "import com.microsoft.spark.sqlanalytics.utils.Constants\r\n",
        "val holiday_nodate = spark.sql(\"SELECT * FROM source\")\r\n",
        "val sql_pool_name = \"sqlpool01\"\r\n",
        "holiday_nodate.\r\n",
        "    write.\r\n",
        "    mode(SaveMode.Overwrite).\r\n",
        "    sqlanalytics(s\"$sql_pool_name.AdventureWorks.sales_order_header\", Constants.INTERNAL)"
      ]
    },
    {
      "cell_type": "code",
      "execution_count": 16,
      "outputs": [
        {
          "output_type": "display_data",
          "data": {
            "application/vnd.livy.statement-meta+json": {
              "spark_pool": "sparkpool03",
              "session_id": 11,
              "statement_id": 17,
              "state": "finished",
              "livy_statement_state": "available",
              "queued_time": "2022-04-05T23:05:20.9155146Z",
              "session_start_time": null,
              "execution_start_time": "2022-04-05T23:05:21.2916549Z",
              "execution_finish_time": "2022-04-05T23:05:21.705523Z"
            },
            "text/plain": "StatementMeta(sparkpool03, 11, 17, Finished, Available)"
          },
          "metadata": {}
        }
      ],
      "metadata": {
        "jupyter": {
          "source_hidden": false,
          "outputs_hidden": false
        },
        "nteract": {
          "transient": {
            "deleting": false
          }
        }
      },
      "source": [
        "server = \"cs-eur-research-dp-olap-synw.sql.azuresynapse.net\"\r\n",
        "database = \"sqlpool01\"\r\n",
        "username = \"sqladminuser\"\r\n",
        "password = \"BeanieBoblets1234\""
      ]
    }
  ]
}