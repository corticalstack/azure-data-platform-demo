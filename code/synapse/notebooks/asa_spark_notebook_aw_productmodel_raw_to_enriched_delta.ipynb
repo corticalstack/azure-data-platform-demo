{
  "nbformat": 4,
  "nbformat_minor": 2,
  "metadata": {
    "kernelspec": {
      "name": "synapse_pyspark",
      "display_name": "Synapse PySpark"
    },
    "language_info": {
      "name": "python"
    },
    "description": null,
    "save_output": true,
    "synapse_widget": {
      "version": "0.1",
      "state": {
        "892f72f5-7971-4403-aecc-b52d2d228cac": {
          "type": "Synapse.DataFrame",
          "sync_state": {
            "table": {
              "rows": [
                {
                  "0": "1",
                  "2": "Bikes",
                  "3": "cfbda25c-df71-47a7-b81b-64ee161aa37c",
                  "4": "2002-06-01 00:00:00.0000000"
                },
                {
                  "0": "2",
                  "2": "Components",
                  "3": "c657828d-d808-4aba-91a3-af2ce02300e9",
                  "4": "2002-06-01 00:00:00.0000000"
                },
                {
                  "0": "3",
                  "2": "Clothing",
                  "3": "10a7c342-ca82-48d4-8a38-46a2eb089b74",
                  "4": "2002-06-01 00:00:00.0000000"
                },
                {
                  "0": "4",
                  "2": "Accessories",
                  "3": "2be3be36-d9a2-4eee-b593-ed895d97c2a6",
                  "4": "2002-06-01 00:00:00.0000000"
                },
                {
                  "0": "5",
                  "1": "1",
                  "2": "Mountain Bikes",
                  "3": "2d364ade-264a-433c-b092-4fcbf3804e01",
                  "4": "2002-06-01 00:00:00.0000000"
                },
                {
                  "0": "6",
                  "1": "1",
                  "2": "Road Bikes",
                  "3": "000310c0-bcc8-42c4-b0c3-45ae611af06b",
                  "4": "2002-06-01 00:00:00.0000000"
                },
                {
                  "0": "7",
                  "1": "1",
                  "2": "Touring Bikes",
                  "3": "02c5061d-ecdc-4274-b5f1-e91d76bc3f37",
                  "4": "2002-06-01 00:00:00.0000000"
                },
                {
                  "0": "8",
                  "1": "2",
                  "2": "Handlebars",
                  "3": "3ef2c725-7135-4c85-9ae6-ae9a3bdd9283",
                  "4": "2002-06-01 00:00:00.0000000"
                },
                {
                  "0": "9",
                  "1": "2",
                  "2": "Bottom Brackets",
                  "3": "a9e54089-8a1e-4cf5-8646-e3801f685934",
                  "4": "2002-06-01 00:00:00.0000000"
                },
                {
                  "0": "10",
                  "1": "2",
                  "2": "Brakes",
                  "3": "d43ba4a3-ef0d-426b-90eb-4be4547dd30c",
                  "4": "2002-06-01 00:00:00.0000000"
                }
              ],
              "schema": [
                {
                  "key": "0",
                  "name": "ProductCategoryID",
                  "type": "int"
                },
                {
                  "key": "1",
                  "name": "ParentProductCategoryID",
                  "type": "int"
                },
                {
                  "key": "2",
                  "name": "Name",
                  "type": "string"
                },
                {
                  "key": "3",
                  "name": "rowguid",
                  "type": "string"
                },
                {
                  "key": "4",
                  "name": "ModifiedDate",
                  "type": "string"
                }
              ],
              "truncated": false
            },
            "isSummary": false,
            "language": "scala"
          },
          "persist_state": {
            "view": {
              "type": "details",
              "tableOptions": {},
              "chartOptions": {
                "chartType": "bar",
                "aggregationType": "sum",
                "categoryFieldKeys": [
                  "1"
                ],
                "seriesFieldKeys": [
                  "0"
                ],
                "isStacked": false
              }
            }
          }
        },
        "ae138163-856f-48dc-8d67-45eb31c53223": {
          "type": "Synapse.DataFrame",
          "sync_state": {
            "table": {
              "rows": [
                {
                  "0": "abfss://raw@csresearchdpolaplakest.dfs.core.windows.net/erpcore/AdventureWorks/ProductModel/Year=2022/Month=04/Day=07/Time=10:29:19/ProductModel.csv",
                  "1": "ProductModel.csv",
                  "2": "25619"
                }
              ],
              "schema": [
                {
                  "key": "0",
                  "name": "path",
                  "type": "string"
                },
                {
                  "key": "1",
                  "name": "name",
                  "type": "string"
                },
                {
                  "key": "2",
                  "name": "size",
                  "type": "bigint"
                }
              ],
              "truncated": false
            },
            "isSummary": false,
            "language": "scala"
          },
          "persist_state": {
            "view": {
              "type": "details",
              "tableOptions": {},
              "chartOptions": {
                "chartType": "bar",
                "aggregationType": "sum",
                "categoryFieldKeys": [
                  "0"
                ],
                "seriesFieldKeys": [
                  "2"
                ],
                "isStacked": false
              }
            }
          }
        },
        "df6ea368-35c6-460e-8f1b-348eedba6dba": {
          "type": "Synapse.DataFrame",
          "sync_state": {
            "table": {
              "rows": [
                {
                  "0": "1",
                  "1": "Classic Vest",
                  "2": "",
                  "3": "29321d47-1e4c-4aac-887c-19634328c25e",
                  "4": "2007-06-01 00:00:00.0000000"
                },
                {
                  "0": "2",
                  "1": "Cycling Cap",
                  "2": "",
                  "3": "474fb654-3c96-4cb9-82df-2152eeffbdb0",
                  "4": "2005-06-01 00:00:00.0000000"
                },
                {
                  "0": "3",
                  "1": "Full-Finger Gloves",
                  "2": "",
                  "3": "a75483fe-3c47-4aa4-93cf-664b51192987",
                  "4": "2006-06-01 00:00:00.0000000"
                },
                {
                  "0": "4",
                  "1": "Half-Finger Gloves",
                  "2": "",
                  "3": "14b56f2a-d4aa-40a4-b9a2-984f165ed702",
                  "4": "2006-06-01 00:00:00.0000000"
                },
                {
                  "0": "5",
                  "1": "HL Mountain Frame",
                  "2": "",
                  "3": "fdd5407b-c2db-49d1-a86b-c13a2e3582a2",
                  "4": "2005-06-01 00:00:00.0000000"
                },
                {
                  "0": "6",
                  "1": "HL Road Frame",
                  "2": "",
                  "3": "4d332ecc-48b3-4e04-b7e7-227f3ac2a7ec",
                  "4": "2002-05-02 00:00:00.0000000"
                },
                {
                  "0": "7",
                  "1": "HL Touring Frame",
                  "2": "",
                  "3": "d60ed2a5-c100-4c54-89a1-531404c4a20f",
                  "4": "2009-05-16 16:34:28.9800000"
                },
                {
                  "0": "8",
                  "1": "LL Mountain Frame",
                  "2": "",
                  "3": "65bf3f6d-bcf2-4db6-8515-fc5c57423037",
                  "4": "2006-11-20 09:56:38.2730000"
                },
                {
                  "0": "9",
                  "1": "LL Road Frame",
                  "2": "",
                  "3": "ddc67a2f-024a-4446-9b54-3c679baba708",
                  "4": "2005-06-01 00:00:00.0000000"
                },
                {
                  "0": "10",
                  "1": "LL Touring Frame",
                  "2": "",
                  "3": "66c63844-2a24-473c-96d5-d3b3fd57d834",
                  "4": "2009-05-16 16:34:28.9800000"
                }
              ],
              "schema": [
                {
                  "key": "0",
                  "name": "ProductModelID",
                  "type": "string"
                },
                {
                  "key": "1",
                  "name": "Name",
                  "type": "string"
                },
                {
                  "key": "2",
                  "name": "CatalogDescription",
                  "type": "string"
                },
                {
                  "key": "3",
                  "name": "rowguid",
                  "type": "string"
                },
                {
                  "key": "4",
                  "name": "ModifiedDate",
                  "type": "string"
                }
              ],
              "truncated": false
            },
            "isSummary": false,
            "language": "scala"
          },
          "persist_state": {
            "view": {
              "type": "details",
              "tableOptions": {},
              "chartOptions": {
                "chartType": "bar",
                "aggregationType": "count",
                "categoryFieldKeys": [
                  "0"
                ],
                "seriesFieldKeys": [
                  "0"
                ],
                "isStacked": false
              }
            }
          }
        },
        "511ebad2-4ac7-4d38-9585-7079a65eec94": {
          "type": "Synapse.DataFrame",
          "sync_state": {
            "table": {
              "rows": [
                {
                  "0": "{\"commitInfo\":{\"timestamp\":1649493069216,\"operation\":\"CREATE OR REPLACE TABLE\",\"operationParameters\":{\"isManaged\":\"false\",\"description\":null,\"partitionBy\":\"[]\",\"properties\":\"{}\"},\"isBlindAppend\":true,\"operationMetrics\":{}}}"
                },
                {
                  "0": "{\"protocol\":{\"minReaderVersion\":1,\"minWriterVersion\":2}}"
                },
                {
                  "0": "{\"metaData\":{\"id\":\"caca61c7-8e3a-4089-badd-e68a3ed1d5de\",\"format\":{\"provider\":\"parquet\",\"options\":{}},\"schemaString\":\"{\\\"type\\\":\\\"struct\\\",\\\"fields\\\":[{\\\"name\\\":\\\"ProductModelID\\\",\\\"type\\\":\\\"string\\\",\\\"nullable\\\":false,\\\"metadata\\\":{}},{\\\"name\\\":\\\"Name\\\",\\\"type\\\":\\\"string\\\",\\\"nullable\\\":true,\\\"metadata\\\":{}},{\\\"name\\\":\\\"CatalogDescription\\\",\\\"type\\\":\\\"string\\\",\\\"nullable\\\":true,\\\"metadata\\\":{}},{\\\"name\\\":\\\"rowguid\\\",\\\"type\\\":\\\"string\\\",\\\"nullable\\\":true,\\\"metadata\\\":{}},{\\\"name\\\":\\\"ModifiedDate\\\",\\\"type\\\":\\\"string\\\",\\\"nullable\\\":true,\\\"metadata\\\":{}}]}\",\"partitionColumns\":[],\"configuration\":{},\"createdTime\":1649493069161}}"
                }
              ],
              "schema": [
                {
                  "key": "0",
                  "name": "value",
                  "type": "string"
                }
              ],
              "truncated": false
            },
            "isSummary": false,
            "language": "scala"
          },
          "persist_state": {
            "view": {
              "type": "details",
              "tableOptions": {},
              "chartOptions": {
                "chartType": "bar",
                "aggregationType": "count",
                "categoryFieldKeys": [
                  "0"
                ],
                "seriesFieldKeys": [
                  "0"
                ],
                "isStacked": false
              }
            }
          }
        }
      }
    }
  },
  "cells": [
    {
      "cell_type": "code",
      "execution_count": 1,
      "outputs": [
        {
          "output_type": "display_data",
          "data": {
            "application/vnd.livy.statement-meta+json": {
              "spark_pool": "sparkpool03",
              "session_id": 17,
              "statement_id": 1,
              "state": "finished",
              "livy_statement_state": "available",
              "queued_time": "2022-04-09T08:26:07.4355747Z",
              "session_start_time": "2022-04-09T08:26:07.4889505Z",
              "execution_start_time": "2022-04-09T08:26:54.9315676Z",
              "execution_finish_time": "2022-04-09T08:26:55.3791547Z"
            },
            "text/plain": "StatementMeta(sparkpool03, 17, 1, Finished, Available)"
          },
          "metadata": {}
        }
      ],
      "metadata": {
        "microsoft": {
          "language": "python"
        },
        "collapsed": false
      },
      "source": [
        "%%pyspark\r\n",
        "import pandas as pd\r\n",
        "from datetime import datetime"
      ]
    },
    {
      "cell_type": "code",
      "execution_count": 2,
      "outputs": [
        {
          "output_type": "display_data",
          "data": {
            "application/vnd.livy.statement-meta+json": {
              "spark_pool": "sparkpool03",
              "session_id": 17,
              "statement_id": 2,
              "state": "finished",
              "livy_statement_state": "available",
              "queued_time": "2022-04-09T08:26:07.4369467Z",
              "session_start_time": null,
              "execution_start_time": "2022-04-09T08:26:55.7536725Z",
              "execution_finish_time": "2022-04-09T08:26:56.2577826Z"
            },
            "text/plain": "StatementMeta(sparkpool03, 17, 2, Finished, Available)"
          },
          "metadata": {}
        }
      ],
      "metadata": {
        "jupyter": {
          "source_hidden": false,
          "outputs_hidden": false
        },
        "nteract": {
          "transient": {
            "deleting": false
          }
        }
      },
      "source": [
        "def deep_ls(path: str, max_depth=1):\r\n",
        "    \"\"\"\r\n",
        "    List all files and folders in specified path and\r\n",
        "    subfolders within maximum recursion depth.\r\n",
        "    \"\"\"\r\n",
        "\r\n",
        "    # List all files in path\r\n",
        "    li = mssparkutils.fs.ls(path)\r\n",
        "\r\n",
        "    # Return all files\r\n",
        "    for x in li:\r\n",
        "        if x.size != 0:\r\n",
        "            yield x\r\n",
        "\r\n",
        "    # If the max_depth has not been reached, start\r\n",
        "    # listing files and folders in subdirectories\r\n",
        "    if max_depth > 1:\r\n",
        "        for x in li:\r\n",
        "            if x.size != 0:\r\n",
        "                continue\r\n",
        "            for y in deep_ls(x.path, max_depth - 1):\r\n",
        "                yield y\r\n",
        "\r\n",
        "    # If max_depth has been reached,\r\n",
        "    # return the folders\r\n",
        "    else:\r\n",
        "        for x in li:\r\n",
        "            if x.size == 0:\r\n",
        "                yield x\r\n",
        "\r\n",
        "def convertfiles2df(files):\r\n",
        "    \"\"\"\r\n",
        "    Converts FileInfo object into Pandas DataFrame to enable display\r\n",
        "    \"\"\"\r\n",
        "    # Disable Arrow-based transfers since the Pandas DataFrame is tiny\r\n",
        "    spark.conf.set(\"spark.sql.execution.arrow.enabled\", \"false\")\r\n",
        "\r\n",
        "    schema = ['path','name','size']\r\n",
        "    df = pd.DataFrame([[getattr(i,j) for j in schema] for i in files], columns = schema).sort_values('path')\r\n",
        "    return(df)"
      ]
    },
    {
      "cell_type": "code",
      "execution_count": 3,
      "outputs": [
        {
          "output_type": "display_data",
          "data": {
            "application/vnd.livy.statement-meta+json": {
              "spark_pool": "sparkpool03",
              "session_id": 17,
              "statement_id": 3,
              "state": "finished",
              "livy_statement_state": "available",
              "queued_time": "2022-04-09T08:26:08.6161438Z",
              "session_start_time": null,
              "execution_start_time": "2022-04-09T08:26:56.6940944Z",
              "execution_finish_time": "2022-04-09T08:27:00.8790874Z"
            },
            "text/plain": "StatementMeta(sparkpool03, 17, 3, Finished, Available)"
          },
          "metadata": {}
        }
      ],
      "metadata": {
        "jupyter": {
          "source_hidden": false,
          "outputs_hidden": false
        },
        "nteract": {
          "transient": {
            "deleting": false
          }
        }
      },
      "source": [
        "root = 'abfss://raw@csresearchdpolaplakest.dfs.core.windows.net/erpcore/AdventureWorks/ProductModel'\r\n",
        "files = list(deep_ls(root, max_depth=20))"
      ]
    },
    {
      "cell_type": "code",
      "execution_count": 4,
      "outputs": [
        {
          "output_type": "display_data",
          "data": {
            "application/vnd.livy.statement-meta+json": {
              "spark_pool": "sparkpool03",
              "session_id": 17,
              "statement_id": 4,
              "state": "finished",
              "livy_statement_state": "available",
              "queued_time": "2022-04-09T08:26:10.1215935Z",
              "session_start_time": null,
              "execution_start_time": "2022-04-09T08:27:01.3004392Z",
              "execution_finish_time": "2022-04-09T08:27:02.0415546Z"
            },
            "text/plain": "StatementMeta(sparkpool03, 17, 4, Finished, Available)"
          },
          "metadata": {}
        }
      ],
      "metadata": {
        "jupyter": {
          "source_hidden": false,
          "outputs_hidden": false
        },
        "nteract": {
          "transient": {
            "deleting": false
          }
        },
        "collapsed": false
      },
      "source": [
        "df_list_of_files = convertfiles2df(files)"
      ]
    },
    {
      "cell_type": "code",
      "execution_count": 5,
      "outputs": [
        {
          "output_type": "display_data",
          "data": {
            "application/vnd.livy.statement-meta+json": {
              "spark_pool": "sparkpool03",
              "session_id": 17,
              "statement_id": 5,
              "state": "finished",
              "livy_statement_state": "available",
              "queued_time": "2022-04-09T08:26:10.9188552Z",
              "session_start_time": null,
              "execution_start_time": "2022-04-09T08:27:02.4454361Z",
              "execution_finish_time": "2022-04-09T08:27:02.9127173Z"
            },
            "text/plain": "StatementMeta(sparkpool03, 17, 5, Finished, Available)"
          },
          "metadata": {}
        },
        {
          "output_type": "display_data",
          "data": {
            "text/plain": "Index(['path', 'name', 'size'], dtype='object')"
          },
          "metadata": {}
        }
      ],
      "metadata": {
        "jupyter": {
          "source_hidden": false,
          "outputs_hidden": false
        },
        "nteract": {
          "transient": {
            "deleting": false
          }
        }
      },
      "source": [
        "df_list_of_files.columns"
      ]
    },
    {
      "cell_type": "code",
      "execution_count": 6,
      "outputs": [
        {
          "output_type": "display_data",
          "data": {
            "application/vnd.livy.statement-meta+json": {
              "spark_pool": "sparkpool03",
              "session_id": 17,
              "statement_id": 6,
              "state": "finished",
              "livy_statement_state": "available",
              "queued_time": "2022-04-09T08:26:11.9254421Z",
              "session_start_time": null,
              "execution_start_time": "2022-04-09T08:27:03.3054149Z",
              "execution_finish_time": "2022-04-09T08:27:09.1438728Z"
            },
            "text/plain": "StatementMeta(sparkpool03, 17, 6, Finished, Available)"
          },
          "metadata": {}
        },
        {
          "output_type": "display_data",
          "data": {
            "application/vnd.synapse.widget-view+json": {
              "widget_id": "ae138163-856f-48dc-8d67-45eb31c53223",
              "widget_type": "Synapse.DataFrame"
            },
            "text/plain": "SynapseWidget(Synapse.DataFrame, ae138163-856f-48dc-8d67-45eb31c53223)"
          },
          "metadata": {}
        }
      ],
      "metadata": {
        "jupyter": {
          "source_hidden": false,
          "outputs_hidden": false
        },
        "nteract": {
          "transient": {
            "deleting": false
          }
        },
        "collapsed": false
      },
      "source": [
        "df_list_of_files = df_list_of_files.sort_values(['path'], ascending=[False])\r\n",
        "display(df_list_of_files)"
      ]
    },
    {
      "cell_type": "code",
      "execution_count": 7,
      "outputs": [
        {
          "output_type": "display_data",
          "data": {
            "application/vnd.livy.statement-meta+json": {
              "spark_pool": "sparkpool03",
              "session_id": 17,
              "statement_id": 7,
              "state": "finished",
              "livy_statement_state": "available",
              "queued_time": "2022-04-09T08:26:13.7558947Z",
              "session_start_time": null,
              "execution_start_time": "2022-04-09T08:27:09.5748998Z",
              "execution_finish_time": "2022-04-09T08:27:10.0755619Z"
            },
            "text/plain": "StatementMeta(sparkpool03, 17, 7, Finished, Available)"
          },
          "metadata": {}
        }
      ],
      "metadata": {
        "jupyter": {
          "source_hidden": false,
          "outputs_hidden": false
        },
        "nteract": {
          "transient": {
            "deleting": false
          }
        }
      },
      "source": [
        "source_path=df_list_of_files.iloc[0]['path']"
      ]
    },
    {
      "cell_type": "code",
      "execution_count": 8,
      "outputs": [
        {
          "output_type": "display_data",
          "data": {
            "application/vnd.livy.statement-meta+json": {
              "spark_pool": "sparkpool03",
              "session_id": 17,
              "statement_id": 8,
              "state": "finished",
              "livy_statement_state": "available",
              "queued_time": "2022-04-09T08:26:14.6733943Z",
              "session_start_time": null,
              "execution_start_time": "2022-04-09T08:27:10.5097114Z",
              "execution_finish_time": "2022-04-09T08:27:10.9117188Z"
            },
            "text/plain": "StatementMeta(sparkpool03, 17, 8, Finished, Available)"
          },
          "metadata": {}
        },
        {
          "output_type": "display_data",
          "data": {
            "text/plain": "'abfss://raw@csresearchdpolaplakest.dfs.core.windows.net/erpcore/AdventureWorks/ProductModel/Year=2022/Month=04/Day=07/Time=10:29:19/ProductModel.csv'"
          },
          "metadata": {}
        }
      ],
      "metadata": {
        "jupyter": {
          "source_hidden": false,
          "outputs_hidden": false
        },
        "nteract": {
          "transient": {
            "deleting": false
          }
        }
      },
      "source": [
        "source_path"
      ]
    },
    {
      "cell_type": "code",
      "execution_count": 9,
      "outputs": [
        {
          "output_type": "display_data",
          "data": {
            "application/vnd.livy.statement-meta+json": {
              "spark_pool": "sparkpool03",
              "session_id": 17,
              "statement_id": 9,
              "state": "finished",
              "livy_statement_state": "available",
              "queued_time": "2022-04-09T08:26:15.8494357Z",
              "session_start_time": null,
              "execution_start_time": "2022-04-09T08:27:11.2983828Z",
              "execution_finish_time": "2022-04-09T08:27:21.0144465Z"
            },
            "text/plain": "StatementMeta(sparkpool03, 17, 9, Finished, Available)"
          },
          "metadata": {}
        }
      ],
      "metadata": {
        "jupyter": {
          "source_hidden": false,
          "outputs_hidden": false
        },
        "nteract": {
          "transient": {
            "deleting": false
          }
        }
      },
      "source": [
        "df = (spark \r\n",
        "        .read\r\n",
        "        .format(\"csv\")\r\n",
        "        .option(\"inferSchema\", \"true\")\r\n",
        "        .option(\"header\",\"true\")\r\n",
        "        .load(source_path)\r\n",
        ")"
      ]
    },
    {
      "cell_type": "code",
      "execution_count": 10,
      "outputs": [
        {
          "output_type": "display_data",
          "data": {
            "application/vnd.livy.statement-meta+json": {
              "spark_pool": "sparkpool03",
              "session_id": 17,
              "statement_id": 10,
              "state": "finished",
              "livy_statement_state": "available",
              "queued_time": "2022-04-09T08:26:17.7334927Z",
              "session_start_time": null,
              "execution_start_time": "2022-04-09T08:27:21.4222181Z",
              "execution_finish_time": "2022-04-09T08:27:28.6761429Z"
            },
            "text/plain": "StatementMeta(sparkpool03, 17, 10, Finished, Available)"
          },
          "metadata": {}
        },
        {
          "output_type": "stream",
          "name": "stdout",
          "text": [
            "+--------------------+--------------------+--------------------+--------------------+--------------------+\n|      ProductModelID|                Name|  CatalogDescription|             rowguid|        ModifiedDate|\n+--------------------+--------------------+--------------------+--------------------+--------------------+\n|                   1|        Classic Vest|                null|29321d47-1e4c-4aa...|2007-06-01 00:00:...|\n|                   2|         Cycling Cap|                null|474fb654-3c96-4cb...|2005-06-01 00:00:...|\n|                   3|  Full-Finger Gloves|                null|a75483fe-3c47-4aa...|2006-06-01 00:00:...|\n|                   4|  Half-Finger Gloves|                null|14b56f2a-d4aa-40a...|2006-06-01 00:00:...|\n|                   5|   HL Mountain Frame|                null|fdd5407b-c2db-49d...|2005-06-01 00:00:...|\n|                   6|       HL Road Frame|                null|4d332ecc-48b3-4e0...|2002-05-02 00:00:...|\n|                   7|    HL Touring Frame|                null|d60ed2a5-c100-4c5...|2009-05-16 16:34:...|\n|                   8|   LL Mountain Frame|                null|65bf3f6d-bcf2-4db...|2006-11-20 09:56:...|\n|                   9|       LL Road Frame|                null|ddc67a2f-024a-444...|2005-06-01 00:00:...|\n|                  10|    LL Touring Frame|                null|66c63844-2a24-473...|2009-05-16 16:34:...|\n|                  11|Long-Sleeve Logo ...|                null|20efe3f1-a2f8-4dd...|2005-06-01 00:00:...|\n|                  12|    Men's Bib-Shorts|                null|219e2f87-26a9-483...|2006-06-01 00:00:...|\n|                  13| Men's Sports Shorts|                null|45fe0d77-6645-473...|2006-06-01 00:00:...|\n|                  14|   ML Mountain Frame|                null|0d48c51d-7603-401...|2006-06-01 00:00:...|\n|                  15| ML Mountain Frame-W|                null|aa77697c-6d1c-48f...|2006-06-01 00:00:...|\n|                  16|       ML Road Frame|                null|3494e8ff-7daf-486...|2005-06-01 00:00:...|\n|                  17|     ML Road Frame-W|                null|ca18ecfd-2023-4fa...|2006-06-01 00:00:...|\n|                  18| Mountain Bike Socks|                null|36b1a76a-dff3-4a5...|2005-06-01 00:00:...|\n|                  19|        Mountain-100|<?xml-stylesheet ...|                null|                null|\n| \t\t\t\tPerformance-...|                null|                null|                null|                null|\n+--------------------+--------------------+--------------------+--------------------+--------------------+\nonly showing top 20 rows"
          ]
        }
      ],
      "metadata": {
        "jupyter": {
          "source_hidden": false,
          "outputs_hidden": false
        },
        "nteract": {
          "transient": {
            "deleting": false
          }
        }
      },
      "source": [
        "df.show()"
      ]
    },
    {
      "cell_type": "code",
      "execution_count": 11,
      "outputs": [
        {
          "output_type": "display_data",
          "data": {
            "application/vnd.livy.statement-meta+json": {
              "spark_pool": "sparkpool03",
              "session_id": 16,
              "statement_id": 11,
              "state": "finished",
              "livy_statement_state": "available",
              "queued_time": "2022-04-09T08:16:03.8889631Z",
              "session_start_time": null,
              "execution_start_time": "2022-04-09T08:17:27.3018561Z",
              "execution_finish_time": "2022-04-09T08:17:28.4856866Z"
            },
            "text/plain": "StatementMeta(sparkpool03, 16, 11, Finished, Available)"
          },
          "metadata": {}
        },
        {
          "output_type": "display_data",
          "data": {
            "application/vnd.synapse.widget-view+json": {
              "widget_id": "892f72f5-7971-4403-aecc-b52d2d228cac",
              "widget_type": "Synapse.DataFrame"
            },
            "text/plain": "SynapseWidget(Synapse.DataFrame, 892f72f5-7971-4403-aecc-b52d2d228cac)"
          },
          "metadata": {}
        }
      ],
      "metadata": {
        "jupyter": {
          "source_hidden": false,
          "outputs_hidden": false
        },
        "nteract": {
          "transient": {
            "deleting": false
          }
        },
        "collapsed": false
      },
      "source": [
        "display(df.limit(10))"
      ]
    },
    {
      "cell_type": "code",
      "execution_count": 11,
      "outputs": [
        {
          "output_type": "display_data",
          "data": {
            "application/vnd.livy.statement-meta+json": {
              "spark_pool": "sparkpool03",
              "session_id": 17,
              "statement_id": 11,
              "state": "finished",
              "livy_statement_state": "available",
              "queued_time": "2022-04-09T08:26:20.9253969Z",
              "session_start_time": null,
              "execution_start_time": "2022-04-09T08:27:29.0434995Z",
              "execution_finish_time": "2022-04-09T08:27:30.1923588Z"
            },
            "text/plain": "StatementMeta(sparkpool03, 17, 11, Finished, Available)"
          },
          "metadata": {}
        },
        {
          "output_type": "display_data",
          "data": {
            "text/plain": "164"
          },
          "metadata": {}
        }
      ],
      "metadata": {
        "jupyter": {
          "source_hidden": false,
          "outputs_hidden": false
        },
        "nteract": {
          "transient": {
            "deleting": false
          }
        }
      },
      "source": [
        "df.count()"
      ]
    },
    {
      "cell_type": "code",
      "execution_count": 12,
      "outputs": [
        {
          "output_type": "display_data",
          "data": {
            "application/vnd.livy.statement-meta+json": {
              "spark_pool": "sparkpool03",
              "session_id": 17,
              "statement_id": 12,
              "state": "finished",
              "livy_statement_state": "available",
              "queued_time": "2022-04-09T08:26:21.972917Z",
              "session_start_time": null,
              "execution_start_time": "2022-04-09T08:27:30.5752021Z",
              "execution_finish_time": "2022-04-09T08:27:30.9815681Z"
            },
            "text/plain": "StatementMeta(sparkpool03, 17, 12, Finished, Available)"
          },
          "metadata": {}
        },
        {
          "output_type": "stream",
          "name": "stdout",
          "text": [
            "root\n |-- ProductModelID: string (nullable = true)\n |-- Name: string (nullable = true)\n |-- CatalogDescription: string (nullable = true)\n |-- rowguid: string (nullable = true)\n |-- ModifiedDate: string (nullable = true)"
          ]
        }
      ],
      "metadata": {
        "jupyter": {
          "source_hidden": false,
          "outputs_hidden": false
        },
        "nteract": {
          "transient": {
            "deleting": false
          }
        }
      },
      "source": [
        "df.printSchema()"
      ]
    },
    {
      "cell_type": "code",
      "execution_count": 13,
      "outputs": [
        {
          "output_type": "display_data",
          "data": {
            "application/vnd.livy.statement-meta+json": {
              "spark_pool": "sparkpool03",
              "session_id": 17,
              "statement_id": 13,
              "state": "finished",
              "livy_statement_state": "available",
              "queued_time": "2022-04-09T08:26:27.2856083Z",
              "session_start_time": null,
              "execution_start_time": "2022-04-09T08:27:31.3722987Z",
              "execution_finish_time": "2022-04-09T08:27:31.8617767Z"
            },
            "text/plain": "StatementMeta(sparkpool03, 17, 13, Finished, Available)"
          },
          "metadata": {}
        }
      ],
      "metadata": {
        "jupyter": {
          "source_hidden": false,
          "outputs_hidden": false
        },
        "nteract": {
          "transient": {
            "deleting": false
          }
        }
      },
      "source": [
        "# Replace null values with zero\r\n",
        "df = df.na.fill(0)"
      ]
    },
    {
      "cell_type": "code",
      "execution_count": 14,
      "outputs": [
        {
          "output_type": "display_data",
          "data": {
            "application/vnd.livy.statement-meta+json": {
              "spark_pool": "sparkpool03",
              "session_id": 17,
              "statement_id": 14,
              "state": "finished",
              "livy_statement_state": "available",
              "queued_time": "2022-04-09T08:26:28.3349882Z",
              "session_start_time": null,
              "execution_start_time": "2022-04-09T08:27:32.241963Z",
              "execution_finish_time": "2022-04-09T08:27:32.8678988Z"
            },
            "text/plain": "StatementMeta(sparkpool03, 17, 14, Finished, Available)"
          },
          "metadata": {}
        }
      ],
      "metadata": {
        "jupyter": {
          "source_hidden": false,
          "outputs_hidden": false
        },
        "nteract": {
          "transient": {
            "deleting": false
          }
        }
      },
      "source": [
        "# Replace null strings with empty\r\n",
        "df = df.na.fill(\"\")"
      ]
    },
    {
      "cell_type": "code",
      "execution_count": 15,
      "outputs": [
        {
          "output_type": "display_data",
          "data": {
            "application/vnd.livy.statement-meta+json": {
              "spark_pool": "sparkpool03",
              "session_id": 17,
              "statement_id": 15,
              "state": "finished",
              "livy_statement_state": "available",
              "queued_time": "2022-04-09T08:26:29.3704988Z",
              "session_start_time": null,
              "execution_start_time": "2022-04-09T08:27:33.7786433Z",
              "execution_finish_time": "2022-04-09T08:27:34.2653417Z"
            },
            "text/plain": "StatementMeta(sparkpool03, 17, 15, Finished, Available)"
          },
          "metadata": {}
        },
        {
          "output_type": "display_data",
          "data": {
            "application/vnd.synapse.widget-view+json": {
              "widget_id": "df6ea368-35c6-460e-8f1b-348eedba6dba",
              "widget_type": "Synapse.DataFrame"
            },
            "text/plain": "SynapseWidget(Synapse.DataFrame, df6ea368-35c6-460e-8f1b-348eedba6dba)"
          },
          "metadata": {}
        }
      ],
      "metadata": {
        "jupyter": {
          "source_hidden": false,
          "outputs_hidden": false
        },
        "nteract": {
          "transient": {
            "deleting": false
          }
        },
        "collapsed": false
      },
      "source": [
        "display(df.limit(10))"
      ]
    },
    {
      "cell_type": "code",
      "execution_count": 17,
      "outputs": [
        {
          "output_type": "display_data",
          "data": {
            "application/vnd.livy.statement-meta+json": {
              "spark_pool": "sparkpool03",
              "session_id": 17,
              "statement_id": 17,
              "state": "finished",
              "livy_statement_state": "available",
              "queued_time": "2022-04-09T08:34:29.6195176Z",
              "session_start_time": null,
              "execution_start_time": "2022-04-09T08:34:30.0214598Z",
              "execution_finish_time": "2022-04-09T08:34:30.4303372Z"
            },
            "text/plain": "StatementMeta(sparkpool03, 17, 17, Finished, Available)"
          },
          "metadata": {}
        }
      ],
      "metadata": {
        "jupyter": {
          "source_hidden": false,
          "outputs_hidden": false
        },
        "nteract": {
          "transient": {
            "deleting": false
          }
        }
      },
      "source": [
        "# Create temp views to easily query with Spark SQL\r\n",
        "\r\n",
        "df.createOrReplaceTempView('merge')"
      ]
    },
    {
      "cell_type": "code",
      "execution_count": 18,
      "outputs": [
        {
          "output_type": "display_data",
          "data": {
            "application/vnd.livy.statement-meta+json": {
              "spark_pool": "sparkpool03",
              "session_id": 17,
              "statement_id": 18,
              "state": "finished",
              "livy_statement_state": "available",
              "queued_time": "2022-04-09T08:34:32.1797811Z",
              "session_start_time": null,
              "execution_start_time": "2022-04-09T08:34:32.5424483Z",
              "execution_finish_time": "2022-04-09T08:34:55.6351018Z"
            },
            "text/plain": "StatementMeta(sparkpool03, 17, 18, Finished, Available)"
          },
          "metadata": {}
        },
        {
          "output_type": "execute_result",
          "data": {
            "application/vnd.synapse.sparksql-result+json": {
              "schema": {
                "type": "struct",
                "fields": []
              },
              "data": []
            },
            "text/plain": "<Spark SQL result set with 0 rows and 0 fields>"
          },
          "execution_count": 18,
          "metadata": {}
        }
      ],
      "metadata": {
        "jupyter": {
          "source_hidden": false,
          "outputs_hidden": false
        },
        "nteract": {
          "transient": {
            "deleting": false
          }
        },
        "microsoft": {
          "language": "sparksql"
        },
        "collapsed": false
      },
      "source": [
        "%%sql\r\n",
        "MERGE INTO aw_product_model\r\n",
        "USING merge\r\n",
        "ON aw_product_model.ProductModelID = merge.ProductModelID\r\n",
        "WHEN MATCHED THEN UPDATE SET *\r\n",
        "WHEN NOT MATCHED THEN INSERT *"
      ]
    },
    {
      "cell_type": "code",
      "execution_count": 19,
      "outputs": [
        {
          "output_type": "display_data",
          "data": {
            "application/vnd.livy.statement-meta+json": {
              "spark_pool": "sparkpool03",
              "session_id": 17,
              "statement_id": 19,
              "state": "finished",
              "livy_statement_state": "available",
              "queued_time": "2022-04-09T08:35:03.703997Z",
              "session_start_time": null,
              "execution_start_time": "2022-04-09T08:35:04.2191552Z",
              "execution_finish_time": "2022-04-09T08:35:07.7810711Z"
            },
            "text/plain": "StatementMeta(sparkpool03, 17, 19, Finished, Available)"
          },
          "metadata": {}
        },
        {
          "output_type": "execute_result",
          "data": {
            "application/vnd.synapse.sparksql-result+json": {
              "schema": {
                "type": "struct",
                "fields": [
                  {
                    "name": "version",
                    "type": "long",
                    "nullable": true,
                    "metadata": {}
                  },
                  {
                    "name": "timestamp",
                    "type": "timestamp",
                    "nullable": true,
                    "metadata": {}
                  },
                  {
                    "name": "userId",
                    "type": "string",
                    "nullable": true,
                    "metadata": {}
                  },
                  {
                    "name": "userName",
                    "type": "string",
                    "nullable": true,
                    "metadata": {}
                  },
                  {
                    "name": "operation",
                    "type": "string",
                    "nullable": true,
                    "metadata": {}
                  },
                  {
                    "name": "operationParameters",
                    "type": {
                      "type": "map",
                      "keyType": "string",
                      "valueType": "string",
                      "valueContainsNull": true
                    },
                    "nullable": true,
                    "metadata": {}
                  },
                  {
                    "name": "job",
                    "type": {
                      "type": "struct",
                      "fields": [
                        {
                          "name": "jobId",
                          "type": "string",
                          "nullable": true,
                          "metadata": {}
                        },
                        {
                          "name": "jobName",
                          "type": "string",
                          "nullable": true,
                          "metadata": {}
                        },
                        {
                          "name": "runId",
                          "type": "string",
                          "nullable": true,
                          "metadata": {}
                        },
                        {
                          "name": "jobOwnerId",
                          "type": "string",
                          "nullable": true,
                          "metadata": {}
                        },
                        {
                          "name": "triggerType",
                          "type": "string",
                          "nullable": true,
                          "metadata": {}
                        }
                      ]
                    },
                    "nullable": true,
                    "metadata": {}
                  },
                  {
                    "name": "notebook",
                    "type": {
                      "type": "struct",
                      "fields": [
                        {
                          "name": "notebookId",
                          "type": "string",
                          "nullable": true,
                          "metadata": {}
                        }
                      ]
                    },
                    "nullable": true,
                    "metadata": {}
                  },
                  {
                    "name": "clusterId",
                    "type": "string",
                    "nullable": true,
                    "metadata": {}
                  },
                  {
                    "name": "readVersion",
                    "type": "long",
                    "nullable": true,
                    "metadata": {}
                  },
                  {
                    "name": "isolationLevel",
                    "type": "string",
                    "nullable": true,
                    "metadata": {}
                  },
                  {
                    "name": "isBlindAppend",
                    "type": "boolean",
                    "nullable": true,
                    "metadata": {}
                  },
                  {
                    "name": "operationMetrics",
                    "type": {
                      "type": "map",
                      "keyType": "string",
                      "valueType": "string",
                      "valueContainsNull": true
                    },
                    "nullable": true,
                    "metadata": {}
                  },
                  {
                    "name": "userMetadata",
                    "type": "string",
                    "nullable": true,
                    "metadata": {}
                  }
                ]
              },
              "data": [
                [
                  "1",
                  "2022-04-09T08:34:50Z",
                  null,
                  null,
                  "MERGE",
                  {
                    "predicate": "(spark_catalog.default.aw_product_model.`ProductModelID` = merge.`ProductModelID`)",
                    "matchedPredicates": "[{\"actionType\":\"update\"}]",
                    "notMatchedPredicates": "[{\"actionType\":\"insert\"}]"
                  },
                  null,
                  null,
                  null,
                  "0",
                  null,
                  false,
                  {
                    "numTargetRowsCopied": "0",
                    "numTargetRowsDeleted": "0",
                    "numTargetFilesAdded": "104",
                    "executionTimeMs": "16163",
                    "numTargetRowsInserted": "164",
                    "scanTimeMs": "5788",
                    "numTargetRowsUpdated": "0",
                    "numOutputRows": "164",
                    "numSourceRows": "164",
                    "numTargetFilesRemoved": "0",
                    "rewriteTimeMs": "10335"
                  },
                  null
                ],
                [
                  "0",
                  "2022-04-09T08:31:09Z",
                  null,
                  null,
                  "CREATE OR REPLACE TABLE",
                  {
                    "isManaged": "false",
                    "description": null,
                    "partitionBy": "[]",
                    "properties": "{}"
                  },
                  null,
                  null,
                  null,
                  null,
                  null,
                  true,
                  {},
                  null
                ]
              ]
            },
            "text/plain": "<Spark SQL result set with 2 rows and 14 fields>"
          },
          "execution_count": 19,
          "metadata": {}
        }
      ],
      "metadata": {
        "jupyter": {
          "source_hidden": false,
          "outputs_hidden": false
        },
        "nteract": {
          "transient": {
            "deleting": false
          }
        },
        "microsoft": {
          "language": "sparksql"
        },
        "collapsed": false
      },
      "source": [
        "%%sql\r\n",
        "-- Retrieve the version/change history of the Delta table\r\n",
        "DESCRIBE HISTORY aw_product_model"
      ]
    },
    {
      "cell_type": "code",
      "execution_count": 20,
      "outputs": [
        {
          "output_type": "display_data",
          "data": {
            "application/vnd.livy.statement-meta+json": {
              "spark_pool": "sparkpool03",
              "session_id": 17,
              "statement_id": 20,
              "state": "finished",
              "livy_statement_state": "available",
              "queued_time": "2022-04-09T08:35:07.3163429Z",
              "session_start_time": null,
              "execution_start_time": "2022-04-09T08:35:08.1426823Z",
              "execution_finish_time": "2022-04-09T08:35:15.3501655Z"
            },
            "text/plain": "StatementMeta(sparkpool03, 17, 20, Finished, Available)"
          },
          "metadata": {}
        },
        {
          "output_type": "execute_result",
          "data": {
            "application/vnd.synapse.sparksql-result+json": {
              "schema": {
                "type": "struct",
                "fields": [
                  {
                    "name": "ProductModelID",
                    "type": "string",
                    "nullable": false,
                    "metadata": {}
                  },
                  {
                    "name": "Name",
                    "type": "string",
                    "nullable": true,
                    "metadata": {}
                  },
                  {
                    "name": "CatalogDescription",
                    "type": "string",
                    "nullable": true,
                    "metadata": {}
                  },
                  {
                    "name": "rowguid",
                    "type": "string",
                    "nullable": true,
                    "metadata": {}
                  },
                  {
                    "name": "ModifiedDate",
                    "type": "string",
                    "nullable": true,
                    "metadata": {}
                  }
                ]
              },
              "data": [
                [
                  "1",
                  "Classic Vest",
                  "",
                  "29321d47-1e4c-4aac-887c-19634328c25e",
                  "2007-06-01 00:00:00.0000000"
                ]
              ]
            },
            "text/plain": "<Spark SQL result set with 1 rows and 5 fields>"
          },
          "execution_count": 20,
          "metadata": {}
        }
      ],
      "metadata": {
        "jupyter": {
          "source_hidden": false,
          "outputs_hidden": false
        },
        "nteract": {
          "transient": {
            "deleting": false
          }
        },
        "microsoft": {
          "language": "sparksql"
        },
        "collapsed": false
      },
      "source": [
        "%%sql\r\n",
        "SELECT *\r\n",
        "FROM aw_product_model\r\n",
        "where ProductModelID = 1"
      ]
    },
    {
      "cell_type": "code",
      "execution_count": 21,
      "outputs": [
        {
          "output_type": "display_data",
          "data": {
            "application/vnd.livy.statement-meta+json": {
              "spark_pool": "sparkpool03",
              "session_id": 17,
              "statement_id": 21,
              "state": "finished",
              "livy_statement_state": "available",
              "queued_time": "2022-04-09T08:35:11.1088735Z",
              "session_start_time": null,
              "execution_start_time": "2022-04-09T08:35:15.7386116Z",
              "execution_finish_time": "2022-04-09T08:35:18.8982926Z"
            },
            "text/plain": "StatementMeta(sparkpool03, 17, 21, Finished, Available)"
          },
          "metadata": {}
        },
        {
          "output_type": "stream",
          "name": "stdout",
          "text": [
            "+--------------------+--------------------+--------------------+--------------------+--------------------+\n|      ProductModelID|                Name|  CatalogDescription|             rowguid|        ModifiedDate|\n+--------------------+--------------------+--------------------+--------------------+--------------------+\n|                 ...|                    |                    |                    |                    |\n|                 ...|                    |                    |                    |                    |\n|                 ...|                    |                    |                    |                    |\n|                 ...|                    |                    |                    |                    |\n|                  34|        Touring-1000|<?xml-stylesheet ...|                    |                    |\n|                  19|        Mountain-100|<?xml-stylesheet ...|                    |                    |\n|                 ...|                    |                    |                    |                    |\n|                 ...|                    |                    |                    |                    |\n|                 ...| durable wheels s...| ground-breaking ...|                    |                    |\n|                  84|HL Road Seat/Sadd...|                    |0d3a6ad7-6891-4de...|2007-06-01 00:00:...|\n|                 ...|8456bb94-b4dd-4a4...|2005-06-01 00:00:...|                    |                    |\n|                 ...|866dbad3-5999-432...|2006-11-20 09:56:...|                    |                    |\n|                 ...|52e7f2c1-dbff-451...|2006-11-20 09:56:...|                    |                    |\n|                  16|       ML Road Frame|                    |3494e8ff-7daf-486...|2005-06-01 00:00:...|\n|                  35|        Touring-2000|<?xml-stylesheet ...|                    |                    |\n|                  52|LL Mountain Handl...|                    |699c2ac5-5406-46d...|2006-06-01 00:00:...|\n|                 ...|                    |                    |                    |                    |\n|                  29|          Road-550-W|                    |f85f84f2-9ce0-4ec...|2006-06-01 00:00:...|\n|                  69|       ML Road Pedal|                    |3cdf61d6-6209-436...|2007-06-01 00:00:...|\n|\t\t\t to add pannie...|                    |                    |                    |                    |\n+--------------------+--------------------+--------------------+--------------------+--------------------+\nonly showing top 20 rows"
          ]
        }
      ],
      "metadata": {
        "jupyter": {
          "source_hidden": false,
          "outputs_hidden": false
        },
        "nteract": {
          "transient": {
            "deleting": false
          }
        }
      },
      "source": [
        "# Load a previous version of the DELTA_Employees table into a dataframe\r\n",
        "df = spark.read.format(\"delta\").option(\"versionAsOf\", 1).load(\"abfss://enriched@csresearchdpolaplakest.dfs.core.windows.net/erpcore/AdventureWorks/ProductModel\")\r\n",
        "df.show()"
      ]
    },
    {
      "cell_type": "code",
      "execution_count": 22,
      "outputs": [
        {
          "output_type": "display_data",
          "data": {
            "application/vnd.livy.statement-meta+json": {
              "spark_pool": "sparkpool03",
              "session_id": 17,
              "statement_id": 22,
              "state": "finished",
              "livy_statement_state": "available",
              "queued_time": "2022-04-09T08:35:14.6738168Z",
              "session_start_time": null,
              "execution_start_time": "2022-04-09T08:35:19.3463935Z",
              "execution_finish_time": "2022-04-09T08:35:19.7984514Z"
            },
            "text/plain": "StatementMeta(sparkpool03, 17, 22, Finished, Available)"
          },
          "metadata": {}
        },
        {
          "output_type": "display_data",
          "data": {
            "application/vnd.synapse.widget-view+json": {
              "widget_id": "511ebad2-4ac7-4d38-9585-7079a65eec94",
              "widget_type": "Synapse.DataFrame"
            },
            "text/plain": "SynapseWidget(Synapse.DataFrame, 511ebad2-4ac7-4d38-9585-7079a65eec94)"
          },
          "metadata": {}
        }
      ],
      "metadata": {
        "jupyter": {
          "source_hidden": false,
          "outputs_hidden": false
        },
        "nteract": {
          "transient": {
            "deleting": false
          }
        },
        "collapsed": false
      },
      "source": [
        "display(spark.read.text(\"abfss://enriched@csresearchdpolaplakest.dfs.core.windows.net/erpcore/AdventureWorks/ProductModel/_delta_log/00000000000000000000.json\"))"
      ]
    }
  ]
}