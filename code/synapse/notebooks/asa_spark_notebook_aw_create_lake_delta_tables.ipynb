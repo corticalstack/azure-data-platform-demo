{
  "nbformat": 4,
  "nbformat_minor": 2,
  "metadata": {
    "kernelspec": {
      "name": "synapse_pyspark",
      "display_name": "Synapse PySpark"
    },
    "language_info": {
      "name": "python"
    },
    "description": null,
    "save_output": true,
    "synapse_widget": {
      "version": "0.1",
      "state": {}
    }
  },
  "cells": [
    {
      "cell_type": "code",
      "execution_count": 16,
      "outputs": [
        {
          "output_type": "display_data",
          "data": {
            "application/vnd.livy.statement-meta+json": {
              "spark_pool": "sparkpool01",
              "session_id": 16,
              "statement_id": 10,
              "state": "finished",
              "livy_statement_state": "available",
              "queued_time": "2022-04-05T15:20:16.4456569Z",
              "session_start_time": null,
              "execution_start_time": "2022-04-05T15:20:16.8270097Z",
              "execution_finish_time": "2022-04-05T15:20:24.2314664Z"
            },
            "text/plain": "StatementMeta(sparkpool01, 16, 10, Finished, Available)"
          },
          "metadata": {}
        },
        {
          "output_type": "execute_result",
          "data": {
            "application/vnd.synapse.sparksql-result+json": {
              "schema": {
                "type": "struct",
                "fields": []
              },
              "data": []
            },
            "text/plain": "<Spark SQL result set with 0 rows and 0 fields>"
          },
          "execution_count": 16,
          "metadata": {}
        }
      ],
      "metadata": {
        "microsoft": {
          "language": "sparksql"
        },
        "collapsed": false
      },
      "source": [
        "%%sql\r\n",
        "-- Create Delta Lake tables with schema definition and location\r\n",
        "\r\n",
        "CREATE OR REPLACE TABLE aw_sales_order_header (\r\n",
        " SalesOrderID INT NOT NULL,\r\n",
        " RevisionNumber INT NOT NULL,\r\n",
        " OrderDate STRING,\r\n",
        " DueDate STRING,\r\n",
        " ShipDate STRING,\r\n",
        " Status INT,\r\n",
        " OnlineOrderFlag BOOLEAN,\r\n",
        " SalesOrderNumber STRING,\r\n",
        " PurchaseOrderNumber STRING,\r\n",
        " AccountNumber STRING,\r\n",
        " CustomerID INT,\r\n",
        " ShipToAddressID INT,\r\n",
        " BillToAddressID INT,\r\n",
        " ShipMethod STRING,\r\n",
        " CreditCardApprovalCode STRING,\r\n",
        " SubTotal NUMERIC(10,5),\r\n",
        " TaxAmt NUMERIC(10,5),\r\n",
        " Freight NUMERIC(10,5),\r\n",
        " TotalDue NUMERIC(10,5),\r\n",
        " Comment STRING,\r\n",
        " rowguid STRING,\r\n",
        " ModifiedDate STRING,\r\n",
        " OrderYear INT,\r\n",
        " OrderMonth INT\r\n",
        ")\r\n",
        "USING DELTA\r\n",
        "-- specify data lake folder location\r\n",
        "LOCATION 'abfss://enriched@csresearchdpolaplakest.dfs.core.windows.net/erpcore/AdventureWorks/SalesOrderHeader'\r\n",
        "\r\n",
        "\r\n",
        "\r\n",
        "\r\n",
        ""
      ]
    },
    {
      "cell_type": "code",
      "execution_count": 15,
      "outputs": [
        {
          "output_type": "display_data",
          "data": {
            "application/vnd.livy.statement-meta+json": {
              "spark_pool": "sparkpool01",
              "session_id": 16,
              "statement_id": 9,
              "state": "finished",
              "livy_statement_state": "available",
              "queued_time": "2022-04-05T15:19:49.9792141Z",
              "session_start_time": null,
              "execution_start_time": "2022-04-05T15:19:50.3612037Z",
              "execution_finish_time": "2022-04-05T15:19:54.4978701Z"
            },
            "text/plain": "StatementMeta(sparkpool01, 16, 9, Finished, Available)"
          },
          "metadata": {}
        },
        {
          "output_type": "execute_result",
          "data": {
            "application/vnd.synapse.sparksql-result+json": {
              "schema": {
                "type": "struct",
                "fields": []
              },
              "data": []
            },
            "text/plain": "<Spark SQL result set with 0 rows and 0 fields>"
          },
          "execution_count": 15,
          "metadata": {}
        }
      ],
      "metadata": {
        "jupyter": {
          "source_hidden": false,
          "outputs_hidden": false
        },
        "nteract": {
          "transient": {
            "deleting": false
          }
        },
        "microsoft": {
          "language": "sparksql"
        },
        "collapsed": false
      },
      "source": [
        "%%sql\r\n",
        "drop table aw_sales_order_header"
      ]
    },
    {
      "cell_type": "code",
      "execution_count": 1,
      "outputs": [
        {
          "output_type": "display_data",
          "data": {
            "application/vnd.livy.statement-meta+json": {
              "spark_pool": "sparkpool01",
              "session_id": 18,
              "statement_id": 0,
              "state": "finished",
              "livy_statement_state": "available",
              "queued_time": "2022-04-07T11:26:06.1944461Z",
              "session_start_time": "2022-04-07T11:26:06.2424557Z",
              "execution_start_time": "2022-04-07T11:28:38.3692921Z",
              "execution_finish_time": "2022-04-07T11:29:37.4026128Z"
            },
            "text/plain": "StatementMeta(sparkpool01, 18, 0, Finished, Available)"
          },
          "metadata": {}
        },
        {
          "output_type": "execute_result",
          "data": {
            "application/vnd.synapse.sparksql-result+json": {
              "schema": {
                "type": "struct",
                "fields": []
              },
              "data": []
            },
            "text/plain": "<Spark SQL result set with 0 rows and 0 fields>"
          },
          "execution_count": 1,
          "metadata": {}
        }
      ],
      "metadata": {
        "jupyter": {
          "source_hidden": false,
          "outputs_hidden": false
        },
        "nteract": {
          "transient": {
            "deleting": false
          }
        },
        "microsoft": {
          "language": "sparksql"
        },
        "collapsed": false
      },
      "source": [
        "%%sql\r\n",
        "\r\n",
        "CREATE OR REPLACE TABLE aw_sales_order_detail (\r\n",
        " SalesOrderID INT NOT NULL,\r\n",
        " SalesOrderDetailID INT NOT NULL,\r\n",
        " OrderQty int NOT NULL,\r\n",
        " ProductID int NOT NULL,\r\n",
        " UnitPrice NUMERIC(10,5) NOT NULL,\r\n",
        " UnitPriceDiscount NUMERIC(10,5) NOT NULL,\r\n",
        " LineTotal NUMERIC(38,6),\r\n",
        " rowguid STRING,\r\n",
        " ModifiedDate STRING\r\n",
        ")\r\n",
        "USING DELTA\r\n",
        "-- specify data lake folder location\r\n",
        "LOCATION 'abfss://enriched@csresearchdpolaplakest.dfs.core.windows.net/erpcore/AdventureWorks/SalesOrderDetail'"
      ]
    },
    {
      "cell_type": "code",
      "execution_count": 3,
      "outputs": [
        {
          "output_type": "display_data",
          "data": {
            "application/vnd.livy.statement-meta+json": {
              "spark_pool": "sparkpool01",
              "session_id": 19,
              "statement_id": 0,
              "state": "finished",
              "livy_statement_state": "available",
              "queued_time": "2022-04-07T12:09:12.4334322Z",
              "session_start_time": "2022-04-07T12:09:12.4778632Z",
              "execution_start_time": "2022-04-07T12:10:03.644208Z",
              "execution_finish_time": "2022-04-07T12:10:49.5259114Z"
            },
            "text/plain": "StatementMeta(sparkpool01, 19, 0, Finished, Available)"
          },
          "metadata": {}
        },
        {
          "output_type": "execute_result",
          "data": {
            "application/vnd.synapse.sparksql-result+json": {
              "schema": {
                "type": "struct",
                "fields": []
              },
              "data": []
            },
            "text/plain": "<Spark SQL result set with 0 rows and 0 fields>"
          },
          "execution_count": 3,
          "metadata": {}
        }
      ],
      "metadata": {
        "jupyter": {
          "source_hidden": false,
          "outputs_hidden": false
        },
        "nteract": {
          "transient": {
            "deleting": false
          }
        },
        "microsoft": {
          "language": "sparksql"
        },
        "collapsed": false
      },
      "source": [
        "%%sql\r\n",
        "\r\n",
        "CREATE OR REPLACE TABLE aw_customer (\r\n",
        " CustomerID INT NOT NULL,\r\n",
        " NameStyle BOOLEAN,\r\n",
        " Title STRING,\r\n",
        " FirstName STRING,\r\n",
        " MiddleName STRING,\r\n",
        " LastName STRING,\r\n",
        " Suffix STRING,\r\n",
        " CompanyName STRING,\r\n",
        " SalesPerson STRING,\r\n",
        " EmailAddress STRING,\r\n",
        " Phone STRING,\r\n",
        " PasswordHash STRING,\r\n",
        " PasswordSalt STRING,\r\n",
        " rowguid STRING,\r\n",
        " ModifiedDate STRING\r\n",
        ")\r\n",
        "USING DELTA\r\n",
        "-- specify data lake folder location\r\n",
        "LOCATION 'abfss://enriched@csresearchdpolaplakest.dfs.core.windows.net/erpcore/AdventureWorks/Customer'\r\n",
        ""
      ]
    },
    {
      "cell_type": "code",
      "execution_count": 4,
      "outputs": [
        {
          "output_type": "display_data",
          "data": {
            "application/vnd.livy.statement-meta+json": {
              "spark_pool": "sparkpool01",
              "session_id": 21,
              "statement_id": 3,
              "state": "finished",
              "livy_statement_state": "available",
              "queued_time": "2022-04-09T09:36:43.7542223Z",
              "session_start_time": null,
              "execution_start_time": "2022-04-09T09:36:44.1492876Z",
              "execution_finish_time": "2022-04-09T09:36:57.2942623Z"
            },
            "text/plain": "StatementMeta(sparkpool01, 21, 3, Finished, Available)"
          },
          "metadata": {}
        },
        {
          "output_type": "execute_result",
          "data": {
            "application/vnd.synapse.sparksql-result+json": {
              "schema": {
                "type": "struct",
                "fields": []
              },
              "data": []
            },
            "text/plain": "<Spark SQL result set with 0 rows and 0 fields>"
          },
          "execution_count": 4,
          "metadata": {}
        }
      ],
      "metadata": {
        "jupyter": {
          "source_hidden": false,
          "outputs_hidden": false
        },
        "nteract": {
          "transient": {
            "deleting": false
          }
        },
        "microsoft": {
          "language": "sparksql"
        },
        "collapsed": false
      },
      "source": [
        "%%sql\r\n",
        "CREATE OR REPLACE TABLE aw_product (\r\n",
        " ProductID INT NOT NULL,\r\n",
        " Name STRING,\r\n",
        " ProductNumber STRING,\r\n",
        " Color STRING,\r\n",
        " StandardCost NUMERIC(10,5),\r\n",
        " ListPrice NUMERIC(10,5),\r\n",
        " Size STRING,\r\n",
        " Weight NUMERIC(10,5),\r\n",
        " ProductCategoryID INT,\r\n",
        " ProductModelID INT,\r\n",
        " SellStartDate STRING,\r\n",
        " SellEndDate STRING,\r\n",
        " DiscontinuedDate STRING,\r\n",
        " ThumbNailPhoto STRING,\r\n",
        " ThumbnailPhotoFileName STRING,\r\n",
        " rowguid STRING,\r\n",
        " ModifiedDate STRING\r\n",
        ")\r\n",
        "USING DELTA\r\n",
        "-- specify data lake folder location\r\n",
        "LOCATION 'abfss://enriched@csresearchdpolaplakest.dfs.core.windows.net/erpcore/AdventureWorks/Product'\r\n",
        ""
      ]
    },
    {
      "cell_type": "code",
      "execution_count": 3,
      "outputs": [
        {
          "output_type": "display_data",
          "data": {
            "application/vnd.livy.statement-meta+json": {
              "spark_pool": "sparkpool01",
              "session_id": 20,
              "statement_id": 2,
              "state": "finished",
              "livy_statement_state": "available",
              "queued_time": "2022-04-09T08:21:29.7191602Z",
              "session_start_time": null,
              "execution_start_time": "2022-04-09T08:21:30.1646097Z",
              "execution_finish_time": "2022-04-09T08:21:45.1432865Z"
            },
            "text/plain": "StatementMeta(sparkpool01, 20, 2, Finished, Available)"
          },
          "metadata": {}
        },
        {
          "output_type": "execute_result",
          "data": {
            "application/vnd.synapse.sparksql-result+json": {
              "schema": {
                "type": "struct",
                "fields": []
              },
              "data": []
            },
            "text/plain": "<Spark SQL result set with 0 rows and 0 fields>"
          },
          "execution_count": 3,
          "metadata": {}
        }
      ],
      "metadata": {
        "jupyter": {
          "source_hidden": false,
          "outputs_hidden": false
        },
        "nteract": {
          "transient": {
            "deleting": false
          }
        },
        "microsoft": {
          "language": "sparksql"
        },
        "collapsed": false
      },
      "source": [
        "%%sql\r\n",
        "\r\n",
        "CREATE OR REPLACE TABLE aw_product_category (\r\n",
        " ProductCategoryID INT NOT NULL,\r\n",
        " ParentProductCategoryID INT,\r\n",
        " Name STRING,\r\n",
        " rowguid STRING,\r\n",
        " ModifiedDate STRING\r\n",
        ")\r\n",
        "USING DELTA\r\n",
        "-- specify data lake folder location\r\n",
        "LOCATION 'abfss://enriched@csresearchdpolaplakest.dfs.core.windows.net/erpcore/AdventureWorks/ProductCategory'"
      ]
    },
    {
      "cell_type": "code",
      "execution_count": 4,
      "outputs": [
        {
          "output_type": "display_data",
          "data": {
            "application/vnd.livy.statement-meta+json": {
              "spark_pool": "sparkpool01",
              "session_id": 20,
              "statement_id": 3,
              "state": "finished",
              "livy_statement_state": "available",
              "queued_time": "2022-04-09T08:31:07.676243Z",
              "session_start_time": null,
              "execution_start_time": "2022-04-09T08:31:08.0963808Z",
              "execution_finish_time": "2022-04-09T08:31:15.8277766Z"
            },
            "text/plain": "StatementMeta(sparkpool01, 20, 3, Finished, Available)"
          },
          "metadata": {}
        },
        {
          "output_type": "execute_result",
          "data": {
            "application/vnd.synapse.sparksql-result+json": {
              "schema": {
                "type": "struct",
                "fields": []
              },
              "data": []
            },
            "text/plain": "<Spark SQL result set with 0 rows and 0 fields>"
          },
          "execution_count": 4,
          "metadata": {}
        }
      ],
      "metadata": {
        "jupyter": {
          "source_hidden": false,
          "outputs_hidden": false
        },
        "nteract": {
          "transient": {
            "deleting": false
          }
        },
        "microsoft": {
          "language": "sparksql"
        },
        "collapsed": false
      },
      "source": [
        "%%sql\r\n",
        "\r\n",
        "CREATE OR REPLACE TABLE aw_product_model (\r\n",
        " ProductModelID STRING NOT NULL,\r\n",
        " Name STRING,\r\n",
        " CatalogDescription STRING,\r\n",
        " rowguid STRING,\r\n",
        " ModifiedDate STRING\r\n",
        ")\r\n",
        "USING DELTA\r\n",
        "-- specify data lake folder location\r\n",
        "LOCATION 'abfss://enriched@csresearchdpolaplakest.dfs.core.windows.net/erpcore/AdventureWorks/ProductModel'"
      ]
    },
    {
      "cell_type": "code",
      "execution_count": 1,
      "outputs": [
        {
          "output_type": "display_data",
          "data": {
            "application/vnd.livy.statement-meta+json": {
              "spark_pool": "sparkpool01",
              "session_id": 21,
              "statement_id": 0,
              "state": "finished",
              "livy_statement_state": "available",
              "queued_time": "2022-04-09T09:31:38.2353407Z",
              "session_start_time": "2022-04-09T09:31:38.2856055Z",
              "execution_start_time": "2022-04-09T09:34:05.5352502Z",
              "execution_finish_time": "2022-04-09T09:35:09.9583637Z"
            },
            "text/plain": "StatementMeta(sparkpool01, 21, 0, Finished, Available)"
          },
          "metadata": {}
        },
        {
          "output_type": "execute_result",
          "data": {
            "application/vnd.synapse.sparksql-result+json": {
              "schema": {
                "type": "struct",
                "fields": []
              },
              "data": []
            },
            "text/plain": "<Spark SQL result set with 0 rows and 0 fields>"
          },
          "execution_count": 1,
          "metadata": {}
        }
      ],
      "metadata": {
        "jupyter": {
          "source_hidden": false,
          "outputs_hidden": false
        },
        "nteract": {
          "transient": {
            "deleting": false
          }
        },
        "microsoft": {
          "language": "sparksql"
        },
        "collapsed": false
      },
      "source": [
        "%%sql\r\n",
        "drop table aw_product"
      ]
    }
  ]
}