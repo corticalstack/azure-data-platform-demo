{
  "nbformat": 4,
  "nbformat_minor": 2,
  "metadata": {
    "kernelspec": {
      "name": "synapse_pyspark",
      "display_name": "Synapse PySpark"
    },
    "language_info": {
      "name": "python"
    },
    "description": null,
    "save_output": true,
    "synapse_widget": {
      "version": "0.1",
      "state": {
        "3c3b74cf-77a9-4b15-a8f0-4cc5a41b7e95": {
          "type": "Synapse.DataFrame",
          "sync_state": {
            "table": {
              "rows": [
                {
                  "0": "abfss://raw@csresearchdpolaplakest.dfs.core.windows.net/erpcore/AdventureWorks/ProductCategory/Year=2022/Month=04/Day=07/Time=10:23:41/ProductCategory.csv",
                  "1": "ProductCategory.csv",
                  "2": "3453"
                }
              ],
              "schema": [
                {
                  "key": "0",
                  "name": "path",
                  "type": "string"
                },
                {
                  "key": "1",
                  "name": "name",
                  "type": "string"
                },
                {
                  "key": "2",
                  "name": "size",
                  "type": "bigint"
                }
              ],
              "truncated": false
            },
            "isSummary": false,
            "language": "scala"
          },
          "persist_state": {
            "view": {
              "type": "details",
              "tableOptions": {},
              "chartOptions": {
                "chartType": "bar",
                "aggregationType": "sum",
                "categoryFieldKeys": [
                  "0"
                ],
                "seriesFieldKeys": [
                  "2"
                ],
                "isStacked": false
              }
            }
          }
        },
        "892f72f5-7971-4403-aecc-b52d2d228cac": {
          "type": "Synapse.DataFrame",
          "sync_state": {
            "table": {
              "rows": [
                {
                  "0": "1",
                  "2": "Bikes",
                  "3": "cfbda25c-df71-47a7-b81b-64ee161aa37c",
                  "4": "2002-06-01 00:00:00.0000000"
                },
                {
                  "0": "2",
                  "2": "Components",
                  "3": "c657828d-d808-4aba-91a3-af2ce02300e9",
                  "4": "2002-06-01 00:00:00.0000000"
                },
                {
                  "0": "3",
                  "2": "Clothing",
                  "3": "10a7c342-ca82-48d4-8a38-46a2eb089b74",
                  "4": "2002-06-01 00:00:00.0000000"
                },
                {
                  "0": "4",
                  "2": "Accessories",
                  "3": "2be3be36-d9a2-4eee-b593-ed895d97c2a6",
                  "4": "2002-06-01 00:00:00.0000000"
                },
                {
                  "0": "5",
                  "1": "1",
                  "2": "Mountain Bikes",
                  "3": "2d364ade-264a-433c-b092-4fcbf3804e01",
                  "4": "2002-06-01 00:00:00.0000000"
                },
                {
                  "0": "6",
                  "1": "1",
                  "2": "Road Bikes",
                  "3": "000310c0-bcc8-42c4-b0c3-45ae611af06b",
                  "4": "2002-06-01 00:00:00.0000000"
                },
                {
                  "0": "7",
                  "1": "1",
                  "2": "Touring Bikes",
                  "3": "02c5061d-ecdc-4274-b5f1-e91d76bc3f37",
                  "4": "2002-06-01 00:00:00.0000000"
                },
                {
                  "0": "8",
                  "1": "2",
                  "2": "Handlebars",
                  "3": "3ef2c725-7135-4c85-9ae6-ae9a3bdd9283",
                  "4": "2002-06-01 00:00:00.0000000"
                },
                {
                  "0": "9",
                  "1": "2",
                  "2": "Bottom Brackets",
                  "3": "a9e54089-8a1e-4cf5-8646-e3801f685934",
                  "4": "2002-06-01 00:00:00.0000000"
                },
                {
                  "0": "10",
                  "1": "2",
                  "2": "Brakes",
                  "3": "d43ba4a3-ef0d-426b-90eb-4be4547dd30c",
                  "4": "2002-06-01 00:00:00.0000000"
                }
              ],
              "schema": [
                {
                  "key": "0",
                  "name": "ProductCategoryID",
                  "type": "int"
                },
                {
                  "key": "1",
                  "name": "ParentProductCategoryID",
                  "type": "int"
                },
                {
                  "key": "2",
                  "name": "Name",
                  "type": "string"
                },
                {
                  "key": "3",
                  "name": "rowguid",
                  "type": "string"
                },
                {
                  "key": "4",
                  "name": "ModifiedDate",
                  "type": "string"
                }
              ],
              "truncated": false
            },
            "isSummary": false,
            "language": "scala"
          },
          "persist_state": {
            "view": {
              "type": "details",
              "tableOptions": {},
              "chartOptions": {
                "chartType": "bar",
                "aggregationType": "sum",
                "categoryFieldKeys": [
                  "1"
                ],
                "seriesFieldKeys": [
                  "0"
                ],
                "isStacked": false
              }
            }
          }
        },
        "1b9dc2a8-99ff-445e-ac94-c5de8585c5f2": {
          "type": "Synapse.DataFrame",
          "sync_state": {
            "table": {
              "rows": [
                {
                  "0": "1",
                  "1": "0",
                  "2": "Bikes",
                  "3": "cfbda25c-df71-47a7-b81b-64ee161aa37c",
                  "4": "2002-06-01 00:00:00.0000000"
                },
                {
                  "0": "2",
                  "1": "0",
                  "2": "Components",
                  "3": "c657828d-d808-4aba-91a3-af2ce02300e9",
                  "4": "2002-06-01 00:00:00.0000000"
                },
                {
                  "0": "3",
                  "1": "0",
                  "2": "Clothing",
                  "3": "10a7c342-ca82-48d4-8a38-46a2eb089b74",
                  "4": "2002-06-01 00:00:00.0000000"
                },
                {
                  "0": "4",
                  "1": "0",
                  "2": "Accessories",
                  "3": "2be3be36-d9a2-4eee-b593-ed895d97c2a6",
                  "4": "2002-06-01 00:00:00.0000000"
                },
                {
                  "0": "5",
                  "1": "1",
                  "2": "Mountain Bikes",
                  "3": "2d364ade-264a-433c-b092-4fcbf3804e01",
                  "4": "2002-06-01 00:00:00.0000000"
                },
                {
                  "0": "6",
                  "1": "1",
                  "2": "Road Bikes",
                  "3": "000310c0-bcc8-42c4-b0c3-45ae611af06b",
                  "4": "2002-06-01 00:00:00.0000000"
                },
                {
                  "0": "7",
                  "1": "1",
                  "2": "Touring Bikes",
                  "3": "02c5061d-ecdc-4274-b5f1-e91d76bc3f37",
                  "4": "2002-06-01 00:00:00.0000000"
                },
                {
                  "0": "8",
                  "1": "2",
                  "2": "Handlebars",
                  "3": "3ef2c725-7135-4c85-9ae6-ae9a3bdd9283",
                  "4": "2002-06-01 00:00:00.0000000"
                },
                {
                  "0": "9",
                  "1": "2",
                  "2": "Bottom Brackets",
                  "3": "a9e54089-8a1e-4cf5-8646-e3801f685934",
                  "4": "2002-06-01 00:00:00.0000000"
                },
                {
                  "0": "10",
                  "1": "2",
                  "2": "Brakes",
                  "3": "d43ba4a3-ef0d-426b-90eb-4be4547dd30c",
                  "4": "2002-06-01 00:00:00.0000000"
                }
              ],
              "schema": [
                {
                  "key": "0",
                  "name": "ProductCategoryID",
                  "type": "int"
                },
                {
                  "key": "1",
                  "name": "ParentProductCategoryID",
                  "type": "int"
                },
                {
                  "key": "2",
                  "name": "Name",
                  "type": "string"
                },
                {
                  "key": "3",
                  "name": "rowguid",
                  "type": "string"
                },
                {
                  "key": "4",
                  "name": "ModifiedDate",
                  "type": "string"
                }
              ],
              "truncated": false
            },
            "isSummary": false,
            "language": "scala"
          },
          "persist_state": {
            "view": {
              "type": "details",
              "tableOptions": {},
              "chartOptions": {
                "chartType": "bar",
                "aggregationType": "sum",
                "categoryFieldKeys": [
                  "1"
                ],
                "seriesFieldKeys": [
                  "0"
                ],
                "isStacked": false
              }
            }
          }
        },
        "44a70a04-d5bc-4fed-9a29-a10569cfe95e": {
          "type": "Synapse.DataFrame",
          "sync_state": {
            "table": {
              "rows": [
                {
                  "0": "{\"commitInfo\":{\"timestamp\":1649492491326,\"operation\":\"CREATE OR REPLACE TABLE\",\"operationParameters\":{\"isManaged\":\"false\",\"description\":null,\"partitionBy\":\"[]\",\"properties\":\"{}\"},\"isBlindAppend\":true,\"operationMetrics\":{}}}"
                },
                {
                  "0": "{\"protocol\":{\"minReaderVersion\":1,\"minWriterVersion\":2}}"
                },
                {
                  "0": "{\"metaData\":{\"id\":\"da0fc0ac-48f7-49f0-83fb-69732c4556c5\",\"format\":{\"provider\":\"parquet\",\"options\":{}},\"schemaString\":\"{\\\"type\\\":\\\"struct\\\",\\\"fields\\\":[{\\\"name\\\":\\\"ProductCategoryID\\\",\\\"type\\\":\\\"integer\\\",\\\"nullable\\\":false,\\\"metadata\\\":{}},{\\\"name\\\":\\\"ParentProductCategoryID\\\",\\\"type\\\":\\\"integer\\\",\\\"nullable\\\":true,\\\"metadata\\\":{}},{\\\"name\\\":\\\"Name\\\",\\\"type\\\":\\\"string\\\",\\\"nullable\\\":true,\\\"metadata\\\":{}},{\\\"name\\\":\\\"rowguid\\\",\\\"type\\\":\\\"string\\\",\\\"nullable\\\":true,\\\"metadata\\\":{}},{\\\"name\\\":\\\"ModifiedDate\\\",\\\"type\\\":\\\"string\\\",\\\"nullable\\\":true,\\\"metadata\\\":{}}]}\",\"partitionColumns\":[],\"configuration\":{},\"createdTime\":1649492491266}}"
                }
              ],
              "schema": [
                {
                  "key": "0",
                  "name": "value",
                  "type": "string"
                }
              ],
              "truncated": false
            },
            "isSummary": false,
            "language": "scala"
          },
          "persist_state": {
            "view": {
              "type": "details",
              "tableOptions": {},
              "chartOptions": {
                "chartType": "bar",
                "aggregationType": "count",
                "categoryFieldKeys": [
                  "0"
                ],
                "seriesFieldKeys": [
                  "0"
                ],
                "isStacked": false
              }
            }
          }
        }
      }
    }
  },
  "cells": [
    {
      "cell_type": "code",
      "execution_count": 1,
      "outputs": [
        {
          "output_type": "display_data",
          "data": {
            "application/vnd.livy.statement-meta+json": {
              "spark_pool": "sparkpool03",
              "session_id": 16,
              "statement_id": 1,
              "state": "finished",
              "livy_statement_state": "available",
              "queued_time": "2022-04-09T08:15:51.4324452Z",
              "session_start_time": "2022-04-09T08:15:51.4758404Z",
              "execution_start_time": "2022-04-09T08:16:52.0262246Z",
              "execution_finish_time": "2022-04-09T08:16:53.9013514Z"
            },
            "text/plain": "StatementMeta(sparkpool03, 16, 1, Finished, Available)"
          },
          "metadata": {}
        }
      ],
      "metadata": {
        "microsoft": {
          "language": "python"
        },
        "collapsed": false
      },
      "source": [
        "%%pyspark\r\n",
        "import pandas as pd\r\n",
        "from datetime import datetime"
      ]
    },
    {
      "cell_type": "code",
      "execution_count": 2,
      "outputs": [
        {
          "output_type": "display_data",
          "data": {
            "application/vnd.livy.statement-meta+json": {
              "spark_pool": "sparkpool03",
              "session_id": 16,
              "statement_id": 2,
              "state": "finished",
              "livy_statement_state": "available",
              "queued_time": "2022-04-09T08:15:51.4343488Z",
              "session_start_time": null,
              "execution_start_time": "2022-04-09T08:16:54.3114183Z",
              "execution_finish_time": "2022-04-09T08:16:54.7651841Z"
            },
            "text/plain": "StatementMeta(sparkpool03, 16, 2, Finished, Available)"
          },
          "metadata": {}
        }
      ],
      "metadata": {
        "jupyter": {
          "source_hidden": false,
          "outputs_hidden": false
        },
        "nteract": {
          "transient": {
            "deleting": false
          }
        }
      },
      "source": [
        "def deep_ls(path: str, max_depth=1):\r\n",
        "    \"\"\"\r\n",
        "    List all files and folders in specified path and\r\n",
        "    subfolders within maximum recursion depth.\r\n",
        "    \"\"\"\r\n",
        "\r\n",
        "    # List all files in path\r\n",
        "    li = mssparkutils.fs.ls(path)\r\n",
        "\r\n",
        "    # Return all files\r\n",
        "    for x in li:\r\n",
        "        if x.size != 0:\r\n",
        "            yield x\r\n",
        "\r\n",
        "    # If the max_depth has not been reached, start\r\n",
        "    # listing files and folders in subdirectories\r\n",
        "    if max_depth > 1:\r\n",
        "        for x in li:\r\n",
        "            if x.size != 0:\r\n",
        "                continue\r\n",
        "            for y in deep_ls(x.path, max_depth - 1):\r\n",
        "                yield y\r\n",
        "\r\n",
        "    # If max_depth has been reached,\r\n",
        "    # return the folders\r\n",
        "    else:\r\n",
        "        for x in li:\r\n",
        "            if x.size == 0:\r\n",
        "                yield x\r\n",
        "\r\n",
        "def convertfiles2df(files):\r\n",
        "    \"\"\"\r\n",
        "    Converts FileInfo object into Pandas DataFrame to enable display\r\n",
        "    \"\"\"\r\n",
        "    # Disable Arrow-based transfers since the Pandas DataFrame is tiny\r\n",
        "    spark.conf.set(\"spark.sql.execution.arrow.enabled\", \"false\")\r\n",
        "\r\n",
        "    schema = ['path','name','size']\r\n",
        "    df = pd.DataFrame([[getattr(i,j) for j in schema] for i in files], columns = schema).sort_values('path')\r\n",
        "    return(df)"
      ]
    },
    {
      "cell_type": "code",
      "execution_count": 3,
      "outputs": [
        {
          "output_type": "display_data",
          "data": {
            "application/vnd.livy.statement-meta+json": {
              "spark_pool": "sparkpool03",
              "session_id": 16,
              "statement_id": 3,
              "state": "finished",
              "livy_statement_state": "available",
              "queued_time": "2022-04-09T08:15:52.9723565Z",
              "session_start_time": null,
              "execution_start_time": "2022-04-09T08:16:55.2620161Z",
              "execution_finish_time": "2022-04-09T08:16:58.301101Z"
            },
            "text/plain": "StatementMeta(sparkpool03, 16, 3, Finished, Available)"
          },
          "metadata": {}
        }
      ],
      "metadata": {
        "jupyter": {
          "source_hidden": false,
          "outputs_hidden": false
        },
        "nteract": {
          "transient": {
            "deleting": false
          }
        }
      },
      "source": [
        "root = 'abfss://raw@csresearchdpolaplakest.dfs.core.windows.net/erpcore/AdventureWorks/ProductCategory'\r\n",
        "files = list(deep_ls(root, max_depth=20))"
      ]
    },
    {
      "cell_type": "code",
      "execution_count": 4,
      "outputs": [
        {
          "output_type": "display_data",
          "data": {
            "application/vnd.livy.statement-meta+json": {
              "spark_pool": "sparkpool03",
              "session_id": 16,
              "statement_id": 4,
              "state": "finished",
              "livy_statement_state": "available",
              "queued_time": "2022-04-09T08:15:54.1840046Z",
              "session_start_time": null,
              "execution_start_time": "2022-04-09T08:16:58.6766468Z",
              "execution_finish_time": "2022-04-09T08:16:59.0996096Z"
            },
            "text/plain": "StatementMeta(sparkpool03, 16, 4, Finished, Available)"
          },
          "metadata": {}
        }
      ],
      "metadata": {
        "jupyter": {
          "source_hidden": false,
          "outputs_hidden": false
        },
        "nteract": {
          "transient": {
            "deleting": false
          }
        },
        "collapsed": false
      },
      "source": [
        "df_list_of_files = convertfiles2df(files)"
      ]
    },
    {
      "cell_type": "code",
      "execution_count": 5,
      "outputs": [
        {
          "output_type": "display_data",
          "data": {
            "application/vnd.livy.statement-meta+json": {
              "spark_pool": "sparkpool03",
              "session_id": 16,
              "statement_id": 5,
              "state": "finished",
              "livy_statement_state": "available",
              "queued_time": "2022-04-09T08:15:55.0455965Z",
              "session_start_time": null,
              "execution_start_time": "2022-04-09T08:16:59.6023703Z",
              "execution_finish_time": "2022-04-09T08:17:00.0121065Z"
            },
            "text/plain": "StatementMeta(sparkpool03, 16, 5, Finished, Available)"
          },
          "metadata": {}
        },
        {
          "output_type": "display_data",
          "data": {
            "text/plain": "Index(['path', 'name', 'size'], dtype='object')"
          },
          "metadata": {}
        }
      ],
      "metadata": {
        "jupyter": {
          "source_hidden": false,
          "outputs_hidden": false
        },
        "nteract": {
          "transient": {
            "deleting": false
          }
        }
      },
      "source": [
        "df_list_of_files.columns"
      ]
    },
    {
      "cell_type": "code",
      "execution_count": 6,
      "outputs": [
        {
          "output_type": "display_data",
          "data": {
            "application/vnd.livy.statement-meta+json": {
              "spark_pool": "sparkpool03",
              "session_id": 16,
              "statement_id": 6,
              "state": "finished",
              "livy_statement_state": "available",
              "queued_time": "2022-04-09T08:15:55.8437652Z",
              "session_start_time": null,
              "execution_start_time": "2022-04-09T08:17:00.4386617Z",
              "execution_finish_time": "2022-04-09T08:17:07.6762623Z"
            },
            "text/plain": "StatementMeta(sparkpool03, 16, 6, Finished, Available)"
          },
          "metadata": {}
        },
        {
          "output_type": "display_data",
          "data": {
            "application/vnd.synapse.widget-view+json": {
              "widget_id": "3c3b74cf-77a9-4b15-a8f0-4cc5a41b7e95",
              "widget_type": "Synapse.DataFrame"
            },
            "text/plain": "SynapseWidget(Synapse.DataFrame, 3c3b74cf-77a9-4b15-a8f0-4cc5a41b7e95)"
          },
          "metadata": {}
        }
      ],
      "metadata": {
        "jupyter": {
          "source_hidden": false,
          "outputs_hidden": false
        },
        "nteract": {
          "transient": {
            "deleting": false
          }
        },
        "collapsed": false
      },
      "source": [
        "df_list_of_files = df_list_of_files.sort_values(['path'], ascending=[False])\r\n",
        "display(df_list_of_files)"
      ]
    },
    {
      "cell_type": "code",
      "execution_count": 7,
      "outputs": [
        {
          "output_type": "display_data",
          "data": {
            "application/vnd.livy.statement-meta+json": {
              "spark_pool": "sparkpool03",
              "session_id": 16,
              "statement_id": 7,
              "state": "finished",
              "livy_statement_state": "available",
              "queued_time": "2022-04-09T08:15:57.2896588Z",
              "session_start_time": null,
              "execution_start_time": "2022-04-09T08:17:08.0707383Z",
              "execution_finish_time": "2022-04-09T08:17:08.07098Z"
            },
            "text/plain": "StatementMeta(sparkpool03, 16, 7, Finished, Available)"
          },
          "metadata": {}
        }
      ],
      "metadata": {
        "jupyter": {
          "source_hidden": false,
          "outputs_hidden": false
        },
        "nteract": {
          "transient": {
            "deleting": false
          }
        }
      },
      "source": [
        "source_path=df_list_of_files.iloc[0]['path']"
      ]
    },
    {
      "cell_type": "code",
      "execution_count": 8,
      "outputs": [
        {
          "output_type": "display_data",
          "data": {
            "application/vnd.livy.statement-meta+json": {
              "spark_pool": "sparkpool03",
              "session_id": 16,
              "statement_id": 8,
              "state": "finished",
              "livy_statement_state": "available",
              "queued_time": "2022-04-09T08:15:58.3763731Z",
              "session_start_time": null,
              "execution_start_time": "2022-04-09T08:17:08.4614899Z",
              "execution_finish_time": "2022-04-09T08:17:08.9228105Z"
            },
            "text/plain": "StatementMeta(sparkpool03, 16, 8, Finished, Available)"
          },
          "metadata": {}
        },
        {
          "output_type": "display_data",
          "data": {
            "text/plain": "'abfss://raw@csresearchdpolaplakest.dfs.core.windows.net/erpcore/AdventureWorks/ProductCategory/Year=2022/Month=04/Day=07/Time=10:23:41/ProductCategory.csv'"
          },
          "metadata": {}
        }
      ],
      "metadata": {
        "jupyter": {
          "source_hidden": false,
          "outputs_hidden": false
        },
        "nteract": {
          "transient": {
            "deleting": false
          }
        }
      },
      "source": [
        "source_path"
      ]
    },
    {
      "cell_type": "code",
      "execution_count": 9,
      "outputs": [
        {
          "output_type": "display_data",
          "data": {
            "application/vnd.livy.statement-meta+json": {
              "spark_pool": "sparkpool03",
              "session_id": 16,
              "statement_id": 9,
              "state": "finished",
              "livy_statement_state": "available",
              "queued_time": "2022-04-09T08:15:59.3964918Z",
              "session_start_time": null,
              "execution_start_time": "2022-04-09T08:17:09.3444769Z",
              "execution_finish_time": "2022-04-09T08:17:25.3960824Z"
            },
            "text/plain": "StatementMeta(sparkpool03, 16, 9, Finished, Available)"
          },
          "metadata": {}
        }
      ],
      "metadata": {
        "jupyter": {
          "source_hidden": false,
          "outputs_hidden": false
        },
        "nteract": {
          "transient": {
            "deleting": false
          }
        }
      },
      "source": [
        "df = (spark \r\n",
        "        .read\r\n",
        "        .format(\"csv\")\r\n",
        "        .option(\"inferSchema\", \"true\")\r\n",
        "        .option(\"header\",\"true\")\r\n",
        "        .load(source_path)\r\n",
        ")"
      ]
    },
    {
      "cell_type": "code",
      "execution_count": 10,
      "outputs": [
        {
          "output_type": "display_data",
          "data": {
            "application/vnd.livy.statement-meta+json": {
              "spark_pool": "sparkpool03",
              "session_id": 16,
              "statement_id": 10,
              "state": "finished",
              "livy_statement_state": "available",
              "queued_time": "2022-04-09T08:16:01.2110057Z",
              "session_start_time": null,
              "execution_start_time": "2022-04-09T08:17:25.801251Z",
              "execution_finish_time": "2022-04-09T08:17:26.9164312Z"
            },
            "text/plain": "StatementMeta(sparkpool03, 16, 10, Finished, Available)"
          },
          "metadata": {}
        },
        {
          "output_type": "stream",
          "name": "stdout",
          "text": [
            "+-----------------+-----------------------+---------------+--------------------+--------------------+\n|ProductCategoryID|ParentProductCategoryID|           Name|             rowguid|        ModifiedDate|\n+-----------------+-----------------------+---------------+--------------------+--------------------+\n|                1|                   null|          Bikes|cfbda25c-df71-47a...|2002-06-01 00:00:...|\n|                2|                   null|     Components|c657828d-d808-4ab...|2002-06-01 00:00:...|\n|                3|                   null|       Clothing|10a7c342-ca82-48d...|2002-06-01 00:00:...|\n|                4|                   null|    Accessories|2be3be36-d9a2-4ee...|2002-06-01 00:00:...|\n|                5|                      1| Mountain Bikes|2d364ade-264a-433...|2002-06-01 00:00:...|\n|                6|                      1|     Road Bikes|000310c0-bcc8-42c...|2002-06-01 00:00:...|\n|                7|                      1|  Touring Bikes|02c5061d-ecdc-427...|2002-06-01 00:00:...|\n|                8|                      2|     Handlebars|3ef2c725-7135-4c8...|2002-06-01 00:00:...|\n|                9|                      2|Bottom Brackets|a9e54089-8a1e-4cf...|2002-06-01 00:00:...|\n|               10|                      2|         Brakes|d43ba4a3-ef0d-426...|2002-06-01 00:00:...|\n|               11|                      2|         Chains|e93a7231-f16c-4b0...|2002-06-01 00:00:...|\n|               12|                      2|      Cranksets|4f644521-422b-4f1...|2002-06-01 00:00:...|\n|               13|                      2|    Derailleurs|1830d70c-aa2a-40c...|2002-06-01 00:00:...|\n|               14|                      2|          Forks|b5f9ba42-b69b-4fd...|2002-06-01 00:00:...|\n|               15|                      2|       Headsets|7c782bbe-5a16-495...|2002-06-01 00:00:...|\n|               16|                      2|Mountain Frames|61b21b65-e16a-4be...|2002-06-01 00:00:...|\n|               17|                      2|         Pedals|6d24ac07-7a84-484...|2002-06-01 00:00:...|\n|               18|                      2|    Road Frames|5515f857-075b-4f9...|2002-06-01 00:00:...|\n|               19|                      2|        Saddles|049fffa3-9d30-46d...|2002-06-01 00:00:...|\n|               20|                      2| Touring Frames|d2e3f1a8-56c4-4f3...|2002-06-01 00:00:...|\n+-----------------+-----------------------+---------------+--------------------+--------------------+\nonly showing top 20 rows"
          ]
        }
      ],
      "metadata": {
        "jupyter": {
          "source_hidden": false,
          "outputs_hidden": false
        },
        "nteract": {
          "transient": {
            "deleting": false
          }
        }
      },
      "source": [
        "df.show()"
      ]
    },
    {
      "cell_type": "code",
      "execution_count": 11,
      "outputs": [
        {
          "output_type": "display_data",
          "data": {
            "application/vnd.livy.statement-meta+json": {
              "spark_pool": "sparkpool03",
              "session_id": 16,
              "statement_id": 11,
              "state": "finished",
              "livy_statement_state": "available",
              "queued_time": "2022-04-09T08:16:03.8889631Z",
              "session_start_time": null,
              "execution_start_time": "2022-04-09T08:17:27.3018561Z",
              "execution_finish_time": "2022-04-09T08:17:28.4856866Z"
            },
            "text/plain": "StatementMeta(sparkpool03, 16, 11, Finished, Available)"
          },
          "metadata": {}
        },
        {
          "output_type": "display_data",
          "data": {
            "application/vnd.synapse.widget-view+json": {
              "widget_id": "892f72f5-7971-4403-aecc-b52d2d228cac",
              "widget_type": "Synapse.DataFrame"
            },
            "text/plain": "SynapseWidget(Synapse.DataFrame, 892f72f5-7971-4403-aecc-b52d2d228cac)"
          },
          "metadata": {}
        }
      ],
      "metadata": {
        "jupyter": {
          "source_hidden": false,
          "outputs_hidden": false
        },
        "nteract": {
          "transient": {
            "deleting": false
          }
        },
        "collapsed": false
      },
      "source": [
        "display(df.limit(10))"
      ]
    },
    {
      "cell_type": "code",
      "execution_count": 12,
      "outputs": [
        {
          "output_type": "display_data",
          "data": {
            "application/vnd.livy.statement-meta+json": {
              "spark_pool": "sparkpool03",
              "session_id": 16,
              "statement_id": 12,
              "state": "finished",
              "livy_statement_state": "available",
              "queued_time": "2022-04-09T08:16:07.3478886Z",
              "session_start_time": null,
              "execution_start_time": "2022-04-09T08:17:28.9340964Z",
              "execution_finish_time": "2022-04-09T08:17:30.1484774Z"
            },
            "text/plain": "StatementMeta(sparkpool03, 16, 12, Finished, Available)"
          },
          "metadata": {}
        },
        {
          "output_type": "display_data",
          "data": {
            "text/plain": "41"
          },
          "metadata": {}
        }
      ],
      "metadata": {
        "jupyter": {
          "source_hidden": false,
          "outputs_hidden": false
        },
        "nteract": {
          "transient": {
            "deleting": false
          }
        }
      },
      "source": [
        "df.count()"
      ]
    },
    {
      "cell_type": "code",
      "execution_count": 13,
      "outputs": [
        {
          "output_type": "display_data",
          "data": {
            "application/vnd.livy.statement-meta+json": {
              "spark_pool": "sparkpool03",
              "session_id": 16,
              "statement_id": 13,
              "state": "finished",
              "livy_statement_state": "available",
              "queued_time": "2022-04-09T08:16:08.5956664Z",
              "session_start_time": null,
              "execution_start_time": "2022-04-09T08:17:30.6036591Z",
              "execution_finish_time": "2022-04-09T08:17:31.070232Z"
            },
            "text/plain": "StatementMeta(sparkpool03, 16, 13, Finished, Available)"
          },
          "metadata": {}
        },
        {
          "output_type": "stream",
          "name": "stdout",
          "text": [
            "root\n |-- ProductCategoryID: integer (nullable = true)\n |-- ParentProductCategoryID: integer (nullable = true)\n |-- Name: string (nullable = true)\n |-- rowguid: string (nullable = true)\n |-- ModifiedDate: string (nullable = true)"
          ]
        }
      ],
      "metadata": {
        "jupyter": {
          "source_hidden": false,
          "outputs_hidden": false
        },
        "nteract": {
          "transient": {
            "deleting": false
          }
        }
      },
      "source": [
        "df.printSchema()"
      ]
    },
    {
      "cell_type": "code",
      "execution_count": 14,
      "outputs": [
        {
          "output_type": "display_data",
          "data": {
            "application/vnd.livy.statement-meta+json": {
              "spark_pool": "sparkpool03",
              "session_id": 16,
              "statement_id": 14,
              "state": "finished",
              "livy_statement_state": "available",
              "queued_time": "2022-04-09T08:16:13.8981076Z",
              "session_start_time": null,
              "execution_start_time": "2022-04-09T08:17:31.444444Z",
              "execution_finish_time": "2022-04-09T08:17:31.8950922Z"
            },
            "text/plain": "StatementMeta(sparkpool03, 16, 14, Finished, Available)"
          },
          "metadata": {}
        }
      ],
      "metadata": {
        "jupyter": {
          "source_hidden": false,
          "outputs_hidden": false
        },
        "nteract": {
          "transient": {
            "deleting": false
          }
        }
      },
      "source": [
        "# Replace null values with zero\r\n",
        "df = df.na.fill(0)"
      ]
    },
    {
      "cell_type": "code",
      "execution_count": 15,
      "outputs": [
        {
          "output_type": "display_data",
          "data": {
            "application/vnd.livy.statement-meta+json": {
              "spark_pool": "sparkpool03",
              "session_id": 16,
              "statement_id": 15,
              "state": "finished",
              "livy_statement_state": "available",
              "queued_time": "2022-04-09T08:16:14.7016092Z",
              "session_start_time": null,
              "execution_start_time": "2022-04-09T08:17:32.2919929Z",
              "execution_finish_time": "2022-04-09T08:17:32.712985Z"
            },
            "text/plain": "StatementMeta(sparkpool03, 16, 15, Finished, Available)"
          },
          "metadata": {}
        }
      ],
      "metadata": {
        "jupyter": {
          "source_hidden": false,
          "outputs_hidden": false
        },
        "nteract": {
          "transient": {
            "deleting": false
          }
        }
      },
      "source": [
        "# Replace null strings with empty\r\n",
        "df = df.na.fill(\"\")"
      ]
    },
    {
      "cell_type": "code",
      "execution_count": 16,
      "outputs": [
        {
          "output_type": "display_data",
          "data": {
            "application/vnd.livy.statement-meta+json": {
              "spark_pool": "sparkpool03",
              "session_id": 16,
              "statement_id": 16,
              "state": "finished",
              "livy_statement_state": "available",
              "queued_time": "2022-04-09T08:16:16.3076451Z",
              "session_start_time": null,
              "execution_start_time": "2022-04-09T08:17:33.1214205Z",
              "execution_finish_time": "2022-04-09T08:17:34.2790323Z"
            },
            "text/plain": "StatementMeta(sparkpool03, 16, 16, Finished, Available)"
          },
          "metadata": {}
        },
        {
          "output_type": "display_data",
          "data": {
            "application/vnd.synapse.widget-view+json": {
              "widget_id": "1b9dc2a8-99ff-445e-ac94-c5de8585c5f2",
              "widget_type": "Synapse.DataFrame"
            },
            "text/plain": "SynapseWidget(Synapse.DataFrame, 1b9dc2a8-99ff-445e-ac94-c5de8585c5f2)"
          },
          "metadata": {}
        }
      ],
      "metadata": {
        "jupyter": {
          "source_hidden": false,
          "outputs_hidden": false
        },
        "nteract": {
          "transient": {
            "deleting": false
          }
        },
        "collapsed": false
      },
      "source": [
        "display(df.limit(10))"
      ]
    },
    {
      "cell_type": "code",
      "execution_count": 17,
      "outputs": [
        {
          "output_type": "display_data",
          "data": {
            "application/vnd.livy.statement-meta+json": {
              "spark_pool": "sparkpool03",
              "session_id": 16,
              "statement_id": 17,
              "state": "finished",
              "livy_statement_state": "available",
              "queued_time": "2022-04-09T08:22:46.3725561Z",
              "session_start_time": null,
              "execution_start_time": "2022-04-09T08:22:48.8302623Z",
              "execution_finish_time": "2022-04-09T08:22:51.1137038Z"
            },
            "text/plain": "StatementMeta(sparkpool03, 16, 17, Finished, Available)"
          },
          "metadata": {}
        }
      ],
      "metadata": {
        "jupyter": {
          "source_hidden": false,
          "outputs_hidden": false
        },
        "nteract": {
          "transient": {
            "deleting": false
          }
        }
      },
      "source": [
        "# Create temp views to easily query with Spark SQL\r\n",
        "\r\n",
        "df.createOrReplaceTempView('merge')"
      ]
    },
    {
      "cell_type": "code",
      "execution_count": 18,
      "outputs": [
        {
          "output_type": "display_data",
          "data": {
            "application/vnd.livy.statement-meta+json": {
              "spark_pool": "sparkpool03",
              "session_id": 16,
              "statement_id": 18,
              "state": "finished",
              "livy_statement_state": "available",
              "queued_time": "2022-04-09T08:22:52.4418365Z",
              "session_start_time": null,
              "execution_start_time": "2022-04-09T08:22:52.8102276Z",
              "execution_finish_time": "2022-04-09T08:23:33.2164829Z"
            },
            "text/plain": "StatementMeta(sparkpool03, 16, 18, Finished, Available)"
          },
          "metadata": {}
        },
        {
          "output_type": "execute_result",
          "data": {
            "application/vnd.synapse.sparksql-result+json": {
              "schema": {
                "type": "struct",
                "fields": []
              },
              "data": []
            },
            "text/plain": "<Spark SQL result set with 0 rows and 0 fields>"
          },
          "execution_count": 18,
          "metadata": {}
        }
      ],
      "metadata": {
        "jupyter": {
          "source_hidden": false,
          "outputs_hidden": false
        },
        "nteract": {
          "transient": {
            "deleting": false
          }
        },
        "microsoft": {
          "language": "sparksql"
        },
        "collapsed": false
      },
      "source": [
        "%%sql\r\n",
        "MERGE INTO aw_product_category\r\n",
        "USING merge\r\n",
        "ON aw_product_category.ProductCategoryID = merge.ProductCategoryID\r\n",
        "WHEN MATCHED THEN UPDATE SET *\r\n",
        "WHEN NOT MATCHED THEN INSERT *"
      ]
    },
    {
      "cell_type": "code",
      "execution_count": 19,
      "outputs": [
        {
          "output_type": "display_data",
          "data": {
            "application/vnd.livy.statement-meta+json": {
              "spark_pool": "sparkpool03",
              "session_id": 16,
              "statement_id": 19,
              "state": "finished",
              "livy_statement_state": "available",
              "queued_time": "2022-04-09T08:22:56.1207114Z",
              "session_start_time": null,
              "execution_start_time": "2022-04-09T08:23:33.6024154Z",
              "execution_finish_time": "2022-04-09T08:23:38.0461847Z"
            },
            "text/plain": "StatementMeta(sparkpool03, 16, 19, Finished, Available)"
          },
          "metadata": {}
        },
        {
          "output_type": "execute_result",
          "data": {
            "application/vnd.synapse.sparksql-result+json": {
              "schema": {
                "type": "struct",
                "fields": [
                  {
                    "name": "version",
                    "type": "long",
                    "nullable": true,
                    "metadata": {}
                  },
                  {
                    "name": "timestamp",
                    "type": "timestamp",
                    "nullable": true,
                    "metadata": {}
                  },
                  {
                    "name": "userId",
                    "type": "string",
                    "nullable": true,
                    "metadata": {}
                  },
                  {
                    "name": "userName",
                    "type": "string",
                    "nullable": true,
                    "metadata": {}
                  },
                  {
                    "name": "operation",
                    "type": "string",
                    "nullable": true,
                    "metadata": {}
                  },
                  {
                    "name": "operationParameters",
                    "type": {
                      "type": "map",
                      "keyType": "string",
                      "valueType": "string",
                      "valueContainsNull": true
                    },
                    "nullable": true,
                    "metadata": {}
                  },
                  {
                    "name": "job",
                    "type": {
                      "type": "struct",
                      "fields": [
                        {
                          "name": "jobId",
                          "type": "string",
                          "nullable": true,
                          "metadata": {}
                        },
                        {
                          "name": "jobName",
                          "type": "string",
                          "nullable": true,
                          "metadata": {}
                        },
                        {
                          "name": "runId",
                          "type": "string",
                          "nullable": true,
                          "metadata": {}
                        },
                        {
                          "name": "jobOwnerId",
                          "type": "string",
                          "nullable": true,
                          "metadata": {}
                        },
                        {
                          "name": "triggerType",
                          "type": "string",
                          "nullable": true,
                          "metadata": {}
                        }
                      ]
                    },
                    "nullable": true,
                    "metadata": {}
                  },
                  {
                    "name": "notebook",
                    "type": {
                      "type": "struct",
                      "fields": [
                        {
                          "name": "notebookId",
                          "type": "string",
                          "nullable": true,
                          "metadata": {}
                        }
                      ]
                    },
                    "nullable": true,
                    "metadata": {}
                  },
                  {
                    "name": "clusterId",
                    "type": "string",
                    "nullable": true,
                    "metadata": {}
                  },
                  {
                    "name": "readVersion",
                    "type": "long",
                    "nullable": true,
                    "metadata": {}
                  },
                  {
                    "name": "isolationLevel",
                    "type": "string",
                    "nullable": true,
                    "metadata": {}
                  },
                  {
                    "name": "isBlindAppend",
                    "type": "boolean",
                    "nullable": true,
                    "metadata": {}
                  },
                  {
                    "name": "operationMetrics",
                    "type": {
                      "type": "map",
                      "keyType": "string",
                      "valueType": "string",
                      "valueContainsNull": true
                    },
                    "nullable": true,
                    "metadata": {}
                  },
                  {
                    "name": "userMetadata",
                    "type": "string",
                    "nullable": true,
                    "metadata": {}
                  }
                ]
              },
              "data": [
                [
                  "1",
                  "2022-04-09T08:23:28Z",
                  null,
                  null,
                  "MERGE",
                  {
                    "predicate": "(spark_catalog.default.aw_product_category.`ProductCategoryID` = merge.`ProductCategoryID`)",
                    "matchedPredicates": "[{\"actionType\":\"update\"}]",
                    "notMatchedPredicates": "[{\"actionType\":\"insert\"}]"
                  },
                  null,
                  null,
                  null,
                  "0",
                  null,
                  false,
                  {
                    "numTargetRowsCopied": "0",
                    "numTargetRowsDeleted": "0",
                    "numTargetFilesAdded": "36",
                    "executionTimeMs": "13074",
                    "numTargetRowsInserted": "41",
                    "scanTimeMs": "5498",
                    "numTargetRowsUpdated": "0",
                    "numOutputRows": "41",
                    "numSourceRows": "41",
                    "numTargetFilesRemoved": "0",
                    "rewriteTimeMs": "7530"
                  },
                  null
                ],
                [
                  "0",
                  "2022-04-09T08:21:31Z",
                  null,
                  null,
                  "CREATE OR REPLACE TABLE",
                  {
                    "isManaged": "false",
                    "description": null,
                    "partitionBy": "[]",
                    "properties": "{}"
                  },
                  null,
                  null,
                  null,
                  null,
                  null,
                  true,
                  {},
                  null
                ]
              ]
            },
            "text/plain": "<Spark SQL result set with 2 rows and 14 fields>"
          },
          "execution_count": 19,
          "metadata": {}
        }
      ],
      "metadata": {
        "jupyter": {
          "source_hidden": false,
          "outputs_hidden": false
        },
        "nteract": {
          "transient": {
            "deleting": false
          }
        },
        "microsoft": {
          "language": "sparksql"
        },
        "collapsed": false
      },
      "source": [
        "%%sql\r\n",
        "-- Retrieve the version/change history of the Delta table\r\n",
        "DESCRIBE HISTORY aw_product_category"
      ]
    },
    {
      "cell_type": "code",
      "execution_count": 21,
      "outputs": [
        {
          "output_type": "display_data",
          "data": {
            "application/vnd.livy.statement-meta+json": {
              "spark_pool": "sparkpool03",
              "session_id": 16,
              "statement_id": 21,
              "state": "finished",
              "livy_statement_state": "available",
              "queued_time": "2022-04-09T08:24:24.772843Z",
              "session_start_time": null,
              "execution_start_time": "2022-04-09T08:24:25.3752433Z",
              "execution_finish_time": "2022-04-09T08:24:28.2973072Z"
            },
            "text/plain": "StatementMeta(sparkpool03, 16, 21, Finished, Available)"
          },
          "metadata": {}
        },
        {
          "output_type": "execute_result",
          "data": {
            "application/vnd.synapse.sparksql-result+json": {
              "schema": {
                "type": "struct",
                "fields": [
                  {
                    "name": "ProductCategoryID",
                    "type": "integer",
                    "nullable": false,
                    "metadata": {}
                  },
                  {
                    "name": "ParentProductCategoryID",
                    "type": "integer",
                    "nullable": true,
                    "metadata": {}
                  },
                  {
                    "name": "Name",
                    "type": "string",
                    "nullable": true,
                    "metadata": {}
                  },
                  {
                    "name": "rowguid",
                    "type": "string",
                    "nullable": true,
                    "metadata": {}
                  },
                  {
                    "name": "ModifiedDate",
                    "type": "string",
                    "nullable": true,
                    "metadata": {}
                  }
                ]
              },
              "data": [
                [
                  1,
                  0,
                  "Bikes",
                  "cfbda25c-df71-47a7-b81b-64ee161aa37c",
                  "2002-06-01 00:00:00.0000000"
                ]
              ]
            },
            "text/plain": "<Spark SQL result set with 1 rows and 5 fields>"
          },
          "execution_count": 21,
          "metadata": {}
        }
      ],
      "metadata": {
        "jupyter": {
          "source_hidden": false,
          "outputs_hidden": false
        },
        "nteract": {
          "transient": {
            "deleting": false
          }
        },
        "microsoft": {
          "language": "sparksql"
        },
        "collapsed": false
      },
      "source": [
        "%%sql\r\n",
        "SELECT *\r\n",
        "FROM aw_product_category\r\n",
        "where ProductCategoryID = 1"
      ]
    },
    {
      "cell_type": "code",
      "execution_count": 22,
      "outputs": [
        {
          "output_type": "display_data",
          "data": {
            "application/vnd.livy.statement-meta+json": {
              "spark_pool": "sparkpool03",
              "session_id": 16,
              "statement_id": 22,
              "state": "finished",
              "livy_statement_state": "available",
              "queued_time": "2022-04-09T08:24:31.4688965Z",
              "session_start_time": null,
              "execution_start_time": "2022-04-09T08:24:31.8352964Z",
              "execution_finish_time": "2022-04-09T08:24:35.0885639Z"
            },
            "text/plain": "StatementMeta(sparkpool03, 16, 22, Finished, Available)"
          },
          "metadata": {}
        },
        {
          "output_type": "stream",
          "name": "stdout",
          "text": [
            "+-----------------+-----------------------+-----------------+--------------------+--------------------+\n|ProductCategoryID|ParentProductCategoryID|             Name|             rowguid|        ModifiedDate|\n+-----------------+-----------------------+-----------------+--------------------+--------------------+\n|               32|                      4|Bottles and Cages|9b7dff41-9fa3-477...|2002-06-01 00:00:...|\n|               41|                      4|  Tires and Tubes|3c17c9ae-e906-48b...|2002-06-01 00:00:...|\n|               36|                      4|  Hydration Packs|646a8906-fc87-426...|2002-06-01 00:00:...|\n|                5|                      1|   Mountain Bikes|2d364ade-264a-433...|2002-06-01 00:00:...|\n|                7|                      1|    Touring Bikes|02c5061d-ecdc-427...|2002-06-01 00:00:...|\n|               31|                      4|      Bike Stands|43b445c8-b820-424...|2002-06-01 00:00:...|\n|               13|                      2|      Derailleurs|1830d70c-aa2a-40c...|2002-06-01 00:00:...|\n|                4|                      0|      Accessories|2be3be36-d9a2-4ee...|2002-06-01 00:00:...|\n|               18|                      2|      Road Frames|5515f857-075b-4f9...|2002-06-01 00:00:...|\n|                2|                      0|       Components|c657828d-d808-4ab...|2002-06-01 00:00:...|\n|               30|                      4|       Bike Racks|4624b5ce-66d6-496...|2002-06-01 00:00:...|\n|               22|                      3|       Bib-Shorts|67b58d2b-5798-4a9...|2002-06-01 00:00:...|\n|                8|                      2|       Handlebars|3ef2c725-7135-4c8...|2002-06-01 00:00:...|\n|               12|                      2|        Cranksets|4f644521-422b-4f1...|2002-06-01 00:00:...|\n|                3|                      0|         Clothing|10a7c342-ca82-48d...|2002-06-01 00:00:...|\n|               15|                      2|         Headsets|7c782bbe-5a16-495...|2002-06-01 00:00:...|\n|               25|                      3|          Jerseys|09e91437-ba4f-4b1...|2002-06-01 00:00:...|\n|               19|                      2|          Saddles|049fffa3-9d30-46d...|2002-06-01 00:00:...|\n|               34|                      4|          Fenders|1697f8a2-0a08-488...|2002-06-01 00:00:...|\n|               35|                      4|          Helmets|f5e07a33-c9e0-439...|2002-06-01 00:00:...|\n+-----------------+-----------------------+-----------------+--------------------+--------------------+\nonly showing top 20 rows"
          ]
        }
      ],
      "metadata": {
        "jupyter": {
          "source_hidden": false,
          "outputs_hidden": false
        },
        "nteract": {
          "transient": {
            "deleting": false
          }
        }
      },
      "source": [
        "# Load a previous version of the DELTA_Employees table into a dataframe\r\n",
        "df = spark.read.format(\"delta\").option(\"versionAsOf\", 1).load(\"abfss://enriched@csresearchdpolaplakest.dfs.core.windows.net/erpcore/AdventureWorks/ProductCategory\")\r\n",
        "df.show()"
      ]
    },
    {
      "cell_type": "code",
      "execution_count": 23,
      "outputs": [
        {
          "output_type": "display_data",
          "data": {
            "application/vnd.livy.statement-meta+json": {
              "spark_pool": "sparkpool03",
              "session_id": 16,
              "statement_id": 23,
              "state": "finished",
              "livy_statement_state": "available",
              "queued_time": "2022-04-09T08:24:35.1966396Z",
              "session_start_time": null,
              "execution_start_time": "2022-04-09T08:24:35.650054Z",
              "execution_finish_time": "2022-04-09T08:24:36.1168682Z"
            },
            "text/plain": "StatementMeta(sparkpool03, 16, 23, Finished, Available)"
          },
          "metadata": {}
        },
        {
          "output_type": "display_data",
          "data": {
            "application/vnd.synapse.widget-view+json": {
              "widget_id": "44a70a04-d5bc-4fed-9a29-a10569cfe95e",
              "widget_type": "Synapse.DataFrame"
            },
            "text/plain": "SynapseWidget(Synapse.DataFrame, 44a70a04-d5bc-4fed-9a29-a10569cfe95e)"
          },
          "metadata": {}
        }
      ],
      "metadata": {
        "jupyter": {
          "source_hidden": false,
          "outputs_hidden": false
        },
        "nteract": {
          "transient": {
            "deleting": false
          }
        },
        "collapsed": false
      },
      "source": [
        "display(spark.read.text(\"abfss://enriched@csresearchdpolaplakest.dfs.core.windows.net/erpcore/AdventureWorks/ProductCategory/_delta_log/00000000000000000000.json\"))"
      ]
    }
  ]
}